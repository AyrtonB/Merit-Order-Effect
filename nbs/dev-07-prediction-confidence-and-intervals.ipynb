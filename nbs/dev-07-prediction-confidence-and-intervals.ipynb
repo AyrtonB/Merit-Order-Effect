{
 "cells": [
  {
   "cell_type": "markdown",
   "metadata": {},
   "source": [
    "# Prediction & Confidence Intervals"
   ]
  },
  {
   "cell_type": "markdown",
   "metadata": {},
   "source": [
    "[![Binder](https://notebooks.gesis.org/binder/badge_logo.svg)](https://notebooks.gesis.org/binder/v2/gh/AyrtonB/Merit-Order-Effect/main?filepath=nbs%2Fdev-07-prediction-confidence-and-intervals.ipynb)\n",
    "\n",
    "This notebook outlines the calculation of the prediction and confidence intervals for the GB and DE price MOE models\n",
    "\n",
    "<br>\n",
    "\n",
    "### Imports"
   ]
  },
  {
   "cell_type": "code",
   "execution_count": 1,
   "metadata": {},
   "outputs": [],
   "source": [
    "import numpy as np\n",
    "import pandas as pd\n",
    "\n",
    "import pickle\n",
    "\n",
    "import matplotlib.pyplot as plt\n",
    "\n",
    "from moepy import lowess, eda\n",
    "from moepy.surface import PicklableFunction\n",
    "\n",
    "from ipypb import track"
   ]
  },
  {
   "cell_type": "markdown",
   "metadata": {},
   "source": [
    "<br>\n",
    "\n",
    "### Great Britain\n",
    "\n",
    "We'll start by loading and cleaning the data for GB"
   ]
  },
  {
   "cell_type": "code",
   "execution_count": 2,
   "metadata": {},
   "outputs": [],
   "source": [
    "df_EI = eda.load_EI_df('../data/raw/electric_insights.csv')\n",
    "df_EI_model = df_EI[['day_ahead_price', 'demand', 'solar', 'wind']].dropna()\n",
    "\n",
    "s_price = df_EI_model['day_ahead_price']\n",
    "s_dispatchable = df_EI_model['demand'] - df_EI_model[['solar', 'wind']].sum(axis=1)"
   ]
  },
  {
   "cell_type": "markdown",
   "metadata": {},
   "source": [
    "<br>\n",
    "\n",
    "We'll then calculate the estimate for the 68% prediction interval"
   ]
  },
  {
   "cell_type": "code",
   "execution_count": 3,
   "metadata": {},
   "outputs": [],
   "source": [
    "def get_pred_intvl(low_q_fp, high_q_fp):\n",
    "    \"\"\"Calculates the prediction interval between the low and high quantile models specified\"\"\"\n",
    "    smooth_dates_low = pickle.load(open(low_q_fp, 'rb'))\n",
    "    smooth_dates_high = pickle.load(open(high_q_fp, 'rb'))\n",
    "\n",
    "    x_pred = np.linspace(3, 61, 581)\n",
    "    dt_pred = pd.date_range('2009-01-01', '2020-12-31', freq='1D')\n",
    "\n",
    "    df_pred_low = smooth_dates_low.predict(x_pred=x_pred, dt_pred=dt_pred)\n",
    "    df_pred_low.index = np.round(df_pred_low.index, 1)\n",
    "\n",
    "    df_pred_high = smooth_dates_high.predict(x_pred=x_pred, dt_pred=dt_pred)\n",
    "    df_pred_high.index = np.round(df_pred_high.index, 1)\n",
    "\n",
    "    df_pred_intvl = df_pred_high - df_pred_low\n",
    "    \n",
    "    return df_pred_intvl"
   ]
  },
  {
   "cell_type": "code",
   "execution_count": 4,
   "metadata": {},
   "outputs": [
    {
     "name": "stdout",
     "output_type": "stream",
     "text": [
      "Wall time: 11.4 s\n"
     ]
    },
    {
     "data": {
      "text/html": [
       "<div>\n",
       "<style scoped>\n",
       "    .dataframe tbody tr th:only-of-type {\n",
       "        vertical-align: middle;\n",
       "    }\n",
       "\n",
       "    .dataframe tbody tr th {\n",
       "        vertical-align: top;\n",
       "    }\n",
       "\n",
       "    .dataframe thead th {\n",
       "        text-align: right;\n",
       "    }\n",
       "</style>\n",
       "<table border=\"1\" class=\"dataframe\">\n",
       "  <thead>\n",
       "    <tr style=\"text-align: right;\">\n",
       "      <th></th>\n",
       "      <th>2009-01-01</th>\n",
       "      <th>2009-01-02</th>\n",
       "      <th>2009-01-03</th>\n",
       "      <th>2009-01-04</th>\n",
       "      <th>2009-01-05</th>\n",
       "      <th>2009-01-06</th>\n",
       "      <th>2009-01-07</th>\n",
       "      <th>2009-01-08</th>\n",
       "      <th>2009-01-09</th>\n",
       "      <th>2009-01-10</th>\n",
       "      <th>...</th>\n",
       "      <th>2020-12-22</th>\n",
       "      <th>2020-12-23</th>\n",
       "      <th>2020-12-24</th>\n",
       "      <th>2020-12-25</th>\n",
       "      <th>2020-12-26</th>\n",
       "      <th>2020-12-27</th>\n",
       "      <th>2020-12-28</th>\n",
       "      <th>2020-12-29</th>\n",
       "      <th>2020-12-30</th>\n",
       "      <th>2020-12-31</th>\n",
       "    </tr>\n",
       "  </thead>\n",
       "  <tbody>\n",
       "    <tr>\n",
       "      <th>3.0</th>\n",
       "      <td>-4.778777</td>\n",
       "      <td>-4.801472</td>\n",
       "      <td>-4.823926</td>\n",
       "      <td>-4.846139</td>\n",
       "      <td>-4.868108</td>\n",
       "      <td>-4.889820</td>\n",
       "      <td>-4.911257</td>\n",
       "      <td>-4.932405</td>\n",
       "      <td>-4.953249</td>\n",
       "      <td>-4.973776</td>\n",
       "      <td>...</td>\n",
       "      <td>41.477796</td>\n",
       "      <td>41.484073</td>\n",
       "      <td>41.490365</td>\n",
       "      <td>41.496673</td>\n",
       "      <td>41.502995</td>\n",
       "      <td>41.509330</td>\n",
       "      <td>41.515677</td>\n",
       "      <td>41.522036</td>\n",
       "      <td>41.528405</td>\n",
       "      <td>41.534784</td>\n",
       "    </tr>\n",
       "    <tr>\n",
       "      <th>3.1</th>\n",
       "      <td>-4.737781</td>\n",
       "      <td>-4.760513</td>\n",
       "      <td>-4.783006</td>\n",
       "      <td>-4.805258</td>\n",
       "      <td>-4.827267</td>\n",
       "      <td>-4.849019</td>\n",
       "      <td>-4.870497</td>\n",
       "      <td>-4.891687</td>\n",
       "      <td>-4.912574</td>\n",
       "      <td>-4.933144</td>\n",
       "      <td>...</td>\n",
       "      <td>41.304409</td>\n",
       "      <td>41.310674</td>\n",
       "      <td>41.316956</td>\n",
       "      <td>41.323253</td>\n",
       "      <td>41.329564</td>\n",
       "      <td>41.335888</td>\n",
       "      <td>41.342225</td>\n",
       "      <td>41.348573</td>\n",
       "      <td>41.354931</td>\n",
       "      <td>41.361298</td>\n",
       "    </tr>\n",
       "    <tr>\n",
       "      <th>3.2</th>\n",
       "      <td>-4.696562</td>\n",
       "      <td>-4.719330</td>\n",
       "      <td>-4.741860</td>\n",
       "      <td>-4.764150</td>\n",
       "      <td>-4.786198</td>\n",
       "      <td>-4.807989</td>\n",
       "      <td>-4.829508</td>\n",
       "      <td>-4.850738</td>\n",
       "      <td>-4.871666</td>\n",
       "      <td>-4.892278</td>\n",
       "      <td>...</td>\n",
       "      <td>41.131211</td>\n",
       "      <td>41.137466</td>\n",
       "      <td>41.143737</td>\n",
       "      <td>41.150023</td>\n",
       "      <td>41.156324</td>\n",
       "      <td>41.162637</td>\n",
       "      <td>41.168963</td>\n",
       "      <td>41.175300</td>\n",
       "      <td>41.181647</td>\n",
       "      <td>41.188003</td>\n",
       "    </tr>\n",
       "    <tr>\n",
       "      <th>3.3</th>\n",
       "      <td>-4.655069</td>\n",
       "      <td>-4.677873</td>\n",
       "      <td>-4.700438</td>\n",
       "      <td>-4.722765</td>\n",
       "      <td>-4.744850</td>\n",
       "      <td>-4.766679</td>\n",
       "      <td>-4.788237</td>\n",
       "      <td>-4.809507</td>\n",
       "      <td>-4.830475</td>\n",
       "      <td>-4.851128</td>\n",
       "      <td>...</td>\n",
       "      <td>40.958244</td>\n",
       "      <td>40.964488</td>\n",
       "      <td>40.970749</td>\n",
       "      <td>40.977024</td>\n",
       "      <td>40.983314</td>\n",
       "      <td>40.989616</td>\n",
       "      <td>40.995931</td>\n",
       "      <td>41.002257</td>\n",
       "      <td>41.008594</td>\n",
       "      <td>41.014939</td>\n",
       "    </tr>\n",
       "    <tr>\n",
       "      <th>3.4</th>\n",
       "      <td>-4.613256</td>\n",
       "      <td>-4.636093</td>\n",
       "      <td>-4.658693</td>\n",
       "      <td>-4.681055</td>\n",
       "      <td>-4.703175</td>\n",
       "      <td>-4.725041</td>\n",
       "      <td>-4.746636</td>\n",
       "      <td>-4.767944</td>\n",
       "      <td>-4.788951</td>\n",
       "      <td>-4.809643</td>\n",
       "      <td>...</td>\n",
       "      <td>40.785545</td>\n",
       "      <td>40.791779</td>\n",
       "      <td>40.798029</td>\n",
       "      <td>40.804294</td>\n",
       "      <td>40.810573</td>\n",
       "      <td>40.816865</td>\n",
       "      <td>40.823169</td>\n",
       "      <td>40.829484</td>\n",
       "      <td>40.835810</td>\n",
       "      <td>40.842145</td>\n",
       "    </tr>\n",
       "  </tbody>\n",
       "</table>\n",
       "<p>5 rows × 4383 columns</p>\n",
       "</div>"
      ],
      "text/plain": [
       "     2009-01-01  2009-01-02  2009-01-03  2009-01-04  2009-01-05  2009-01-06  \\\n",
       "3.0   -4.778777   -4.801472   -4.823926   -4.846139   -4.868108   -4.889820   \n",
       "3.1   -4.737781   -4.760513   -4.783006   -4.805258   -4.827267   -4.849019   \n",
       "3.2   -4.696562   -4.719330   -4.741860   -4.764150   -4.786198   -4.807989   \n",
       "3.3   -4.655069   -4.677873   -4.700438   -4.722765   -4.744850   -4.766679   \n",
       "3.4   -4.613256   -4.636093   -4.658693   -4.681055   -4.703175   -4.725041   \n",
       "\n",
       "     2009-01-07  2009-01-08  2009-01-09  2009-01-10  ...  2020-12-22  \\\n",
       "3.0   -4.911257   -4.932405   -4.953249   -4.973776  ...   41.477796   \n",
       "3.1   -4.870497   -4.891687   -4.912574   -4.933144  ...   41.304409   \n",
       "3.2   -4.829508   -4.850738   -4.871666   -4.892278  ...   41.131211   \n",
       "3.3   -4.788237   -4.809507   -4.830475   -4.851128  ...   40.958244   \n",
       "3.4   -4.746636   -4.767944   -4.788951   -4.809643  ...   40.785545   \n",
       "\n",
       "     2020-12-23  2020-12-24  2020-12-25  2020-12-26  2020-12-27  2020-12-28  \\\n",
       "3.0   41.484073   41.490365   41.496673   41.502995   41.509330   41.515677   \n",
       "3.1   41.310674   41.316956   41.323253   41.329564   41.335888   41.342225   \n",
       "3.2   41.137466   41.143737   41.150023   41.156324   41.162637   41.168963   \n",
       "3.3   40.964488   40.970749   40.977024   40.983314   40.989616   40.995931   \n",
       "3.4   40.791779   40.798029   40.804294   40.810573   40.816865   40.823169   \n",
       "\n",
       "     2020-12-29  2020-12-30  2020-12-31  \n",
       "3.0   41.522036   41.528405   41.534784  \n",
       "3.1   41.348573   41.354931   41.361298  \n",
       "3.2   41.175300   41.181647   41.188003  \n",
       "3.3   41.002257   41.008594   41.014939  \n",
       "3.4   40.829484   40.835810   40.842145  \n",
       "\n",
       "[5 rows x 4383 columns]"
      ]
     },
     "execution_count": 4,
     "metadata": {},
     "output_type": "execute_result"
    }
   ],
   "source": [
    "%%time\n",
    "\n",
    "df_pred_68pct_intvl_GB = get_pred_intvl('../data/models/DAM_price_GB_p16.pkl', '../data/models/DAM_price_GB_p84.pkl')\n",
    "\n",
    "df_pred_68pct_intvl_GB.head()"
   ]
  },
  {
   "cell_type": "markdown",
   "metadata": {},
   "source": [
    "<br>\n",
    "\n",
    "We can see that we get some quantile crossing at the extreme ends of the dispatch curve which is why some of our 68% interval values are negative, to counter this we'll weight our prediction interval by how often that part of the dispatch curve is where the price clears at."
   ]
  },
  {
   "cell_type": "code",
   "execution_count": 5,
   "metadata": {},
   "outputs": [
    {
     "name": "stdout",
     "output_type": "stream",
     "text": [
      "The 68% prediction interval for GB is 16.32 £/MWh\n"
     ]
    }
   ],
   "source": [
    "s_pred_idx_weight = s_dispatchable.round(1).value_counts().sort_index()\n",
    "dispatchable_gen_idxs = sorted(list(set(s_pred_idx_weight.index).intersection(df_pred_68pct_intvl_GB.index)))\n",
    "\n",
    "pred_68pct_intvl = np.average(df_pred_68pct_intvl_GB.mean(axis=1).loc[dispatchable_gen_idxs], weights=s_pred_idx_weight.loc[dispatchable_gen_idxs])\n",
    "\n",
    "print(f'The 68% prediction interval for GB is {round(pred_68pct_intvl, 2)} £/MWh')"
   ]
  },
  {
   "cell_type": "markdown",
   "metadata": {},
   "source": [
    "<br>\n",
    "\n",
    "We'll use our bootstrapping helper function to calculate the confidence interval of the GB model"
   ]
  },
  {
   "cell_type": "code",
   "execution_count": 6,
   "metadata": {},
   "outputs": [],
   "source": [
    "%%capture\n",
    "\n",
    "center_dts = pd.date_range(s_price.index.min(), s_price.index.max(), freq='3MS') + pd.Timedelta(days=45)\n",
    "\n",
    "all_conf_intvl_95pct = []\n",
    "\n",
    "for center_dt in track(center_dts):\n",
    "    s_price_subset = s_price[center_dt-pd.Timedelta(days=45):center_dt+pd.Timedelta(days=45)]\n",
    "    s_dispatchable_subset = s_dispatchable[center_dt-pd.Timedelta(days=45):center_dt+pd.Timedelta(days=45)]\n",
    "\n",
    "    df_bootstrap = lowess.bootstrap_model(s_price_subset.values, s_dispatchable_subset.values, num_runs=100, frac=0.3, num_fits=10)\n",
    "    conf_intvl_95pct = df_bootstrap.replace(0, np.nan).quantile([0.025, 0.975], axis=1).diff().dropna(how='all').mean(axis=1).iloc[0]\n",
    "    \n",
    "    all_conf_intvl_95pct += [conf_intvl_95pct]\n",
    "    \n",
    "conf_intvl_95pct_GB = np.array(all_conf_intvl_95pct).mean()"
   ]
  },
  {
   "cell_type": "code",
   "execution_count": 11,
   "metadata": {},
   "outputs": [
    {
     "name": "stdout",
     "output_type": "stream",
     "text": [
      "The 95% confidence interval for GB is 1.03 £/MWh\n"
     ]
    }
   ],
   "source": [
    "print(f'The 95% confidence interval for GB is {round(conf_intvl_95pct_GB, 2)} £/MWh')"
   ]
  },
  {
   "cell_type": "markdown",
   "metadata": {},
   "source": [
    "<br>\n",
    "\n",
    "### Germany\n",
    "\n",
    "We'll start by loading and cleaning the data for DE"
   ]
  },
  {
   "cell_type": "code",
   "execution_count": 7,
   "metadata": {},
   "outputs": [
    {
     "name": "stdout",
     "output_type": "stream",
     "text": [
      "Wall time: 1.72 s\n"
     ]
    }
   ],
   "source": [
    "%%time\n",
    "\n",
    "df_DE = eda.load_DE_df('../data/raw/energy_charts.csv', '../data/raw/ENTSOE_DE_price.csv')\n",
    "\n",
    "df_DE_model = df_DE[['price', 'demand', 'Solar', 'Wind']].dropna()\n",
    "\n",
    "s_DE_price = df_DE_model['price']\n",
    "s_DE_demand = df_DE_model['demand']\n",
    "s_DE_dispatchable = df_DE_model['demand'] - df_DE_model[['Solar', 'Wind']].sum(axis=1)"
   ]
  },
  {
   "cell_type": "markdown",
   "metadata": {},
   "source": [
    "<br>\n",
    "\n",
    "We'll then calculate the estimate for the 68% prediction interval"
   ]
  },
  {
   "cell_type": "code",
   "execution_count": 8,
   "metadata": {},
   "outputs": [
    {
     "name": "stdout",
     "output_type": "stream",
     "text": [
      "The 68% prediction interval for DE is 13.79 EUR/MWh\n",
      "Wall time: 1.5 s\n"
     ]
    }
   ],
   "source": [
    "%%time\n",
    "\n",
    "df_pred_68pct_intvl_DE = get_pred_intvl('../data/models/DAM_price_DE_p16.pkl', '../data/models/DAM_price_DE_p84.pkl')\n",
    "\n",
    "s_pred_idx_weight = s_DE_dispatchable.round(1).value_counts().sort_index()\n",
    "dispatchable_gen_idxs = sorted(list(set(s_pred_idx_weight.index).intersection(df_pred_68pct_intvl_DE.index)))\n",
    "\n",
    "pred_68pct_intvl = np.average(df_pred_68pct_intvl_DE.mean(axis=1).loc[dispatchable_gen_idxs], weights=s_pred_idx_weight.loc[dispatchable_gen_idxs])\n",
    "\n",
    "print(f'The 68% prediction interval for DE is {round(pred_68pct_intvl, 2)} EUR/MWh')"
   ]
  },
  {
   "cell_type": "markdown",
   "metadata": {},
   "source": [
    "<br>\n",
    "\n",
    "We'll use our bootstrapping helper function to calculate the confidence interval of the GB model"
   ]
  },
  {
   "cell_type": "code",
   "execution_count": 9,
   "metadata": {},
   "outputs": [],
   "source": [
    "%%capture\n",
    "\n",
    "center_dts = pd.date_range(s_DE_price.index.min(), s_DE_price.index.max(), freq='3MS') + pd.Timedelta(days=45)\n",
    "\n",
    "all_conf_intvl_95pct = []\n",
    "\n",
    "for center_dt in track(center_dts):\n",
    "    s_price_subset = s_DE_price[center_dt-pd.Timedelta(days=45):center_dt+pd.Timedelta(days=45)]\n",
    "    s_dispatchable_subset = s_DE_dispatchable[center_dt-pd.Timedelta(days=45):center_dt+pd.Timedelta(days=45)]\n",
    "\n",
    "    df_bootstrap = lowess.bootstrap_model(s_price_subset.values, s_dispatchable_subset.values, num_runs=100, frac=0.3, num_fits=10)\n",
    "    conf_intvl_95pct = df_bootstrap.replace(0, np.nan).quantile([0.025, 0.975], axis=1).diff().dropna(how='all').mean(axis=1).iloc[0]\n",
    "    \n",
    "    all_conf_intvl_95pct += [conf_intvl_95pct]\n",
    "    \n",
    "conf_intvl_95pct_DE = np.array(all_conf_intvl_95pct).mean()"
   ]
  },
  {
   "cell_type": "code",
   "execution_count": 10,
   "metadata": {},
   "outputs": [
    {
     "name": "stdout",
     "output_type": "stream",
     "text": [
      "The 95% confidence interval for DE is 1.69 EUR/MWh\n"
     ]
    }
   ],
   "source": [
    "print(f'The 95% confidence interval for DE is {round(conf_intvl_95pct_DE, 2)} EUR/MWh')"
   ]
  },
  {
   "cell_type": "code",
   "execution_count": null,
   "metadata": {},
   "outputs": [],
   "source": []
  }
 ],
 "metadata": {
  "kernelspec": {
   "display_name": "MOE",
   "language": "python",
   "name": "moe"
  },
  "language_info": {
   "codemirror_mode": {
    "name": "ipython",
    "version": 3
   },
   "file_extension": ".py",
   "mimetype": "text/x-python",
   "name": "python",
   "nbconvert_exporter": "python",
   "pygments_lexer": "ipython3",
   "version": "3.9.1"
  }
 },
 "nbformat": 4,
 "nbformat_minor": 4
}
