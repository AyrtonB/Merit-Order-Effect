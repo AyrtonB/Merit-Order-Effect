{
 "cells": [
  {
   "cell_type": "markdown",
   "metadata": {},
   "source": [
    "# Tables & Figures Generation"
   ]
  },
  {
   "cell_type": "markdown",
   "metadata": {},
   "source": [
    "[![Binder](https://notebooks.gesis.org/binder/badge_logo.svg)](https://notebooks.gesis.org/binder/v2/gh/AyrtonB/Merit-Order-Effect/main?filepath=nbs%2Fdev-09-tables-and-figures.ipynb)\n",
    "\n",
    "This notebook provides a programmatic workflow for generating the tables used in the MOE paper, as well as the diagram to show the time-adaptive smoothing weights.\n",
    "\n",
    "<br>\n",
    "\n",
    "### Imports"
   ]
  },
  {
   "cell_type": "code",
   "execution_count": 30,
   "metadata": {},
   "outputs": [],
   "source": [
    "import json\n",
    "import numpy as np\n",
    "import pandas as pd\n",
    "\n",
    "import seaborn as sns\n",
    "import matplotlib.pyplot as plt\n",
    "\n",
    "from IPython.display import Latex, JSON\n",
    "\n",
    "from moepy import eda, lowess"
   ]
  },
  {
   "cell_type": "markdown",
   "metadata": {},
   "source": [
    "<br>\n",
    "\n",
    "### Tables\n",
    "\n",
    "##### Power Systems Overview\n",
    "\n",
    "We'll first load in the DE data"
   ]
  },
  {
   "cell_type": "code",
   "execution_count": 2,
   "metadata": {},
   "outputs": [
    {
     "data": {
      "text/html": [
       "<div>\n",
       "<style scoped>\n",
       "    .dataframe tbody tr th:only-of-type {\n",
       "        vertical-align: middle;\n",
       "    }\n",
       "\n",
       "    .dataframe tbody tr th {\n",
       "        vertical-align: top;\n",
       "    }\n",
       "\n",
       "    .dataframe thead th {\n",
       "        text-align: right;\n",
       "    }\n",
       "</style>\n",
       "<table border=\"1\" class=\"dataframe\">\n",
       "  <thead>\n",
       "    <tr style=\"text-align: right;\">\n",
       "      <th></th>\n",
       "      <th>Biomass</th>\n",
       "      <th>Brown Coal</th>\n",
       "      <th>Gas</th>\n",
       "      <th>Hard Coal</th>\n",
       "      <th>Hydro Power</th>\n",
       "      <th>Oil</th>\n",
       "      <th>Others</th>\n",
       "      <th>Pumped Storage</th>\n",
       "      <th>Seasonal Storage</th>\n",
       "      <th>Solar</th>\n",
       "      <th>Uranium</th>\n",
       "      <th>Wind</th>\n",
       "      <th>net_balance</th>\n",
       "      <th>demand</th>\n",
       "      <th>price</th>\n",
       "    </tr>\n",
       "    <tr>\n",
       "      <th>local_datetime</th>\n",
       "      <th></th>\n",
       "      <th></th>\n",
       "      <th></th>\n",
       "      <th></th>\n",
       "      <th></th>\n",
       "      <th></th>\n",
       "      <th></th>\n",
       "      <th></th>\n",
       "      <th></th>\n",
       "      <th></th>\n",
       "      <th></th>\n",
       "      <th></th>\n",
       "      <th></th>\n",
       "      <th></th>\n",
       "      <th></th>\n",
       "    </tr>\n",
       "  </thead>\n",
       "  <tbody>\n",
       "    <tr>\n",
       "      <th>2010-01-03 23:00:00+00:00</th>\n",
       "      <td>3.637</td>\n",
       "      <td>16.533</td>\n",
       "      <td>4.726</td>\n",
       "      <td>10.078</td>\n",
       "      <td>2.331</td>\n",
       "      <td>0.000</td>\n",
       "      <td>0.0</td>\n",
       "      <td>0.052</td>\n",
       "      <td>0.068</td>\n",
       "      <td>0.0</td>\n",
       "      <td>16.826</td>\n",
       "      <td>0.635</td>\n",
       "      <td>-1.229</td>\n",
       "      <td>53.657</td>\n",
       "      <td>NaN</td>\n",
       "    </tr>\n",
       "    <tr>\n",
       "      <th>2010-01-04 00:00:00+00:00</th>\n",
       "      <td>3.637</td>\n",
       "      <td>16.544</td>\n",
       "      <td>4.856</td>\n",
       "      <td>8.816</td>\n",
       "      <td>2.293</td>\n",
       "      <td>0.000</td>\n",
       "      <td>0.0</td>\n",
       "      <td>0.038</td>\n",
       "      <td>0.003</td>\n",
       "      <td>0.0</td>\n",
       "      <td>16.841</td>\n",
       "      <td>0.528</td>\n",
       "      <td>-1.593</td>\n",
       "      <td>51.963</td>\n",
       "      <td>NaN</td>\n",
       "    </tr>\n",
       "    <tr>\n",
       "      <th>2010-01-04 01:00:00+00:00</th>\n",
       "      <td>3.637</td>\n",
       "      <td>16.368</td>\n",
       "      <td>5.275</td>\n",
       "      <td>7.954</td>\n",
       "      <td>2.299</td>\n",
       "      <td>0.000</td>\n",
       "      <td>0.0</td>\n",
       "      <td>0.032</td>\n",
       "      <td>0.000</td>\n",
       "      <td>0.0</td>\n",
       "      <td>16.846</td>\n",
       "      <td>0.616</td>\n",
       "      <td>-1.378</td>\n",
       "      <td>51.649</td>\n",
       "      <td>NaN</td>\n",
       "    </tr>\n",
       "    <tr>\n",
       "      <th>2010-01-04 02:00:00+00:00</th>\n",
       "      <td>3.637</td>\n",
       "      <td>15.837</td>\n",
       "      <td>5.354</td>\n",
       "      <td>7.681</td>\n",
       "      <td>2.299</td>\n",
       "      <td>0.000</td>\n",
       "      <td>0.0</td>\n",
       "      <td>0.027</td>\n",
       "      <td>0.000</td>\n",
       "      <td>0.0</td>\n",
       "      <td>16.699</td>\n",
       "      <td>0.630</td>\n",
       "      <td>-1.624</td>\n",
       "      <td>50.540</td>\n",
       "      <td>NaN</td>\n",
       "    </tr>\n",
       "    <tr>\n",
       "      <th>2010-01-04 03:00:00+00:00</th>\n",
       "      <td>3.637</td>\n",
       "      <td>15.452</td>\n",
       "      <td>5.918</td>\n",
       "      <td>7.498</td>\n",
       "      <td>2.301</td>\n",
       "      <td>0.003</td>\n",
       "      <td>0.0</td>\n",
       "      <td>0.020</td>\n",
       "      <td>0.000</td>\n",
       "      <td>0.0</td>\n",
       "      <td>16.635</td>\n",
       "      <td>0.713</td>\n",
       "      <td>-0.731</td>\n",
       "      <td>51.446</td>\n",
       "      <td>NaN</td>\n",
       "    </tr>\n",
       "  </tbody>\n",
       "</table>\n",
       "</div>"
      ],
      "text/plain": [
       "                           Biomass  Brown Coal    Gas  Hard Coal  Hydro Power  \\\n",
       "local_datetime                                                                  \n",
       "2010-01-03 23:00:00+00:00    3.637      16.533  4.726     10.078        2.331   \n",
       "2010-01-04 00:00:00+00:00    3.637      16.544  4.856      8.816        2.293   \n",
       "2010-01-04 01:00:00+00:00    3.637      16.368  5.275      7.954        2.299   \n",
       "2010-01-04 02:00:00+00:00    3.637      15.837  5.354      7.681        2.299   \n",
       "2010-01-04 03:00:00+00:00    3.637      15.452  5.918      7.498        2.301   \n",
       "\n",
       "                             Oil  Others  Pumped Storage  Seasonal Storage  \\\n",
       "local_datetime                                                               \n",
       "2010-01-03 23:00:00+00:00  0.000     0.0           0.052             0.068   \n",
       "2010-01-04 00:00:00+00:00  0.000     0.0           0.038             0.003   \n",
       "2010-01-04 01:00:00+00:00  0.000     0.0           0.032             0.000   \n",
       "2010-01-04 02:00:00+00:00  0.000     0.0           0.027             0.000   \n",
       "2010-01-04 03:00:00+00:00  0.003     0.0           0.020             0.000   \n",
       "\n",
       "                           Solar  Uranium   Wind  net_balance  demand  price  \n",
       "local_datetime                                                                \n",
       "2010-01-03 23:00:00+00:00    0.0   16.826  0.635       -1.229  53.657    NaN  \n",
       "2010-01-04 00:00:00+00:00    0.0   16.841  0.528       -1.593  51.963    NaN  \n",
       "2010-01-04 01:00:00+00:00    0.0   16.846  0.616       -1.378  51.649    NaN  \n",
       "2010-01-04 02:00:00+00:00    0.0   16.699  0.630       -1.624  50.540    NaN  \n",
       "2010-01-04 03:00:00+00:00    0.0   16.635  0.713       -0.731  51.446    NaN  "
      ]
     },
     "execution_count": 2,
     "metadata": {},
     "output_type": "execute_result"
    }
   ],
   "source": [
    "df_DE = eda.load_DE_df('../data/raw/energy_charts.csv', '../data/raw/ENTSOE_DE_price.csv')\n",
    "\n",
    "df_DE.head()"
   ]
  },
  {
   "cell_type": "markdown",
   "metadata": {},
   "source": [
    "<br>\n",
    "\n",
    "Clean it up then calculate the relevant summary statistics"
   ]
  },
  {
   "cell_type": "code",
   "execution_count": 20,
   "metadata": {},
   "outputs": [
    {
     "data": {
      "text/plain": [
       "(0.3593124152992342, 55.956133452868855, 30.469415917112606)"
      ]
     },
     "execution_count": 20,
     "metadata": {},
     "output_type": "execute_result"
    }
   ],
   "source": [
    "s_DE_RES_output = df_DE[['Wind', 'Solar']].sum(axis=1)\n",
    "s_DE_demand = df_DE['demand']\n",
    "s_DE_price = df_DE['price']\n",
    "\n",
    "s_DE_RES_pct = s_DE_RES_output/s_DE_demand\n",
    "\n",
    "DE_2020_RES_pct = s_DE_RES_pct['2020'].mean()\n",
    "DE_2020_demand_avg = s_DE_demand['2020'].mean()\n",
    "DE_2020_price_avg = s_DE_price['2020'].mean()\n",
    "DE_2020_price_min = s_DE_price['2020'].min()\n",
    "DE_2020_price_max = s_DE_price['2020'].max()\n",
    "\n",
    "DE_2020_RES_pct, DE_2020_demand_avg, DE_2020_price_avg"
   ]
  },
  {
   "cell_type": "markdown",
   "metadata": {},
   "source": [
    "<br>\n",
    "\n",
    "We'll also estimate the carbon intensity"
   ]
  },
  {
   "cell_type": "code",
   "execution_count": 21,
   "metadata": {},
   "outputs": [
    {
     "data": {
      "text/plain": [
       "(8448.292069623136, 153.80385402105972)"
      ]
     },
     "execution_count": 21,
     "metadata": {},
     "output_type": "execute_result"
    }
   ],
   "source": [
    "DE_fuel_to_co2_intensity = {\n",
    "    'Biomass': 0.39, \n",
    "    'Brown Coal': 0.36, \n",
    "    'Gas': 0.23, \n",
    "    'Hard Coal': 0.34, \n",
    "    'Hydro Power': 0, \n",
    "    'Oil': 0.28,\n",
    "    'Others': 0, \n",
    "    'Pumped Storage': 0, \n",
    "    'Seasonal Storage': 0, \n",
    "    'Solar': 0, \n",
    "    'Uranium': 0,\n",
    "    'Wind': 0, \n",
    "    'net_balance': 0 \n",
    "}\n",
    "\n",
    "s_DE_emissions_tonnes = (df_DE\n",
    "                         [DE_fuel_to_co2_intensity.keys()]\n",
    "                         .multiply(1e3) # converting to MWh\n",
    "                         .multiply(DE_fuel_to_co2_intensity.values())\n",
    "                         .sum(axis=1)\n",
    "                        )\n",
    "\n",
    "s_DE_emissions_tonnes = s_DE_emissions_tonnes[s_DE_emissions_tonnes>2000]\n",
    "s_DE_carbon_intensity = s_DE_emissions_tonnes/s_DE_demand.loc[s_DE_emissions_tonnes.index]\n",
    "\n",
    "DE_2020_emissions_tonnes = s_DE_emissions_tonnes['2020'].mean()\n",
    "DE_2020_ci_avg = s_DE_carbon_intensity['2020'].mean()\n",
    "\n",
    "DE_2020_emissions_tonnes, DE_2020_ci_avg"
   ]
  },
  {
   "cell_type": "markdown",
   "metadata": {},
   "source": [
    "<br>\n",
    "\n",
    "We'll do the same for GB"
   ]
  },
  {
   "cell_type": "code",
   "execution_count": 22,
   "metadata": {},
   "outputs": [],
   "source": [
    "# Loading in\n",
    "df_EI = pd.read_csv('../data/raw/electric_insights.csv')\n",
    "\n",
    "df_EI = df_EI.set_index('local_datetime')\n",
    "df_EI.index = pd.to_datetime(df_EI.index, utc=True)\n",
    "\n",
    "# Extracting RES, demand, and price series\n",
    "s_GB_RES = df_EI[['wind', 'solar']].sum(axis=1)\n",
    "s_GB_demand = df_EI['demand']\n",
    "s_GB_price = df_EI['day_ahead_price']\n",
    "\n",
    "# Generating carbon intensity series\n",
    "GB_fuel_to_co2_intensity = {\n",
    "    'nuclear': 0, \n",
    "    'biomass': 0.121, # from EI \n",
    "    'coal': 0.921, # DUKES 2018 value\n",
    "    'gas': 0.377, # DUKES 2018 value (lower than many CCGT estimates, let alone OCGT)\n",
    "    'hydro': 0, \n",
    "    'pumped_storage': 0, \n",
    "    'solar': 0,\n",
    "    'wind': 0,\n",
    "    'belgian': 0.4,  \n",
    "    'dutch': 0.474, # from EI \n",
    "    'french': 0.053, # from EI \n",
    "    'ireland': 0.458, # from EI \n",
    "    'northern_ireland': 0.458 # from EI \n",
    "}\n",
    "\n",
    "s_GB_emissions_tonnes = (df_EI\n",
    "                         [GB_fuel_to_co2_intensity.keys()]\n",
    "                         .multiply(1e3*0.5) # converting to MWh\n",
    "                         .multiply(GB_fuel_to_co2_intensity.values())\n",
    "                         .sum(axis=1)\n",
    "                        )\n",
    "\n",
    "s_GB_emissions_tonnes = s_GB_emissions_tonnes[s_GB_emissions_tonnes>2000]\n",
    "s_GB_carbon_intensity = s_GB_emissions_tonnes/s_GB_demand.loc[s_GB_emissions_tonnes.index]\n",
    "\n",
    "# Calculating 2020 averages\n",
    "GB_2020_emissions_tonnes = s_GB_emissions_tonnes['2020'].mean()\n",
    "GB_2020_ci_avg = s_GB_carbon_intensity['2020'].mean()\n",
    "GB_2020_RES_pct = (s_GB_RES['2020']/s_GB_demand['2020']).mean()\n",
    "GB_2020_demand_avg = s_GB_demand['2020'].mean()\n",
    "GB_2020_price_avg = s_GB_price['2020'].mean()\n",
    "GB_2020_price_min = s_GB_price['2020'].min()\n",
    "GB_2020_price_max = s_GB_price['2020'].max()"
   ]
  },
  {
   "cell_type": "markdown",
   "metadata": {},
   "source": [
    "<br>\n",
    "\n",
    "Then combine the results in a single table"
   ]
  },
  {
   "cell_type": "code",
   "execution_count": 25,
   "metadata": {},
   "outputs": [
    {
     "data": {
      "text/html": [
       "<div>\n",
       "<style scoped>\n",
       "    .dataframe tbody tr th:only-of-type {\n",
       "        vertical-align: middle;\n",
       "    }\n",
       "\n",
       "    .dataframe tbody tr th {\n",
       "        vertical-align: top;\n",
       "    }\n",
       "\n",
       "    .dataframe thead th {\n",
       "        text-align: right;\n",
       "    }\n",
       "</style>\n",
       "<table border=\"1\" class=\"dataframe\">\n",
       "  <thead>\n",
       "    <tr style=\"text-align: right;\">\n",
       "      <th></th>\n",
       "      <th>Germany</th>\n",
       "      <th>Great Britain</th>\n",
       "    </tr>\n",
       "  </thead>\n",
       "  <tbody>\n",
       "    <tr>\n",
       "      <th>Average Solar/Wind Generation (%)</th>\n",
       "      <td>35.93</td>\n",
       "      <td>29.83</td>\n",
       "    </tr>\n",
       "    <tr>\n",
       "      <th>Average Demand (GW)</th>\n",
       "      <td>55.96</td>\n",
       "      <td>30.61</td>\n",
       "    </tr>\n",
       "    <tr>\n",
       "      <th>Average Price ([EUR,GBP]/MWh)</th>\n",
       "      <td>30.47</td>\n",
       "      <td>33.77</td>\n",
       "    </tr>\n",
       "    <tr>\n",
       "      <th>Minimum Price ([EUR,GBP]/MWh)</th>\n",
       "      <td>-83.94</td>\n",
       "      <td>-53.02</td>\n",
       "    </tr>\n",
       "    <tr>\n",
       "      <th>Maximum Price ([EUR,GBP]/MWh)</th>\n",
       "      <td>200.04</td>\n",
       "      <td>510.88</td>\n",
       "    </tr>\n",
       "  </tbody>\n",
       "</table>\n",
       "</div>"
      ],
      "text/plain": [
       "                                   Germany  Great Britain\n",
       "Average Solar/Wind Generation (%)    35.93          29.83\n",
       "Average Demand (GW)                  55.96          30.61\n",
       "Average Price ([EUR,GBP]/MWh)        30.47          33.77\n",
       "Minimum Price ([EUR,GBP]/MWh)       -83.94         -53.02\n",
       "Maximum Price ([EUR,GBP]/MWh)       200.04         510.88"
      ]
     },
     "execution_count": 25,
     "metadata": {},
     "output_type": "execute_result"
    }
   ],
   "source": [
    "system_overview_data = {\n",
    "    'Germany': {\n",
    "        'Average Solar/Wind Generation (%)': round(100*DE_2020_RES_pct, 2),\n",
    "        'Average Demand (GW)': round(DE_2020_demand_avg, 2),\n",
    "        'Average Price ([EUR,GBP]/MWh)': round(DE_2020_price_avg, 2),\n",
    "        'Minimum Price ([EUR,GBP]/MWh)': round(DE_2020_price_min, 2),\n",
    "        'Maximum Price ([EUR,GBP]/MWh)': round(DE_2020_price_max, 2),\n",
    "        'Average Carbon Intensity  (gCO2/kWh)': round(DE_2020_ci_avg, 2),\n",
    "    },\n",
    "    'Great Britain': {\n",
    "        'Average Solar/Wind Generation (%)': round(100*GB_2020_RES_pct, 2),\n",
    "        'Average Demand (GW)': round(GB_2020_demand_avg, 2),\n",
    "        'Average Price ([EUR,GBP]/MWh)': round(GB_2020_price_avg, 2),\n",
    "        'Minimum Price ([EUR,GBP]/MWh)': round(GB_2020_price_min, 2),\n",
    "        'Maximum Price ([EUR,GBP]/MWh)': round(GB_2020_price_max, 2),\n",
    "        'Average Carbon Intensity  (gCO2/kWh)': round(GB_2020_ci_avg, 2),\n",
    "    }\n",
    "}\n",
    "\n",
    "df_system_overview = pd.DataFrame(system_overview_data)\n",
    "\n",
    "df_system_overview.head()"
   ]
  },
  {
   "cell_type": "markdown",
   "metadata": {},
   "source": [
    "<br>\n",
    "\n",
    "Which we'll then output as a LaTeX table"
   ]
  },
  {
   "cell_type": "code",
   "execution_count": 26,
   "metadata": {},
   "outputs": [
    {
     "data": {
      "text/latex": [
       "\\begin{table}\n",
       "\\centering\n",
       "\\caption{Systems overview for 2020}\n",
       "\\label{overview_table}\n",
       "\\begin{tabular}{|l|l|l|}\n",
       "\\hline\n",
       "{} &  Germany &  Great Britain \\\\ \\hline\n",
       "Average Solar/Wind Generation (\\%)    &    35.93 &          29.83 \\\\ \\hline\n",
       "Average Demand (GW)                  &    55.96 &          30.61 \\\\ \\hline\n",
       "Average Price ([EUR,GBP]/MWh)        &    30.47 &          33.77 \\\\ \\hline\n",
       "Minimum Price ([EUR,GBP]/MWh)        &   -83.94 &         -53.02 \\\\ \\hline\n",
       "Maximum Price ([EUR,GBP]/MWh)        &   200.04 &         510.88 \\\\ \\hline\n",
       "Average Carbon Intensity  (gCO\\textsubscript{2}/kWh) &   153.80 &         101.17 \\\\ \\hline\n",
       "\\end{tabular}\n",
       "\\end{table}\n"
      ],
      "text/plain": [
       "<IPython.core.display.Latex object>"
      ]
     },
     "execution_count": 26,
     "metadata": {},
     "output_type": "execute_result"
    }
   ],
   "source": [
    "get_lined_column_format = lambda n_cols:''.join(n_cols*['|l']) + '|'\n",
    "\n",
    "caption = 'Systems overview for 2020'\n",
    "label = 'table:overview_table'\n",
    "column_format = get_lined_column_format(df_system_overview.shape[1]+1)\n",
    "\n",
    "latex_str = df_system_overview.to_latex(column_format=column_format, caption=caption, label=label)\n",
    "\n",
    "latex_replacements = {\n",
    "    'CO2': 'CO\\\\textsubscript{2}',\n",
    "    '\\\\\\\\\\n': '\\\\\\\\ \\\\midrule\\n',\n",
    "    'midrule': 'hline',\n",
    "    'toprule': 'hline',\n",
    "    'bottomrule': '',\n",
    "    '\\n\\\\\\n': '\\n',\n",
    "    '\\\\hline\\n\\\\hline': '\\\\hline'\n",
    "}\n",
    "\n",
    "for old, new in latex_replacements.items():\n",
    "    latex_str = latex_str.replace(old, new)\n",
    "\n",
    "Latex(latex_str)"
   ]
  },
  {
   "cell_type": "markdown",
   "metadata": {},
   "source": [
    "<br>\n",
    "\n",
    "##### Carbon Intensity Estimates\n",
    "\n",
    "We'll clean up our GB carbon intensity estimates"
   ]
  },
  {
   "cell_type": "code",
   "execution_count": 8,
   "metadata": {},
   "outputs": [
    {
     "data": {
      "text/html": [
       "<div>\n",
       "<style scoped>\n",
       "    .dataframe tbody tr th:only-of-type {\n",
       "        vertical-align: middle;\n",
       "    }\n",
       "\n",
       "    .dataframe tbody tr th {\n",
       "        vertical-align: top;\n",
       "    }\n",
       "\n",
       "    .dataframe thead th {\n",
       "        text-align: right;\n",
       "    }\n",
       "</style>\n",
       "<table border=\"1\" class=\"dataframe\">\n",
       "  <thead>\n",
       "    <tr style=\"text-align: right;\">\n",
       "      <th></th>\n",
       "      <th>Biomass</th>\n",
       "      <th>Coal</th>\n",
       "      <th>Gas</th>\n",
       "      <th>Dutch</th>\n",
       "      <th>French</th>\n",
       "      <th>Ireland</th>\n",
       "    </tr>\n",
       "  </thead>\n",
       "  <tbody>\n",
       "    <tr>\n",
       "      <th>gCO2/kWh</th>\n",
       "      <td>121</td>\n",
       "      <td>921</td>\n",
       "      <td>377</td>\n",
       "      <td>474</td>\n",
       "      <td>53</td>\n",
       "      <td>458</td>\n",
       "    </tr>\n",
       "  </tbody>\n",
       "</table>\n",
       "</div>"
      ],
      "text/plain": [
       "          Biomass  Coal  Gas  Dutch  French  Ireland\n",
       "gCO2/kWh      121   921  377    474      53      458"
      ]
     },
     "execution_count": 8,
     "metadata": {},
     "output_type": "execute_result"
    }
   ],
   "source": [
    "def clean_idxs(s):\n",
    "    s.index = s.index.str.replace('_', ' ').str.title()\n",
    "    return s\n",
    "\n",
    "df_GB_non0_co2_intensity = (pd\n",
    "                            .Series(GB_fuel_to_co2_intensity)\n",
    "                            .replace(0, np.nan)\n",
    "                            .dropna()\n",
    "                            .drop(['belgian', 'northern_ireland'])\n",
    "                            .pipe(clean_idxs)\n",
    "                            .multiply(1e3)\n",
    "                            .astype(int)\n",
    "                            .to_frame()\n",
    "                            .T\n",
    "                            .rename({0: 'gCO2/kWh'})\n",
    "                           )\n",
    "\n",
    "df_GB_non0_co2_intensity"
   ]
  },
  {
   "cell_type": "markdown",
   "metadata": {},
   "source": [
    "<br>\n",
    "\n",
    "And output them as a LaTeX table"
   ]
  },
  {
   "cell_type": "code",
   "execution_count": 9,
   "metadata": {},
   "outputs": [
    {
     "data": {
      "text/latex": [
       "\\begin{table}\n",
       "\\centering\n",
       "\\caption{Carbon intensity factors for fuel-types and interconnection on the GB power system}\n",
       "\\label{GB_co2_intensity_table}\n",
       "\\begin{tabular}{|l|l|l|l|l|l|l|}\n",
       "\\hline\n",
       "{} &  Biomass &  Coal &  Gas &  Dutch &  French &  Ireland \\\\ \\hline\n",
       "gCO\\textsubscript{2}/kWh &      121 &   921 &  377 &    474 &      53 &      458 \\\\ \\hline\n",
       "\\end{tabular}\n",
       "\\end{table}\n"
      ],
      "text/plain": [
       "<IPython.core.display.Latex object>"
      ]
     },
     "execution_count": 9,
     "metadata": {},
     "output_type": "execute_result"
    }
   ],
   "source": [
    "caption = 'Carbon intensity factors for fuel-types and interconnection on the GB power system'\n",
    "label = 'table:GB_co2_intensity_table'\n",
    "column_format = get_lined_column_format(df_GB_non0_co2_intensity.shape[1]+1)\n",
    "\n",
    "latex_str = df_GB_non0_co2_intensity.to_latex(column_format=column_format, caption=caption, label=label)\n",
    "\n",
    "latex_replacements = {\n",
    "    'CO2': 'CO\\\\textsubscript{2}',\n",
    "    '\\\\\\\\\\n': '\\\\\\\\ \\\\midrule\\n',\n",
    "    'midrule': 'hline',\n",
    "    'toprule': 'hline',\n",
    "    'bottomrule': '',\n",
    "    '\\n\\\\\\n': '\\n',\n",
    "    '\\\\hline\\n\\\\hline': '\\\\hline'\n",
    "}\n",
    "\n",
    "for old, new in latex_replacements.items():\n",
    "    latex_str = latex_str.replace(old, new)\n",
    "\n",
    "Latex(latex_str)"
   ]
  },
  {
   "cell_type": "markdown",
   "metadata": {},
   "source": [
    "<br>\n",
    "\n",
    "We'll then do the same for DE"
   ]
  },
  {
   "cell_type": "code",
   "execution_count": 10,
   "metadata": {},
   "outputs": [
    {
     "data": {
      "text/html": [
       "<div>\n",
       "<style scoped>\n",
       "    .dataframe tbody tr th:only-of-type {\n",
       "        vertical-align: middle;\n",
       "    }\n",
       "\n",
       "    .dataframe tbody tr th {\n",
       "        vertical-align: top;\n",
       "    }\n",
       "\n",
       "    .dataframe thead th {\n",
       "        text-align: right;\n",
       "    }\n",
       "</style>\n",
       "<table border=\"1\" class=\"dataframe\">\n",
       "  <thead>\n",
       "    <tr style=\"text-align: right;\">\n",
       "      <th></th>\n",
       "      <th>Biomass</th>\n",
       "      <th>Brown Coal</th>\n",
       "      <th>Hard Coal</th>\n",
       "      <th>Gas</th>\n",
       "      <th>Oil</th>\n",
       "    </tr>\n",
       "  </thead>\n",
       "  <tbody>\n",
       "    <tr>\n",
       "      <th>gCO2/kWh</th>\n",
       "      <td>390</td>\n",
       "      <td>360</td>\n",
       "      <td>340</td>\n",
       "      <td>230</td>\n",
       "      <td>280</td>\n",
       "    </tr>\n",
       "  </tbody>\n",
       "</table>\n",
       "</div>"
      ],
      "text/plain": [
       "          Biomass  Brown Coal  Hard Coal  Gas  Oil\n",
       "gCO2/kWh      390         360        340  230  280"
      ]
     },
     "execution_count": 10,
     "metadata": {},
     "output_type": "execute_result"
    }
   ],
   "source": [
    "df_DE_non0_co2_intensity = (pd\n",
    "                            .Series(DE_fuel_to_co2_intensity)\n",
    "                            .replace(0, np.nan)\n",
    "                            .dropna()\n",
    "                            [['Biomass', 'Brown Coal', 'Hard Coal', 'Gas', 'Oil']]\n",
    "                            .pipe(clean_idxs)\n",
    "                            .multiply(1e3)\n",
    "                            .astype(int)\n",
    "                            .to_frame()\n",
    "                            .T\n",
    "                            .rename({0: 'gCO2/kWh'})\n",
    "                           )\n",
    "\n",
    "df_DE_non0_co2_intensity"
   ]
  },
  {
   "cell_type": "code",
   "execution_count": 11,
   "metadata": {},
   "outputs": [
    {
     "data": {
      "text/latex": [
       "\\begin{table}\n",
       "\\centering\n",
       "\\caption{Carbon intensity factors for fuel-types and interconnection on the DE power system}\n",
       "\\label{DE_co2_intensity_table}\n",
       "\\begin{tabular}{|l|l|l|l|l|l|}\n",
       "\\hline\n",
       "{} &  Biomass &  Brown Coal &  Hard Coal &  Gas &  Oil \\\\ \\hline\n",
       "gCO\\textsubscript{2}/kWh &      390 &         360 &        340 &  230 &  280 \\\\ \\hline\n",
       "\\end{tabular}\n",
       "\\end{table}\n"
      ],
      "text/plain": [
       "<IPython.core.display.Latex object>"
      ]
     },
     "execution_count": 11,
     "metadata": {},
     "output_type": "execute_result"
    }
   ],
   "source": [
    "caption = 'Carbon intensity factors for fuel-types and interconnection on the DE power system'\n",
    "label = 'table:DE_co2_intensity_table'\n",
    "column_format = get_lined_column_format(df_DE_non0_co2_intensity.shape[1]+1)\n",
    "\n",
    "latex_str = df_DE_non0_co2_intensity.to_latex(column_format=column_format, caption=caption, label=label)\n",
    "\n",
    "for old, new in latex_replacements.items():\n",
    "    latex_str = latex_str.replace(old, new)\n",
    "\n",
    "Latex(latex_str)"
   ]
  },
  {
   "cell_type": "markdown",
   "metadata": {},
   "source": [
    "<br>\n",
    "\n",
    "##### Electricity Price Forecasting Metrics\n",
    "\n",
    "We'll start by loading in our previously saved model metrics"
   ]
  },
  {
   "cell_type": "code",
   "execution_count": 12,
   "metadata": {},
   "outputs": [
    {
     "data": {
      "application/json": {
       "DE_demand": {
        "mean_abs_err": 18.28336704312868,
        "median_abs_err": 14.67403224443754,
        "root_mean_square_error": 23.560281367239586
       },
       "DE_dispatch": {
        "mean_abs_err": 5.852023979176648,
        "median_abs_err": 4.257075090332123,
        "root_mean_square_error": 8.705711313706535
       },
       "GB_demand": {
        "mean_abs_err": 8.423628315026313,
        "median_abs_err": 6.076142585411503,
        "root_mean_square_error": 13.57255404896023
       },
       "GB_dispatch": {
        "mean_abs_err": 6.55687702607074,
        "median_abs_err": 4.47311519486,
        "root_mean_square_error": 12.053853844276484
       }
      },
      "text/plain": [
       "<IPython.core.display.JSON object>"
      ]
     },
     "execution_count": 12,
     "metadata": {
      "application/json": {
       "expanded": false,
       "root": "root"
      }
     },
     "output_type": "execute_result"
    }
   ],
   "source": [
    "with open('../data/results/price_model_accuracy_metrics.json', 'r') as fp:\n",
    "    model_accuracy_metrics = json.load(fp)\n",
    "    \n",
    "JSON(model_accuracy_metrics)"
   ]
  },
  {
   "cell_type": "markdown",
   "metadata": {},
   "source": [
    "<br>\n",
    "\n",
    "We'll parse the MAE results into a new table"
   ]
  },
  {
   "cell_type": "code",
   "execution_count": 13,
   "metadata": {},
   "outputs": [
    {
     "data": {
      "text/html": [
       "<div>\n",
       "<style scoped>\n",
       "    .dataframe tbody tr th:only-of-type {\n",
       "        vertical-align: middle;\n",
       "    }\n",
       "\n",
       "    .dataframe tbody tr th {\n",
       "        vertical-align: top;\n",
       "    }\n",
       "\n",
       "    .dataframe thead th {\n",
       "        text-align: right;\n",
       "    }\n",
       "</style>\n",
       "<table border=\"1\" class=\"dataframe\">\n",
       "  <thead>\n",
       "    <tr style=\"text-align: right;\">\n",
       "      <th></th>\n",
       "      <th>Dispatchable Load</th>\n",
       "      <th>Total Load</th>\n",
       "    </tr>\n",
       "  </thead>\n",
       "  <tbody>\n",
       "    <tr>\n",
       "      <th>Germany</th>\n",
       "      <td>5.85</td>\n",
       "      <td>18.28</td>\n",
       "    </tr>\n",
       "    <tr>\n",
       "      <th>Great Britain</th>\n",
       "      <td>6.56</td>\n",
       "      <td>8.42</td>\n",
       "    </tr>\n",
       "  </tbody>\n",
       "</table>\n",
       "</div>"
      ],
      "text/plain": [
       "               Dispatchable Load  Total Load\n",
       "Germany                     5.85       18.28\n",
       "Great Britain               6.56        8.42"
      ]
     },
     "execution_count": 13,
     "metadata": {},
     "output_type": "execute_result"
    }
   ],
   "source": [
    "model_accuracy_data = {\n",
    "    'Germany': {\n",
    "        'Dispatchable Load': round(model_accuracy_metrics['DE_dispatch']['mean_abs_err'], 2),\n",
    "        'Total Load': round(model_accuracy_metrics['DE_demand']['mean_abs_err'], 2),\n",
    "    },\n",
    "    'Great Britain': {\n",
    "        'Dispatchable Load': round(model_accuracy_metrics['GB_dispatch']['mean_abs_err'], 2),\n",
    "        'Total Load': round(model_accuracy_metrics['GB_demand']['mean_abs_err'], 2),\n",
    "    }\n",
    "}\n",
    "\n",
    "df_model_accuracy = pd.DataFrame(model_accuracy_data).T\n",
    "\n",
    "df_model_accuracy.head()"
   ]
  },
  {
   "cell_type": "markdown",
   "metadata": {},
   "source": [
    "<br>\n",
    "\n",
    "Which we'll output as a LaTeX table"
   ]
  },
  {
   "cell_type": "code",
   "execution_count": 14,
   "metadata": {},
   "outputs": [
    {
     "data": {
      "text/latex": [
       "\\begin{table}\n",
       "\\centering\n",
       "\\caption{Price forecasting model accuracy when regressing against dispatchable and total load for GB and DE.}\n",
       "\\label{model_accuracy_table}\n",
       "\\begin{tabular}{|l|l|l|}\n",
       "\\hline\n",
       "{} &  Dispatchable Load &  Total Load \\\\ \\hline\n",
       "Germany       &               5.85 &       18.28 \\\\ \\hline\n",
       "Great Britain &               6.56 &        8.42 \\\\ \\hline\n",
       "\\end{tabular}\n",
       "\\end{table}\n"
      ],
      "text/plain": [
       "<IPython.core.display.Latex object>"
      ]
     },
     "execution_count": 14,
     "metadata": {},
     "output_type": "execute_result"
    }
   ],
   "source": [
    "caption = 'Price forecasting model accuracy when regressing against dispatchable and total load for GB and DE.'\n",
    "label = 'table:model_accuracy_table'\n",
    "column_format = get_lined_column_format(df_model_accuracy.shape[1]+1)\n",
    "\n",
    "latex_str = df_model_accuracy.to_latex(column_format=column_format, caption=caption, label=label)\n",
    "\n",
    "for old, new in latex_replacements.items():\n",
    "    latex_str = latex_str.replace(old, new)\n",
    "\n",
    "Latex(latex_str)"
   ]
  },
  {
   "cell_type": "markdown",
   "metadata": {},
   "source": [
    "<br>\n",
    "\n",
    "##### Price and CO2 MOE Results\n",
    "\n",
    "We'll first load in all of the price and carbon MOE time-series"
   ]
  },
  {
   "cell_type": "code",
   "execution_count": 15,
   "metadata": {},
   "outputs": [
    {
     "data": {
      "text/html": [
       "<div>\n",
       "<style scoped>\n",
       "    .dataframe tbody tr th:only-of-type {\n",
       "        vertical-align: middle;\n",
       "    }\n",
       "\n",
       "    .dataframe tbody tr th {\n",
       "        vertical-align: top;\n",
       "    }\n",
       "\n",
       "    .dataframe thead th {\n",
       "        text-align: right;\n",
       "    }\n",
       "</style>\n",
       "<table border=\"1\" class=\"dataframe\">\n",
       "  <thead>\n",
       "    <tr style=\"text-align: right;\">\n",
       "      <th></th>\n",
       "      <th>prediction</th>\n",
       "      <th>counterfactual</th>\n",
       "      <th>observed</th>\n",
       "      <th>moe</th>\n",
       "    </tr>\n",
       "    <tr>\n",
       "      <th>local_datetime</th>\n",
       "      <th></th>\n",
       "      <th></th>\n",
       "      <th></th>\n",
       "      <th></th>\n",
       "    </tr>\n",
       "  </thead>\n",
       "  <tbody>\n",
       "    <tr>\n",
       "      <th>2009-01-01 00:00:00+00:00</th>\n",
       "      <td>37.203441</td>\n",
       "      <td>37.313379</td>\n",
       "      <td>58.05</td>\n",
       "      <td>0.109938</td>\n",
       "    </tr>\n",
       "    <tr>\n",
       "      <th>2009-01-01 00:30:00+00:00</th>\n",
       "      <td>37.313379</td>\n",
       "      <td>37.535135</td>\n",
       "      <td>56.33</td>\n",
       "      <td>0.221756</td>\n",
       "    </tr>\n",
       "    <tr>\n",
       "      <th>2009-01-01 01:00:00+00:00</th>\n",
       "      <td>36.768513</td>\n",
       "      <td>36.985087</td>\n",
       "      <td>52.98</td>\n",
       "      <td>0.216574</td>\n",
       "    </tr>\n",
       "    <tr>\n",
       "      <th>2009-01-01 01:30:00+00:00</th>\n",
       "      <td>35.595162</td>\n",
       "      <td>35.807631</td>\n",
       "      <td>50.39</td>\n",
       "      <td>0.212469</td>\n",
       "    </tr>\n",
       "    <tr>\n",
       "      <th>2009-01-01 02:00:00+00:00</th>\n",
       "      <td>34.849422</td>\n",
       "      <td>35.063119</td>\n",
       "      <td>48.70</td>\n",
       "      <td>0.213697</td>\n",
       "    </tr>\n",
       "  </tbody>\n",
       "</table>\n",
       "</div>"
      ],
      "text/plain": [
       "                           prediction  counterfactual  observed       moe\n",
       "local_datetime                                                           \n",
       "2009-01-01 00:00:00+00:00   37.203441       37.313379     58.05  0.109938\n",
       "2009-01-01 00:30:00+00:00   37.313379       37.535135     56.33  0.221756\n",
       "2009-01-01 01:00:00+00:00   36.768513       36.985087     52.98  0.216574\n",
       "2009-01-01 01:30:00+00:00   35.595162       35.807631     50.39  0.212469\n",
       "2009-01-01 02:00:00+00:00   34.849422       35.063119     48.70  0.213697"
      ]
     },
     "execution_count": 15,
     "metadata": {},
     "output_type": "execute_result"
    }
   ],
   "source": [
    "def set_dt_idx(df, dt_idx_col='local_datetime'):\n",
    "    df = df.set_index(dt_idx_col)\n",
    "    df.index = pd.to_datetime(df.index, utc=True)\n",
    "    \n",
    "    return df\n",
    "\n",
    "df_GB_price_results_ts = pd.read_csv('../data/results/GB_price.csv').pipe(set_dt_idx)\n",
    "df_DE_price_results_ts = pd.read_csv('../data/results/DE_price.csv').pipe(set_dt_idx)\n",
    "df_GB_carbon_results_ts = pd.read_csv('../data/results/GB_carbon.csv').pipe(set_dt_idx)\n",
    "df_DE_carbon_results_ts = pd.read_csv('../data/results/DE_carbon.csv').pipe(set_dt_idx)\n",
    "\n",
    "df_GB_price_results_ts.head()"
   ]
  },
  {
   "cell_type": "code",
   "execution_count": 28,
   "metadata": {},
   "outputs": [],
   "source": []
  },
  {
   "cell_type": "code",
   "execution_count": 31,
   "metadata": {},
   "outputs": [
    {
     "data": {
      "text/plain": [
       "116.41833297065492"
      ]
     },
     "execution_count": 31,
     "metadata": {},
     "output_type": "execute_result"
    }
   ],
   "source": [
    "df_GB_price_results_ts['moe'].max()"
   ]
  },
  {
   "cell_type": "markdown",
   "metadata": {},
   "source": [
    "<br>\n",
    "\n",
    "We'll then calculate their summary statistics"
   ]
  },
  {
   "cell_type": "code",
   "execution_count": 18,
   "metadata": {},
   "outputs": [
    {
     "data": {
      "text/html": [
       "<div>\n",
       "<style scoped>\n",
       "    .dataframe tbody tr th:only-of-type {\n",
       "        vertical-align: middle;\n",
       "    }\n",
       "\n",
       "    .dataframe tbody tr th {\n",
       "        vertical-align: top;\n",
       "    }\n",
       "\n",
       "    .dataframe thead th {\n",
       "        text-align: right;\n",
       "    }\n",
       "</style>\n",
       "<table border=\"1\" class=\"dataframe\">\n",
       "  <thead>\n",
       "    <tr style=\"text-align: right;\">\n",
       "      <th></th>\n",
       "      <th>Germany</th>\n",
       "      <th>Great Britain</th>\n",
       "    </tr>\n",
       "  </thead>\n",
       "  <tbody>\n",
       "    <tr>\n",
       "      <th>Price ([EUR,GBP]/MWh)</th>\n",
       "      <td>22.17</td>\n",
       "      <td>13.89</td>\n",
       "    </tr>\n",
       "    <tr>\n",
       "      <th>Price Reduction (%)</th>\n",
       "      <td>43.43</td>\n",
       "      <td>29.66</td>\n",
       "    </tr>\n",
       "    <tr>\n",
       "      <th>Carbon (Tonnes/h)</th>\n",
       "      <td>5563.22</td>\n",
       "      <td>1657.88</td>\n",
       "    </tr>\n",
       "    <tr>\n",
       "      <th>Carbon Reduction (%)</th>\n",
       "      <td>39.70</td>\n",
       "      <td>37.89</td>\n",
       "    </tr>\n",
       "  </tbody>\n",
       "</table>\n",
       "</div>"
      ],
      "text/plain": [
       "                       Germany  Great Britain\n",
       "Price ([EUR,GBP]/MWh)    22.17          13.89\n",
       "Price Reduction (%)      43.43          29.66\n",
       "Carbon (Tonnes/h)      5563.22        1657.88\n",
       "Carbon Reduction (%)     39.70          37.89"
      ]
     },
     "execution_count": 18,
     "metadata": {},
     "output_type": "execute_result"
    }
   ],
   "source": [
    "MOE_results_data = {\n",
    "    'Germany': {\n",
    "        'Price ([EUR,GBP]/MWh)': round(df_DE_price_results_ts.loc['2020', 'moe'].mean(), 2),\n",
    "        'Price Reduction (%)': round(100*(df_DE_price_results_ts.loc['2020', 'moe']*df_DE['demand']).sum()/((df_DE_price_results_ts.loc['2020', 'observed']+df_DE_price_results_ts.loc['2020', 'moe'])*df_DE['demand']).sum(), 2),\n",
    "        'Carbon (Tonnes/h)': round(df_DE_carbon_results_ts.loc['2020', 'moe'].mean(), 2),\n",
    "        'Carbon Reduction (%)': round(100*(df_DE_carbon_results_ts.loc['2020', 'moe'].sum()/(df_DE_carbon_results_ts.loc['2020', 'observed']+df_DE_carbon_results_ts.loc['2020', 'moe']).sum()).mean(), 2)\n",
    "    },\n",
    "    'Great Britain': {\n",
    "        'Price ([EUR,GBP]/MWh)': round(df_GB_price_results_ts.loc['2020', 'moe'].mean(), 2),\n",
    "        'Price Reduction (%)': round(100*(df_GB_price_results_ts.loc['2020', 'moe']*df_EI['demand']).sum()/((df_GB_price_results_ts.loc['2020', 'observed']+df_GB_price_results_ts.loc['2020', 'moe'])*df_EI['demand']).sum(), 2),\n",
    "        'Carbon (Tonnes/h)': round(df_GB_carbon_results_ts.loc['2020', 'moe'].mean(), 2), # doubled to make it the same hourly rate as DE\n",
    "        'Carbon Reduction (%)': round(100*(df_GB_carbon_results_ts.loc['2020', 'moe'].sum()/(df_GB_carbon_results_ts.loc['2020', 'observed']+df_GB_carbon_results_ts.loc['2020', 'moe']).sum()).mean(), 2)\n",
    "    }\n",
    "}\n",
    "\n",
    "df_MOE_results = (pd\n",
    "                  .DataFrame(MOE_results_data)\n",
    "                 )\n",
    "\n",
    "df_MOE_results.head()"
   ]
  },
  {
   "cell_type": "markdown",
   "metadata": {},
   "source": [
    "<br>\n",
    "\n",
    "And export the output as a LaTeX table"
   ]
  },
  {
   "cell_type": "code",
   "execution_count": 19,
   "metadata": {},
   "outputs": [
    {
     "data": {
      "text/latex": [
       "\\begin{table}\n",
       "\\centering\n",
       "\\caption{Merit Order Effect results overview for 2020 (weighted by volume). Price reduction is expressed in terms of the percentage decrease relative to the counter-factual price that would have occurred with RES generation}\n",
       "\\label{moe_results_table}\n",
       "\\begin{tabular}{|l|l|l|}\n",
       "\\hline\n",
       "{} &  Germany &  Great Britain \\\\ \\hline\n",
       "Price ([EUR,GBP]/MWh) &    22.17 &          13.89 \\\\ \\hline\n",
       "Price Reduction (\\%)   &    43.43 &          29.66 \\\\ \\hline\n",
       "Carbon (Tonnes/h)     &  5563.22 &        1657.88 \\\\ \\hline\n",
       "Carbon Reduction (\\%)  &    39.70 &          37.89 \\\\ \\hline\n",
       "\\end{tabular}\n",
       "\\end{table}\n"
      ],
      "text/plain": [
       "<IPython.core.display.Latex object>"
      ]
     },
     "execution_count": 19,
     "metadata": {},
     "output_type": "execute_result"
    }
   ],
   "source": [
    "caption = 'Merit Order Effect results overview for 2020 (weighted by volume). Price reduction is expressed in terms of the percentage decrease relative to the counter-factual price that would have occurred with RES generation'\n",
    "label = 'table:moe_results_table'\n",
    "column_format = get_lined_column_format(df_MOE_results.shape[1]+1)\n",
    "\n",
    "latex_str = df_MOE_results.to_latex(column_format=column_format, caption=caption, label=label)\n",
    "\n",
    "for old, new in latex_replacements.items():\n",
    "    latex_str = latex_str.replace(old, new)\n",
    "\n",
    "Latex(latex_str)"
   ]
  },
  {
   "cell_type": "markdown",
   "metadata": {},
   "source": [
    "<br>\n",
    "\n",
    "##### Literature Review\n",
    "\n",
    "Lastly we'll create our largest table, containing results from across the literature"
   ]
  },
  {
   "cell_type": "code",
   "execution_count": 35,
   "metadata": {},
   "outputs": [
    {
     "name": "stderr",
     "output_type": "stream",
     "text": [
      "<ipython-input-35-79dbc1b60908>:237: FutureWarning: The default value of regex will change from True to False in a future version. In addition, single character regular expressions will*not* be treated as literal strings when regex=True.\n",
      "  df_lit_results['Study Year'] = df_lit_results['Study'].str.split('(').str[1].str.replace(')', '').astype(int)\n"
     ]
    },
    {
     "data": {
      "text/html": [
       "<div>\n",
       "<style scoped>\n",
       "    .dataframe tbody tr th:only-of-type {\n",
       "        vertical-align: middle;\n",
       "    }\n",
       "\n",
       "    .dataframe tbody tr th {\n",
       "        vertical-align: top;\n",
       "    }\n",
       "\n",
       "    .dataframe thead th {\n",
       "        text-align: right;\n",
       "    }\n",
       "</style>\n",
       "<table border=\"1\" class=\"dataframe\">\n",
       "  <thead>\n",
       "    <tr style=\"text-align: right;\">\n",
       "      <th></th>\n",
       "      <th>Study</th>\n",
       "      <th>MOE</th>\n",
       "      <th>Period</th>\n",
       "      <th>Region</th>\n",
       "      <th>Method</th>\n",
       "    </tr>\n",
       "  </thead>\n",
       "  <tbody>\n",
       "    <tr>\n",
       "      <th>0</th>\n",
       "      <td>Sensfuss et al. (2008)</td>\n",
       "      <td>7.83 €/MWh</td>\n",
       "      <td>2006</td>\n",
       "      <td>Germany</td>\n",
       "      <td>ESS</td>\n",
       "    </tr>\n",
       "    <tr>\n",
       "      <th>1</th>\n",
       "      <td>de Miera et al. (2008)</td>\n",
       "      <td>25.1%</td>\n",
       "      <td>2007</td>\n",
       "      <td>Spain</td>\n",
       "      <td>ESS</td>\n",
       "    </tr>\n",
       "    <tr>\n",
       "      <th>2</th>\n",
       "      <td>Weigt (2009)</td>\n",
       "      <td>10 €/MWh</td>\n",
       "      <td>2006-2008</td>\n",
       "      <td>Germany</td>\n",
       "      <td>ESS</td>\n",
       "    </tr>\n",
       "    <tr>\n",
       "      <th>3</th>\n",
       "      <td>Ciarreta et al. (2014)</td>\n",
       "      <td>45 €/MWh</td>\n",
       "      <td>2012</td>\n",
       "      <td>Spain</td>\n",
       "      <td>ESS</td>\n",
       "    </tr>\n",
       "    <tr>\n",
       "      <th>4</th>\n",
       "      <td>Bublitz et al. (2017)</td>\n",
       "      <td>5.40 €/MWh</td>\n",
       "      <td>2011-2015</td>\n",
       "      <td>Germany</td>\n",
       "      <td>ESS</td>\n",
       "    </tr>\n",
       "  </tbody>\n",
       "</table>\n",
       "</div>"
      ],
      "text/plain": [
       "                    Study         MOE     Period   Region Method\n",
       "0  Sensfuss et al. (2008)  7.83 €/MWh       2006  Germany    ESS\n",
       "1  de Miera et al. (2008)       25.1%       2007    Spain    ESS\n",
       "2            Weigt (2009)    10 €/MWh  2006-2008  Germany    ESS\n",
       "3  Ciarreta et al. (2014)    45 €/MWh       2012    Spain    ESS\n",
       "4   Bublitz et al. (2017)  5.40 €/MWh  2011-2015  Germany    ESS"
      ]
     },
     "execution_count": 35,
     "metadata": {},
     "output_type": "execute_result"
    }
   ],
   "source": [
    "lit_results_data = [\n",
    "    {\n",
    "        'Study': 'Sensfuss et al. (2008)',\n",
    "        'MOE': '7.83 €/MWh',\n",
    "        'Period': '2006',\n",
    "        'Region': 'Germany',\n",
    "        'Method': 'ESS',\n",
    "    },\n",
    "    {\n",
    "        'Study': 'Weigt (2009)',\n",
    "        'MOE': '10 €/MWh',\n",
    "        'Period': '2006-2008',\n",
    "        'Region': 'Germany',\n",
    "        'Method': 'ESS',\n",
    "    },\n",
    "    {\n",
    "        'Study': 'Keles et al. (2013)',\n",
    "        'MOE': '5.90 €/MWh',\n",
    "        'Period': '2006–2009',\n",
    "        'Region': 'Germany',\n",
    "        'Method': 'RPR',\n",
    "    },\n",
    "    {\n",
    "        'Study': 'Mulder and Scholtens (2013)',\n",
    "        'MOE': '0.03% (per p.p increase in wind speeds)',\n",
    "        'Period': '2006–2011',\n",
    "        'Region': 'Germany',\n",
    "        'Method': 'RPR',\n",
    "    },\n",
    "    {\n",
    "        'Study': 'Tveten et al. (2013)',\n",
    "        'MOE': '5.25 €/MWh (solar)',\n",
    "        'Period': '2006-2011',\n",
    "        'Region': 'Germany',\n",
    "        'Method': 'RPR',\n",
    "    },\n",
    "    {\n",
    "        'Study': 'Wurzburg et al. (2013)',\n",
    "        'MOE': '2%',\n",
    "        'Period': '2010-2012',\n",
    "        'Region': 'Germany & Austria',\n",
    "        'Method': 'RPR',\n",
    "    },\n",
    "    {\n",
    "        'Study': 'Cludius et al. (2014)',\n",
    "        'MOE': '8 €/MWh',\n",
    "        'Period': '2010-2012',\n",
    "        'Region': 'Germany',\n",
    "        'Method': 'RPR',\n",
    "    },\n",
    "    {\n",
    "        'Study': 'Ketterer (2014)',\n",
    "        'MOE': '1.46% (per p.p increase in wind generation)',\n",
    "        'Period': '2012',\n",
    "        'Region': 'Germany',\n",
    "        'Method': 'RPR',\n",
    "    },\n",
    "    {\n",
    "        'Study': 'Ederer (2015)',\n",
    "        'MOE': '1.3% (per annual TWh of wind)',\n",
    "        'Period': '2006-2014',\n",
    "        'Region': 'Germany',\n",
    "        'Method': 'MSS',\n",
    "    },\n",
    "#     {\n",
    "#         'Study': 'Kyritsis et al. (2017)',\n",
    "#         'MOE': '-',\n",
    "#         'Period': '2010-2015',\n",
    "#         'Region': 'Germany',\n",
    "#         'Method': 'RPR',\n",
    "#     },\n",
    "    {\n",
    "        'Study': 'Bublitz et al. (2017)',\n",
    "        'MOE': '5.40 €/MWh',\n",
    "        'Period': '2011-2015',\n",
    "        'Region': 'Germany',\n",
    "        'Method': 'ESS',\n",
    "    },\n",
    "    {\n",
    "        'Study': 'Bublitz et al. (2017)',\n",
    "        'MOE': '6.80 €/MWh',\n",
    "        'Period': '2011-2015',\n",
    "        'Region': 'Germany',\n",
    "        'Method': 'RPR',\n",
    "    },\n",
    "    {\n",
    "        'Study': 'de Miera et al. (2008)',\n",
    "        'MOE': '25.1%',\n",
    "        'Period': '2007',\n",
    "        'Region': 'Spain',\n",
    "        'Method': 'ESS',\n",
    "    },\n",
    "    {\n",
    "        'Study': 'Gelabert et al. (2011)',\n",
    "        'MOE': '3.7%',\n",
    "        'Period': '2005-2012',\n",
    "        'Region': 'Spain',\n",
    "        'Method': 'RPR',\n",
    "    },\n",
    "    {\n",
    "        'Study': 'Ciarreta et al. (2014)',\n",
    "        'MOE': '45 €/MWh',\n",
    "        'Period': '2012',\n",
    "        'Region': 'Spain',\n",
    "        'Method': 'ESS',\n",
    "    },\n",
    "    {\n",
    "        'Study': 'Clo et al. (2015)',\n",
    "        'MOE': '2.3 €/MWh (solar), 4.2 €/MWh (wind)',\n",
    "        'Period': '2005–2013',\n",
    "        'Region': 'Italy',\n",
    "        'Method': 'RPR',\n",
    "    },\n",
    "    {\n",
    "        'Study': 'Munksgaard and Morthorst (2008)',\n",
    "        'MOE': '4 €/MWh',\n",
    "        'Period': '2006',\n",
    "        'Region': 'Denmark',\n",
    "        'Method': 'RPR',\n",
    "    },\n",
    "#     {\n",
    "#         'Study': 'Jonsson et al. (2010)',\n",
    "#         'MOE': '-',\n",
    "#         'Period': '2006-2007',\n",
    "#         'Region': 'Denmark',\n",
    "#         'Method': 'RPR',\n",
    "#     },\n",
    "    {\n",
    "        'Study': 'Denny et al. (2017)',\n",
    "        'MOE': '3.40 €/MWh (per GWh of wind)',\n",
    "        'Period': '2009',\n",
    "        'Region': 'Ireland',\n",
    "        'Method': 'RPR',\n",
    "    },\n",
    "    {\n",
    "        'Study': 'Lunackova et al. (2017)',\n",
    "        'MOE': '1.2% (per 10% increase in RES)',\n",
    "        'Period': '2010-2015',\n",
    "        'Region': 'Czech Republic',\n",
    "        'Method': 'RPR',\n",
    "    },\n",
    "    {\n",
    "        'Study': 'Dillig et al. (2016)',\n",
    "        'MOE': '50.29 €/MWh',\n",
    "        'Period': '2011-2013',\n",
    "        'Region': 'Germany',\n",
    "        'Method': 'MSS',\n",
    "    },\n",
    "    {\n",
    "        'Study': 'McConnell et al. (2013)',\n",
    "        'MOE': '8.6%',\n",
    "        'Period': '2009-2010',\n",
    "        'Region': 'Australia',\n",
    "        'Method': 'MSS',\n",
    "    },\n",
    "    {\n",
    "        'Study': 'Moreno et al. (2012)',\n",
    "        'MOE': '-0.018% (per p.p. increase in RES)',\n",
    "        'Period': '1998–2009',\n",
    "        'Region': 'EU-27',\n",
    "        'Method': 'RPR',\n",
    "    },\n",
    "    {\n",
    "        'Study': 'Woo et al. (2011)',\n",
    "        'MOE': '1.53 $/MWh',\n",
    "        'Period': '2010',\n",
    "        'Region': 'Texas',\n",
    "        'Method': 'RPR',\n",
    "    },\n",
    "    {\n",
    "        'Study': 'Kaufmann and Vaid (2016)',\n",
    "        'MOE': '1.86 $/MWh (solar)',\n",
    "        'Period': '2012',\n",
    "        'Region': 'Massachusetts',\n",
    "        'Method': 'RPR',\n",
    "    },\n",
    "    {\n",
    "        'Study': 'Woo et al. (2016)',\n",
    "        'MOE': '5.3 $/MWh (solar) and 3.3 $/MWh (wind) per GWh of RES',\n",
    "        'Period': '2012-2015',\n",
    "        'Region': 'California',\n",
    "        'Method': 'RPR',\n",
    "    },\n",
    "    {\n",
    "        'Study': 'Paraschiv et al. (2014)',\n",
    "        'MOE': '0.15% (per MWh of RES)',\n",
    "        'Period': '2010-2013',\n",
    "        'Region': 'Germany',\n",
    "        'Method': 'RPR',\n",
    "    },\n",
    "    {\n",
    "        'Study': 'O\\'Mahoney and Denny (2011)',\n",
    "        'MOE': '12%',\n",
    "        'Period': '2009',\n",
    "        'Region': 'Ireland',\n",
    "        'Method': 'RPR',\n",
    "    },\n",
    "    {\n",
    "        'Study': 'Hildmann et al. (2015)',\n",
    "        'MOE': '18.6 €/MWh',\n",
    "        'Period': '2013',\n",
    "        'Region': 'Germany and Austria',\n",
    "        'Method': 'MSS',\n",
    "    },\n",
    "    {\n",
    "        'Study': 'Gil et al. (2012)',\n",
    "        'MOE': '9.72 €/MWh',\n",
    "        'Period': '2007-2010',\n",
    "        'Region': 'Spain',\n",
    "        'Method': 'RPR',\n",
    "    },\n",
    "#     { # Removed due to language barrier preventing method from being discerned\n",
    "#         'Study': 'Weber and Woll (2007)',\n",
    "#         'MOE': '4 €/MWh',\n",
    "#         'Period': '2006',\n",
    "#         'Region': 'Germany',\n",
    "#         'Method': '-',\n",
    "#     },\n",
    "    {\n",
    "        'Study': 'Halttunen et al. (2021)',\n",
    "        'MOE': '0.631 €/MWh (per p.p. increase in RES)',\n",
    "        'Period': '2012-2019',\n",
    "        'Region': 'Germany',\n",
    "        'Method': 'RPR',\n",
    "    },\n",
    "    {\n",
    "        'Study': 'Halttunen et al. (2021)',\n",
    "        'MOE': '0.482 €/MWh (per p.p. increase in RES)',\n",
    "        'Period': '2010-2019',\n",
    "        'Region': 'Germany',\n",
    "        'Method': 'RPR',\n",
    "    }\n",
    "]\n",
    "\n",
    "df_lit_results = pd.DataFrame(lit_results_data)\n",
    "\n",
    "df_lit_results['Study Year'] = df_lit_results['Study'].str.split('(').str[1].str.replace(')', '').astype(int)\n",
    "df_lit_results = df_lit_results.sort_values(['Method', 'Study Year', 'Study']).drop(columns=['Study Year']).reset_index(drop=True)\n",
    "\n",
    "df_lit_results.head()"
   ]
  },
  {
   "cell_type": "markdown",
   "metadata": {},
   "source": [
    "<br>\n",
    "\n",
    "We'll also export this as a LaTeX table"
   ]
  },
  {
   "cell_type": "code",
   "execution_count": 33,
   "metadata": {},
   "outputs": [
    {
     "data": {
      "text/latex": [
       "\\begin{table}\n",
       "\\centering\n",
       "\\caption{Results overview from the MOE literature}\n",
       "\\label{lit_results_table}\n",
       "\\begin{tabular}{|l|l|l|l|l|l|}\n",
       "\\hline\n",
       "                          Study &                                                MOE &    Period &              Region & Method \\\\ \\hline\n",
       "         Sensfuss et al. (2008) &                                         7.83 €/MWh &      2006 &             Germany &    ESS \\\\ \\hline\n",
       "         de Miera et al. (2008) &                                              25.1\\% &      2007 &               Spain &    ESS \\\\ \\hline\n",
       "                   Weigt (2009) &                                           10 €/MWh & 2006-2008 &             Germany &    ESS \\\\ \\hline\n",
       "         Ciarreta et al. (2014) &                                           45 €/MWh &      2012 &               Spain &    ESS \\\\ \\hline\n",
       "          Bublitz et al. (2017) &                                         5.40 €/MWh & 2011-2015 &             Germany &    ESS \\\\ \\hline\n",
       "        McConnell et al. (2013) &                                               8.6\\% & 2009-2010 &           Australia &    MSS \\\\ \\hline\n",
       "                  Ederer (2015) &                      1.3\\% (per annual TWh of wind) & 2006-2014 &             Germany &    MSS \\\\ \\hline\n",
       "         Hildmann et al. (2015) &                                         18.6 €/MWh &      2013 & Germany and Austria &    MSS \\\\ \\hline\n",
       "           Dillig et al. (2016) &                                        50.29 €/MWh & 2011-2013 &             Germany &    MSS \\\\ \\hline\n",
       "Munksgaard and Morthorst (2008) &                                            4 €/MWh &      2006 &             Denmark &    RPR \\\\ \\hline\n",
       "         Gelabert et al. (2011) &                                               3.7\\% & 2005-2012 &               Spain &    RPR \\\\ \\hline\n",
       "     O'Mahoney and Denny (2011) &                                                12\\% &      2009 &             Ireland &    RPR \\\\ \\hline\n",
       "              Woo et al. (2011) &                                         1.53 \\$/MWh &      2010 &               Texas &    RPR \\\\ \\hline\n",
       "              Gil et al. (2012) &                                         9.72 €/MWh & 2007-2010 &               Spain &    RPR \\\\ \\hline\n",
       "           Moreno et al. (2012) &                 -0.018\\% (per p.p. increase in RES) & 1998–2009 &               EU-27 &    RPR \\\\ \\hline\n",
       "            Keles et al. (2013) &                                         5.90 €/MWh & 2006–2009 &             Germany &    RPR \\\\ \\hline\n",
       "    Mulder and Scholtens (2013) &            0.03\\% (per p.p increase in wind speeds) & 2006–2011 &             Germany &    RPR \\\\ \\hline\n",
       "           Tveten et al. (2013) &                                 5.25 €/MWh (solar) & 2006-2011 &             Germany &    RPR \\\\ \\hline\n",
       "         Wurzburg et al. (2013) &                                                 2\\% & 2010-2012 &   Germany \\& Austria &    RPR \\\\ \\hline\n",
       "          Cludius et al. (2014) &                                            8 €/MWh & 2010-2012 &             Germany &    RPR \\\\ \\hline\n",
       "                Ketterer (2014) &        1.46\\% (per p.p increase in wind generation) &      2012 &             Germany &    RPR \\\\ \\hline\n",
       "        Paraschiv et al. (2014) &                             0.15\\% (per MWh of RES) & 2010-2013 &             Germany &    RPR \\\\ \\hline\n",
       "              Clo et al. (2015) &                2.3 €/MWh (solar), 4.2 €/MWh (wind) & 2005–2013 &               Italy &    RPR \\\\ \\hline\n",
       "       Kaufmann and Vaid (2016) &                                 1.86 \\$/MWh (solar) &      2012 &       Massachusetts &    RPR \\\\ \\hline\n",
       "              Woo et al. (2016) & 5.3 \\$/MWh (solar) and 3.3 \\$/MWh (wind) per GWh ... & 2012-2015 &          California &    RPR \\\\ \\hline\n",
       "          Bublitz et al. (2017) &                                         6.80 €/MWh & 2011-2015 &             Germany &    RPR \\\\ \\hline\n",
       "            Denny et al. (2017) &                       3.40 €/MWh (per GWh of wind) &      2009 &             Ireland &    RPR \\\\ \\hline\n",
       "        Lunackova et al. (2017) &                     1.2\\% (per 10\\% increase in RES) & 2010-2015 &      Czech Republic &    RPR \\\\ \\hline\n",
       "        Halttunen et al. (2021) &             0.631 €/MWh (per p.p. increase in RES) & 2012-2019 &             Germany &    RPR \\\\ \\hline\n",
       "        Halttunen et al. (2021) &             0.482 €/MWh (per p.p. increase in RES) & 2010-2019 &             Germany &    RPR \\\\ \\hline\n",
       "\\end{tabular}\n",
       "\\end{table}\n"
      ],
      "text/plain": [
       "<IPython.core.display.Latex object>"
      ]
     },
     "execution_count": 33,
     "metadata": {},
     "output_type": "execute_result"
    }
   ],
   "source": [
    "caption = 'Results overview from the MOE literature. All MOE percentages are expressed in terms of the reduction in prices relative to if renewables had not been present on the system.'\n",
    "label = 'table:lit_results_table'\n",
    "column_format = get_lined_column_format(df_lit_results.shape[1]+1)\n",
    "\n",
    "latex_str = df_lit_results.to_latex(column_format=column_format, caption=caption, label=label, index=False)\n",
    "\n",
    "for old, new in latex_replacements.items():\n",
    "    latex_str = latex_str.replace(old, new)\n",
    "\n",
    "Latex(latex_str)"
   ]
  },
  {
   "cell_type": "markdown",
   "metadata": {},
   "source": [
    "<br>\n",
    "\n",
    "### Figures\n",
    "\n",
    "##### Time Dimension Hyper-Parameters\n",
    "\n",
    "We'll create a plot showing an example of how regression dates are converted into weightings for the time-series"
   ]
  },
  {
   "cell_type": "code",
   "execution_count": 20,
   "metadata": {},
   "outputs": [
    {
     "data": {
      "text/plain": [
       "Text(0, 0.5, 'Relative Weighting')"
      ]
     },
     "execution_count": 20,
     "metadata": {},
     "output_type": "execute_result"
    },
    {
     "data": {
      "image/png": "[encoded data removed]",
      "text/plain": [
       "<Figure size 2000x1000 with 1 Axes>"
      ]
     },
     "metadata": {
      "needs_background": "light"
     },
     "output_type": "display_data"
    }
   ],
   "source": [
    "x = np.linspace(0, 1, 150)\n",
    "centers = [0.3, 0.5, 0.7]\n",
    "\n",
    "# Plotting\n",
    "fig, ax = plt.subplots(dpi=250, figsize=(8, 4))\n",
    "\n",
    "for center in centers:\n",
    "    dist = lowess.get_dist(x, center)\n",
    "    dist_threshold = lowess.get_dist_threshold(dist, frac=0.3)\n",
    "    weights = lowess.dist_to_weights(dist, dist_threshold)\n",
    "\n",
    "    ax.plot(x, weights, color='k')\n",
    "    \n",
    "x_pos = 0.4\n",
    "ax.annotate('Interval', xy=(x_pos, 0.95), xytext=(x_pos, 1.00), xycoords='axes fraction', \n",
    "            fontsize=6.5, ha='center', va='bottom',\n",
    "            bbox=dict(boxstyle='square', fc='white'),\n",
    "            arrowprops=dict(arrowstyle='-[, widthB=7.0, lengthB=1.5', lw=1.0))\n",
    "    \n",
    "x_pos = 0.5\n",
    "ax.annotate('Bandwidth', xy=(x_pos, 0.06), xytext=(x_pos, 0.11), xycoords='axes fraction', \n",
    "            fontsize=9.5, ha='center', va='bottom',\n",
    "            bbox=dict(boxstyle='square', fc='white'),\n",
    "            arrowprops=dict(arrowstyle='-[, widthB=7.0, lengthB=1.5', lw=1.0))\n",
    "\n",
    "ax.set_xlim(0, 1)\n",
    "ax.set_ylim(0, 1.1)\n",
    "eda.hide_spines(ax)\n",
    "ax.set_xlabel('Data Fraction')\n",
    "ax.set_ylabel('Relative Weighting')"
   ]
  },
  {
   "cell_type": "markdown",
   "metadata": {},
   "source": [
    "<br>\n",
    "\n",
    "##### Merit Order Effect Diagram\n",
    "\n",
    "We'll start by pre-processing the data and filtering for the 16/17 winter"
   ]
  },
  {
   "cell_type": "code",
   "execution_count": 67,
   "metadata": {},
   "outputs": [],
   "source": [
    "df_EI_model = df_EI.loc['2016-12':'2017-01', ['day_ahead_price', 'demand', 'solar', 'wind']].dropna()\n",
    "\n",
    "s_demand = df_EI_model['demand']\n",
    "s_price = df_EI_model['day_ahead_price']\n",
    "s_dispatchable = df_EI_model['demand'] - df_EI_model[['solar', 'wind']].sum(axis=1)"
   ]
  },
  {
   "cell_type": "markdown",
   "metadata": {},
   "source": [
    "<br>\n",
    "\n",
    "We'll now fit our model"
   ]
  },
  {
   "cell_type": "code",
   "execution_count": 143,
   "metadata": {},
   "outputs": [
    {
     "data": {
      "text/plain": [
       "<AxesSubplot:>"
      ]
     },
     "execution_count": 143,
     "metadata": {},
     "output_type": "execute_result"
    },
    {
     "data": {
      "image/png": "[encoded data removed]",
      "text/plain": [
       "<Figure size 432x288 with 1 Axes>"
      ]
     },
     "metadata": {
      "needs_background": "light"
     },
     "output_type": "display_data"
    }
   ],
   "source": [
    "x_pred = np.linspace(17.5, 50, 326)\n",
    "\n",
    "y_pred = lowess.lowess_fit_and_predict(s_dispatchable.values, \n",
    "                                       s_price.values, \n",
    "                                       frac=0.3, \n",
    "                                       num_fits=30, \n",
    "                                       x_pred=x_pred)\n",
    "\n",
    "s_pred = pd.Series(y_pred, index=x_pred)\n",
    "s_pred.index = pd.Series(s_pred.index).round(1).values\n",
    "\n",
    "s_pred.plot()"
   ]
  },
  {
   "cell_type": "markdown",
   "metadata": {},
   "source": [
    "<br>\n",
    "\n",
    "Next we can simulate how the price would change from a demand of 45 GW using the average RES output"
   ]
  },
  {
   "cell_type": "code",
   "execution_count": 144,
   "metadata": {},
   "outputs": [
    {
     "data": {
      "text/plain": [
       "(54.13, 71.22)"
      ]
     },
     "execution_count": 144,
     "metadata": {},
     "output_type": "execute_result"
    }
   ],
   "source": [
    "residual_demand_without_RES =  45\n",
    "residual_demand_with_RES = residual_demand_without_RES - (s_demand-s_dispatchable).mean()\n",
    "\n",
    "price_with_RES = s_pred.loc[round(residual_demand_with_RES, 1)]\n",
    "price_without_RES = s_pred.loc[round(residual_demand_without_RES, 1)]\n",
    "\n",
    "round(price_with_RES, 2), round(price_without_RES, 2)"
   ]
  },
  {
   "cell_type": "markdown",
   "metadata": {},
   "source": [
    "<br>\n",
    "\n",
    "We're now ready to plot how the intersection between supply and residual demand changes, with annotations explaining the drivers and effects"
   ]
  },
  {
   "cell_type": "code",
   "execution_count": 145,
   "metadata": {},
   "outputs": [
    {
     "data": {
      "image/png": "[encoded data removed]",
      "text/plain": [
       "<Figure size 1500x1000 with 1 Axes>"
      ]
     },
     "metadata": {
      "needs_background": "light"
     },
     "output_type": "display_data"
    }
   ],
   "source": [
    "ylim = (0, 100)\n",
    "xlim = (17.5, 50)\n",
    "intersection_linestyle = 'k--'\n",
    "linewidth = 0.5\n",
    "\n",
    "# Plotting\n",
    "fig, ax = plt.subplots(dpi=250)\n",
    "\n",
    "s_pred.plot(linewidth=1.5, color='r', ax=ax, zorder=3)\n",
    "ax.plot([residual_demand_without_RES, residual_demand_without_RES], [ylim[0], price_without_RES], intersection_linestyle, linewidth=linewidth)\n",
    "ax.plot([residual_demand_with_RES, residual_demand_with_RES], [ylim[0], price_with_RES], intersection_linestyle, linewidth=linewidth)\n",
    "ax.plot([xlim[0], residual_demand_without_RES], [price_without_RES, price_without_RES], intersection_linestyle, linewidth=linewidth)\n",
    "ax.plot([xlim[0], residual_demand_with_RES], [price_with_RES, price_with_RES], intersection_linestyle, linewidth=linewidth)\n",
    "\n",
    "ax.set_xlim(*xlim)\n",
    "ax.set_ylim(*ylim)\n",
    "eda.hide_spines(ax)\n",
    "ax.set_xlabel('Demand - [Solar + Wind] (GW)')\n",
    "ax.set_ylabel('Day-Ahead Price (£/MWh)')\n",
    "\n",
    "ax.annotate('Marginal Cost Curve', xy=(44, 95), ha='center', size=8)\n",
    "\n",
    "ax.annotate('Renewable\\nGeneration', xy=((residual_demand_without_RES+residual_demand_with_RES)/2, 25), ha='center', size=8)\n",
    "ax.annotate('', xy=(residual_demand_with_RES, 20), xytext=(residual_demand_without_RES, 20), arrowprops={'arrowstyle': '-|>', 'color': 'k'}, xycoords=('data'))\n",
    "\n",
    "ax.annotate('Merit\\nOrder\\nEffect', xy=(26, (price_with_RES+price_without_RES)/2), va='center', size=8)\n",
    "ax.annotate('', xy=(25, price_with_RES), xytext=(25, price_without_RES), arrowprops={'arrowstyle': '-|>', 'color': 'k'}, xycoords=('data'))\n",
    "\n",
    "fig.savefig('../img/MOE_diagram.png', dpi=250)"
   ]
  },
  {
   "cell_type": "code",
   "execution_count": null,
   "metadata": {},
   "outputs": [],
   "source": []
  }
 ],
 "metadata": {
  "kernelspec": {
   "display_name": "MOE",
   "language": "python",
   "name": "moe"
  },
  "language_info": {
   "codemirror_mode": {
    "name": "ipython",
    "version": 3
   },
   "file_extension": ".py",
   "mimetype": "text/x-python",
   "name": "python",
   "nbconvert_exporter": "python",
   "pygments_lexer": "ipython3",
   "version": "3.9.1"
  }
 },
 "nbformat": 4,
 "nbformat_minor": 4
}
