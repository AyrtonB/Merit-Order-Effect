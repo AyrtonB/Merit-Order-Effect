{
 "cells": [
  {
   "cell_type": "code",
   "execution_count": 1,
   "metadata": {},
   "outputs": [],
   "source": [
    "# default_exp surface"
   ]
  },
  {
   "cell_type": "markdown",
   "metadata": {},
   "source": [
    "# Estimation of Price & Carbon Intensity Surfaces\n",
    "\n",
    "<br>\n",
    "\n",
    "### Imports"
   ]
  },
  {
   "cell_type": "code",
   "execution_count": 2,
   "metadata": {},
   "outputs": [],
   "source": [
    "#exports\n",
    "import pandas as pd\n",
    "import numpy as np\n",
    "\n",
    "import seaborn as sns\n",
    "import matplotlib.pyplot as plt\n",
    "\n",
    "import os\n",
    "import pickle\n",
    "import FEAutils as hlp\n",
    "from ipypb import track\n",
    "\n",
    "from moepy import lowess, eda"
   ]
  },
  {
   "cell_type": "markdown",
   "metadata": {},
   "source": [
    "<br>\n",
    "\n",
    "### User Inputs"
   ]
  },
  {
   "cell_type": "code",
   "execution_count": 3,
   "metadata": {},
   "outputs": [],
   "source": [
    "models_dir = '../data/models'\n",
    "load_existing_model = True"
   ]
  },
  {
   "cell_type": "markdown",
   "metadata": {},
   "source": [
    "<br>\n",
    "\n",
    "### Loading & Cleaning Data"
   ]
  },
  {
   "cell_type": "code",
   "execution_count": 4,
   "metadata": {},
   "outputs": [
    {
     "name": "stdout",
     "output_type": "stream",
     "text": [
      "Wall time: 4.97 s\n"
     ]
    },
    {
     "data": {
      "text/html": [
       "<div>\n",
       "<style scoped>\n",
       "    .dataframe tbody tr th:only-of-type {\n",
       "        vertical-align: middle;\n",
       "    }\n",
       "\n",
       "    .dataframe tbody tr th {\n",
       "        vertical-align: top;\n",
       "    }\n",
       "\n",
       "    .dataframe thead th {\n",
       "        text-align: right;\n",
       "    }\n",
       "</style>\n",
       "<table border=\"1\" class=\"dataframe\">\n",
       "  <thead>\n",
       "    <tr style=\"text-align: right;\">\n",
       "      <th></th>\n",
       "      <th>day_ahead_price</th>\n",
       "      <th>SP</th>\n",
       "      <th>imbalance_price</th>\n",
       "      <th>valueSum</th>\n",
       "      <th>temperature</th>\n",
       "      <th>TCO2_per_h</th>\n",
       "      <th>gCO2_per_kWh</th>\n",
       "      <th>nuclear</th>\n",
       "      <th>biomass</th>\n",
       "      <th>coal</th>\n",
       "      <th>...</th>\n",
       "      <th>demand</th>\n",
       "      <th>pumped_storage</th>\n",
       "      <th>wind_onshore</th>\n",
       "      <th>wind_offshore</th>\n",
       "      <th>belgian</th>\n",
       "      <th>dutch</th>\n",
       "      <th>french</th>\n",
       "      <th>ireland</th>\n",
       "      <th>northern_ireland</th>\n",
       "      <th>irish</th>\n",
       "    </tr>\n",
       "    <tr>\n",
       "      <th>local_datetime</th>\n",
       "      <th></th>\n",
       "      <th></th>\n",
       "      <th></th>\n",
       "      <th></th>\n",
       "      <th></th>\n",
       "      <th></th>\n",
       "      <th></th>\n",
       "      <th></th>\n",
       "      <th></th>\n",
       "      <th></th>\n",
       "      <th></th>\n",
       "      <th></th>\n",
       "      <th></th>\n",
       "      <th></th>\n",
       "      <th></th>\n",
       "      <th></th>\n",
       "      <th></th>\n",
       "      <th></th>\n",
       "      <th></th>\n",
       "      <th></th>\n",
       "      <th></th>\n",
       "    </tr>\n",
       "  </thead>\n",
       "  <tbody>\n",
       "    <tr>\n",
       "      <th>2009-01-01 00:00:00+00:00</th>\n",
       "      <td>58.05</td>\n",
       "      <td>1</td>\n",
       "      <td>74.74</td>\n",
       "      <td>74.74</td>\n",
       "      <td>-0.6</td>\n",
       "      <td>21278.0</td>\n",
       "      <td>555.0</td>\n",
       "      <td>6.973</td>\n",
       "      <td>0.0</td>\n",
       "      <td>17.650</td>\n",
       "      <td>...</td>\n",
       "      <td>38.329</td>\n",
       "      <td>-0.404</td>\n",
       "      <td>NaN</td>\n",
       "      <td>NaN</td>\n",
       "      <td>0.0</td>\n",
       "      <td>0.0</td>\n",
       "      <td>1.977</td>\n",
       "      <td>0.0</td>\n",
       "      <td>0.0</td>\n",
       "      <td>-0.161</td>\n",
       "    </tr>\n",
       "    <tr>\n",
       "      <th>2009-01-01 00:30:00+00:00</th>\n",
       "      <td>56.33</td>\n",
       "      <td>2</td>\n",
       "      <td>74.89</td>\n",
       "      <td>74.89</td>\n",
       "      <td>-0.6</td>\n",
       "      <td>21442.0</td>\n",
       "      <td>558.0</td>\n",
       "      <td>6.968</td>\n",
       "      <td>0.0</td>\n",
       "      <td>17.770</td>\n",
       "      <td>...</td>\n",
       "      <td>38.461</td>\n",
       "      <td>-0.527</td>\n",
       "      <td>NaN</td>\n",
       "      <td>NaN</td>\n",
       "      <td>0.0</td>\n",
       "      <td>0.0</td>\n",
       "      <td>1.977</td>\n",
       "      <td>0.0</td>\n",
       "      <td>0.0</td>\n",
       "      <td>-0.160</td>\n",
       "    </tr>\n",
       "    <tr>\n",
       "      <th>2009-01-01 01:00:00+00:00</th>\n",
       "      <td>52.98</td>\n",
       "      <td>3</td>\n",
       "      <td>76.41</td>\n",
       "      <td>76.41</td>\n",
       "      <td>-0.6</td>\n",
       "      <td>21614.0</td>\n",
       "      <td>569.0</td>\n",
       "      <td>6.970</td>\n",
       "      <td>0.0</td>\n",
       "      <td>18.070</td>\n",
       "      <td>...</td>\n",
       "      <td>37.986</td>\n",
       "      <td>-1.018</td>\n",
       "      <td>NaN</td>\n",
       "      <td>NaN</td>\n",
       "      <td>0.0</td>\n",
       "      <td>0.0</td>\n",
       "      <td>1.977</td>\n",
       "      <td>0.0</td>\n",
       "      <td>0.0</td>\n",
       "      <td>-0.160</td>\n",
       "    </tr>\n",
       "    <tr>\n",
       "      <th>2009-01-01 01:30:00+00:00</th>\n",
       "      <td>50.39</td>\n",
       "      <td>4</td>\n",
       "      <td>37.73</td>\n",
       "      <td>37.73</td>\n",
       "      <td>-0.6</td>\n",
       "      <td>21320.0</td>\n",
       "      <td>578.0</td>\n",
       "      <td>6.969</td>\n",
       "      <td>0.0</td>\n",
       "      <td>18.022</td>\n",
       "      <td>...</td>\n",
       "      <td>36.864</td>\n",
       "      <td>-1.269</td>\n",
       "      <td>NaN</td>\n",
       "      <td>NaN</td>\n",
       "      <td>0.0</td>\n",
       "      <td>0.0</td>\n",
       "      <td>1.746</td>\n",
       "      <td>0.0</td>\n",
       "      <td>0.0</td>\n",
       "      <td>-0.160</td>\n",
       "    </tr>\n",
       "    <tr>\n",
       "      <th>2009-01-01 02:00:00+00:00</th>\n",
       "      <td>48.70</td>\n",
       "      <td>5</td>\n",
       "      <td>59.00</td>\n",
       "      <td>59.00</td>\n",
       "      <td>-0.6</td>\n",
       "      <td>21160.0</td>\n",
       "      <td>585.0</td>\n",
       "      <td>6.960</td>\n",
       "      <td>0.0</td>\n",
       "      <td>17.998</td>\n",
       "      <td>...</td>\n",
       "      <td>36.180</td>\n",
       "      <td>-1.566</td>\n",
       "      <td>NaN</td>\n",
       "      <td>NaN</td>\n",
       "      <td>0.0</td>\n",
       "      <td>0.0</td>\n",
       "      <td>1.730</td>\n",
       "      <td>0.0</td>\n",
       "      <td>0.0</td>\n",
       "      <td>-0.160</td>\n",
       "    </tr>\n",
       "  </tbody>\n",
       "</table>\n",
       "<p>5 rows × 24 columns</p>\n",
       "</div>"
      ],
      "text/plain": [
       "                           day_ahead_price  SP  imbalance_price  valueSum  \\\n",
       "local_datetime                                                              \n",
       "2009-01-01 00:00:00+00:00            58.05   1            74.74     74.74   \n",
       "2009-01-01 00:30:00+00:00            56.33   2            74.89     74.89   \n",
       "2009-01-01 01:00:00+00:00            52.98   3            76.41     76.41   \n",
       "2009-01-01 01:30:00+00:00            50.39   4            37.73     37.73   \n",
       "2009-01-01 02:00:00+00:00            48.70   5            59.00     59.00   \n",
       "\n",
       "                           temperature  TCO2_per_h  gCO2_per_kWh  nuclear  \\\n",
       "local_datetime                                                              \n",
       "2009-01-01 00:00:00+00:00         -0.6     21278.0         555.0    6.973   \n",
       "2009-01-01 00:30:00+00:00         -0.6     21442.0         558.0    6.968   \n",
       "2009-01-01 01:00:00+00:00         -0.6     21614.0         569.0    6.970   \n",
       "2009-01-01 01:30:00+00:00         -0.6     21320.0         578.0    6.969   \n",
       "2009-01-01 02:00:00+00:00         -0.6     21160.0         585.0    6.960   \n",
       "\n",
       "                           biomass    coal  ...  demand  pumped_storage  \\\n",
       "local_datetime                              ...                           \n",
       "2009-01-01 00:00:00+00:00      0.0  17.650  ...  38.329          -0.404   \n",
       "2009-01-01 00:30:00+00:00      0.0  17.770  ...  38.461          -0.527   \n",
       "2009-01-01 01:00:00+00:00      0.0  18.070  ...  37.986          -1.018   \n",
       "2009-01-01 01:30:00+00:00      0.0  18.022  ...  36.864          -1.269   \n",
       "2009-01-01 02:00:00+00:00      0.0  17.998  ...  36.180          -1.566   \n",
       "\n",
       "                           wind_onshore  wind_offshore  belgian  dutch  \\\n",
       "local_datetime                                                           \n",
       "2009-01-01 00:00:00+00:00           NaN            NaN      0.0    0.0   \n",
       "2009-01-01 00:30:00+00:00           NaN            NaN      0.0    0.0   \n",
       "2009-01-01 01:00:00+00:00           NaN            NaN      0.0    0.0   \n",
       "2009-01-01 01:30:00+00:00           NaN            NaN      0.0    0.0   \n",
       "2009-01-01 02:00:00+00:00           NaN            NaN      0.0    0.0   \n",
       "\n",
       "                           french  ireland  northern_ireland  irish  \n",
       "local_datetime                                                       \n",
       "2009-01-01 00:00:00+00:00   1.977      0.0               0.0 -0.161  \n",
       "2009-01-01 00:30:00+00:00   1.977      0.0               0.0 -0.160  \n",
       "2009-01-01 01:00:00+00:00   1.977      0.0               0.0 -0.160  \n",
       "2009-01-01 01:30:00+00:00   1.746      0.0               0.0 -0.160  \n",
       "2009-01-01 02:00:00+00:00   1.730      0.0               0.0 -0.160  \n",
       "\n",
       "[5 rows x 24 columns]"
      ]
     },
     "execution_count": 4,
     "metadata": {},
     "output_type": "execute_result"
    }
   ],
   "source": [
    "%%time\n",
    "\n",
    "df_EI = eda.load_EI_df('../data/electric_insights.csv')\n",
    "\n",
    "df_EI.head()"
   ]
  },
  {
   "cell_type": "code",
   "execution_count": null,
   "metadata": {},
   "outputs": [],
   "source": []
  },
  {
   "cell_type": "code",
   "execution_count": 5,
   "metadata": {},
   "outputs": [
    {
     "data": {
      "text/plain": [
       "Text(0, 0.5, 'Price (£/MWh)')"
      ]
     },
     "execution_count": 5,
     "metadata": {},
     "output_type": "execute_result"
    },
    {
     "data": {
      "image/png": "[encoded data removed]",
      "text/plain": [
       "<Figure size 900x600 with 1 Axes>"
      ]
     },
     "metadata": {
      "needs_background": "light"
     },
     "output_type": "display_data"
    }
   ],
   "source": [
    "df_EI_model = df_EI[['day_ahead_price', 'demand', 'solar', 'wind']].dropna()\n",
    "\n",
    "s_demand = df_EI_model['demand']\n",
    "s_price = df_EI_model['day_ahead_price']\n",
    "s_dispatchable = df_EI_model['demand'] - df_EI_model[['solar', 'wind']].sum(axis=1)\n",
    "\n",
    "# Plotting\n",
    "fig, ax = plt.subplots(dpi=150)\n",
    "\n",
    "ax.scatter(s_dispatchable['2010-09':'2011-03'], s_price['2010-09':'2011-03'], s=1)\n",
    "ax.scatter(s_dispatchable['2020-03':'2020-09'], s_price['2020-03':'2020-09'], s=1)\n",
    "\n",
    "hlp.hide_spines(ax)\n",
    "ax.set_xlim(8, 60)\n",
    "ax.set_ylim(-25, 100)\n",
    "ax.set_xlabel('Demand - [Wind + Solar] (MW)')\n",
    "ax.set_ylabel('Price (£/MWh)')"
   ]
  },
  {
   "cell_type": "code",
   "execution_count": null,
   "metadata": {},
   "outputs": [],
   "source": []
  },
  {
   "cell_type": "code",
   "execution_count": 11,
   "metadata": {},
   "outputs": [
    {
     "data": {
      "text/html": [
       "<div>\n",
       "<style scoped>\n",
       "    .dataframe tbody tr th:only-of-type {\n",
       "        vertical-align: middle;\n",
       "    }\n",
       "\n",
       "    .dataframe tbody tr th {\n",
       "        vertical-align: top;\n",
       "    }\n",
       "\n",
       "    .dataframe thead th {\n",
       "        text-align: right;\n",
       "    }\n",
       "</style>\n",
       "<table border=\"1\" class=\"dataframe\">\n",
       "  <thead>\n",
       "    <tr style=\"text-align: right;\">\n",
       "      <th></th>\n",
       "      <th>Biomass</th>\n",
       "      <th>Brown Coal</th>\n",
       "      <th>Gas</th>\n",
       "      <th>Hard Coal</th>\n",
       "      <th>Hydro Power</th>\n",
       "      <th>Oil</th>\n",
       "      <th>Others</th>\n",
       "      <th>Pumped Storage</th>\n",
       "      <th>Seasonal Storage</th>\n",
       "      <th>Solar</th>\n",
       "      <th>Uranium</th>\n",
       "      <th>Wind</th>\n",
       "      <th>net_balance</th>\n",
       "      <th>demand</th>\n",
       "      <th>price</th>\n",
       "    </tr>\n",
       "    <tr>\n",
       "      <th>local_datetime</th>\n",
       "      <th></th>\n",
       "      <th></th>\n",
       "      <th></th>\n",
       "      <th></th>\n",
       "      <th></th>\n",
       "      <th></th>\n",
       "      <th></th>\n",
       "      <th></th>\n",
       "      <th></th>\n",
       "      <th></th>\n",
       "      <th></th>\n",
       "      <th></th>\n",
       "      <th></th>\n",
       "      <th></th>\n",
       "      <th></th>\n",
       "    </tr>\n",
       "  </thead>\n",
       "  <tbody>\n",
       "    <tr>\n",
       "      <th>2010-01-03 23:00:00+00:00</th>\n",
       "      <td>3.637</td>\n",
       "      <td>16.533</td>\n",
       "      <td>4.726</td>\n",
       "      <td>10.078</td>\n",
       "      <td>2.331</td>\n",
       "      <td>0.000</td>\n",
       "      <td>0.0</td>\n",
       "      <td>0.052</td>\n",
       "      <td>0.068</td>\n",
       "      <td>0.0</td>\n",
       "      <td>16.826</td>\n",
       "      <td>0.635</td>\n",
       "      <td>-1.229</td>\n",
       "      <td>53.657</td>\n",
       "      <td>NaN</td>\n",
       "    </tr>\n",
       "    <tr>\n",
       "      <th>2010-01-04 00:00:00+00:00</th>\n",
       "      <td>3.637</td>\n",
       "      <td>16.544</td>\n",
       "      <td>4.856</td>\n",
       "      <td>8.816</td>\n",
       "      <td>2.293</td>\n",
       "      <td>0.000</td>\n",
       "      <td>0.0</td>\n",
       "      <td>0.038</td>\n",
       "      <td>0.003</td>\n",
       "      <td>0.0</td>\n",
       "      <td>16.841</td>\n",
       "      <td>0.528</td>\n",
       "      <td>-1.593</td>\n",
       "      <td>51.963</td>\n",
       "      <td>NaN</td>\n",
       "    </tr>\n",
       "    <tr>\n",
       "      <th>2010-01-04 01:00:00+00:00</th>\n",
       "      <td>3.637</td>\n",
       "      <td>16.368</td>\n",
       "      <td>5.275</td>\n",
       "      <td>7.954</td>\n",
       "      <td>2.299</td>\n",
       "      <td>0.000</td>\n",
       "      <td>0.0</td>\n",
       "      <td>0.032</td>\n",
       "      <td>0.000</td>\n",
       "      <td>0.0</td>\n",
       "      <td>16.846</td>\n",
       "      <td>0.616</td>\n",
       "      <td>-1.378</td>\n",
       "      <td>51.649</td>\n",
       "      <td>NaN</td>\n",
       "    </tr>\n",
       "    <tr>\n",
       "      <th>2010-01-04 02:00:00+00:00</th>\n",
       "      <td>3.637</td>\n",
       "      <td>15.837</td>\n",
       "      <td>5.354</td>\n",
       "      <td>7.681</td>\n",
       "      <td>2.299</td>\n",
       "      <td>0.000</td>\n",
       "      <td>0.0</td>\n",
       "      <td>0.027</td>\n",
       "      <td>0.000</td>\n",
       "      <td>0.0</td>\n",
       "      <td>16.699</td>\n",
       "      <td>0.630</td>\n",
       "      <td>-1.624</td>\n",
       "      <td>50.540</td>\n",
       "      <td>NaN</td>\n",
       "    </tr>\n",
       "    <tr>\n",
       "      <th>2010-01-04 03:00:00+00:00</th>\n",
       "      <td>3.637</td>\n",
       "      <td>15.452</td>\n",
       "      <td>5.918</td>\n",
       "      <td>7.498</td>\n",
       "      <td>2.301</td>\n",
       "      <td>0.003</td>\n",
       "      <td>0.0</td>\n",
       "      <td>0.020</td>\n",
       "      <td>0.000</td>\n",
       "      <td>0.0</td>\n",
       "      <td>16.635</td>\n",
       "      <td>0.713</td>\n",
       "      <td>-0.731</td>\n",
       "      <td>51.446</td>\n",
       "      <td>NaN</td>\n",
       "    </tr>\n",
       "  </tbody>\n",
       "</table>\n",
       "</div>"
      ],
      "text/plain": [
       "                           Biomass  Brown Coal    Gas  Hard Coal  Hydro Power  \\\n",
       "local_datetime                                                                  \n",
       "2010-01-03 23:00:00+00:00    3.637      16.533  4.726     10.078        2.331   \n",
       "2010-01-04 00:00:00+00:00    3.637      16.544  4.856      8.816        2.293   \n",
       "2010-01-04 01:00:00+00:00    3.637      16.368  5.275      7.954        2.299   \n",
       "2010-01-04 02:00:00+00:00    3.637      15.837  5.354      7.681        2.299   \n",
       "2010-01-04 03:00:00+00:00    3.637      15.452  5.918      7.498        2.301   \n",
       "\n",
       "                             Oil  Others  Pumped Storage  Seasonal Storage  \\\n",
       "local_datetime                                                               \n",
       "2010-01-03 23:00:00+00:00  0.000     0.0           0.052             0.068   \n",
       "2010-01-04 00:00:00+00:00  0.000     0.0           0.038             0.003   \n",
       "2010-01-04 01:00:00+00:00  0.000     0.0           0.032             0.000   \n",
       "2010-01-04 02:00:00+00:00  0.000     0.0           0.027             0.000   \n",
       "2010-01-04 03:00:00+00:00  0.003     0.0           0.020             0.000   \n",
       "\n",
       "                           Solar  Uranium   Wind  net_balance  demand  price  \n",
       "local_datetime                                                                \n",
       "2010-01-03 23:00:00+00:00    0.0   16.826  0.635       -1.229  53.657    NaN  \n",
       "2010-01-04 00:00:00+00:00    0.0   16.841  0.528       -1.593  51.963    NaN  \n",
       "2010-01-04 01:00:00+00:00    0.0   16.846  0.616       -1.378  51.649    NaN  \n",
       "2010-01-04 02:00:00+00:00    0.0   16.699  0.630       -1.624  50.540    NaN  \n",
       "2010-01-04 03:00:00+00:00    0.0   16.635  0.713       -0.731  51.446    NaN  "
      ]
     },
     "execution_count": 11,
     "metadata": {},
     "output_type": "execute_result"
    }
   ],
   "source": [
    "df_DE = eda.load_DE_df('../data/energy_charts.csv', '../data/ENTSOE_DE_price.csv')\n",
    "\n",
    "df_DE.head()"
   ]
  },
  {
   "cell_type": "code",
   "execution_count": null,
   "metadata": {},
   "outputs": [],
   "source": []
  },
  {
   "cell_type": "code",
   "execution_count": 15,
   "metadata": {},
   "outputs": [
    {
     "data": {
      "text/plain": [
       "Text(0, 0.5, 'Price (£/MWh)')"
      ]
     },
     "execution_count": 15,
     "metadata": {},
     "output_type": "execute_result"
    },
    {
     "data": {
      "image/png": "[encoded data removed]",
      "text/plain": [
       "<Figure size 900x600 with 1 Axes>"
      ]
     },
     "metadata": {
      "needs_background": "light"
     },
     "output_type": "display_data"
    }
   ],
   "source": [
    "df_DE_model = df_DE[['price', 'demand', 'Solar', 'Wind']].dropna()\n",
    "\n",
    "s_DE_demand = df_DE_model['demand']\n",
    "s_DE_price = df_DE_model['price']\n",
    "s_DE_dispatchable = df_DE_model['demand'] - df_DE_model[['Solar', 'Wind']].sum(axis=1)\n",
    "\n",
    "# Plotting\n",
    "fig, ax = plt.subplots(dpi=150)\n",
    "\n",
    "ax.scatter(s_DE_dispatchable['2015-09':'2016-03'], s_DE_price['2015-09':'2016-03'], s=1)\n",
    "ax.scatter(s_DE_dispatchable['2020-03':'2020-09'], s_DE_price['2020-03':'2020-09'], s=1)\n",
    "\n",
    "hlp.hide_spines(ax)\n",
    "ax.set_xlim(8, 75)\n",
    "ax.set_ylim(-25, 100)\n",
    "ax.set_xlabel('Demand - [Wind + Solar] (MW)')\n",
    "ax.set_ylabel('Price (£/MWh)')"
   ]
  },
  {
   "cell_type": "code",
   "execution_count": null,
   "metadata": {},
   "outputs": [],
   "source": []
  },
  {
   "cell_type": "markdown",
   "metadata": {},
   "source": [
    "<br>\n",
    "\n",
    "### Hyper-Parameter Tuning"
   ]
  },
  {
   "cell_type": "code",
   "execution_count": 6,
   "metadata": {},
   "outputs": [],
   "source": [
    "# should use skopt wrapper from smart meter modelling\n",
    "# this section should be saved to the module but not run in the main pipeline"
   ]
  },
  {
   "cell_type": "code",
   "execution_count": null,
   "metadata": {},
   "outputs": [],
   "source": []
  },
  {
   "cell_type": "code",
   "execution_count": null,
   "metadata": {},
   "outputs": [],
   "source": []
  },
  {
   "cell_type": "markdown",
   "metadata": {},
   "source": [
    "<br>\n",
    "\n",
    "### Results Wrapper"
   ]
  },
  {
   "cell_type": "code",
   "execution_count": 22,
   "metadata": {},
   "outputs": [],
   "source": [
    "#exports\n",
    "import copy\n",
    "import types\n",
    "import marshal\n",
    "\n",
    "class PicklableFunction:\n",
    "    def __init__(self, fun):\n",
    "        self._fun = fun\n",
    "\n",
    "    def __call__(self, *args, **kwargs):\n",
    "        return self._fun(*args, **kwargs)\n",
    "\n",
    "    def __getstate__(self):\n",
    "        try:\n",
    "            return pickle.dumps(self._fun)\n",
    "        except Exception:\n",
    "            return marshal.dumps((self._fun.__code__, self._fun.__name__))\n",
    "\n",
    "    def __setstate__(self, state):\n",
    "        try:\n",
    "            self._fun = pickle.loads(state)\n",
    "        except Exception:\n",
    "            code, name = marshal.loads(state)\n",
    "            self._fun = types.FunctionType(code, {}, name)\n",
    "            \n",
    "        return\n",
    "          \n",
    "def get_fit_kwarg_sets(qs=np.linspace(0.1, 0.9, 9)):\n",
    "    fit_kwarg_sets = [\n",
    "        # quantile lowess\n",
    "        { \n",
    "            'name': f'p{int(q*100)}',\n",
    "            'lowess_kwargs': {'reg_func': PicklableFunction(lowess.calc_quant_reg_betas)},\n",
    "            'q': q,\n",
    "        }\n",
    "        for q in qs\n",
    "\n",
    "        # standard lowess\n",
    "    ] + [{'name': 'average'}] \n",
    "    \n",
    "    return fit_kwarg_sets"
   ]
  },
  {
   "cell_type": "code",
   "execution_count": 31,
   "metadata": {},
   "outputs": [],
   "source": [
    "model_definitions = {\n",
    "    'DAM_price_GB': {\n",
    "        'dt_idx': s_dispatchable.index,\n",
    "        'x': s_dispatchable.values,\n",
    "        'y': s_price.values,\n",
    "        'reg_dates_start': '2009-01-01',\n",
    "        'reg_dates_end': '2021-01-01',\n",
    "        'reg_dates_freq': '13W', # 13 \n",
    "        'frac': 0.3, \n",
    "        'num_fits': 31, # 31\n",
    "        'dates_smoothing_value': 26, # 26\n",
    "        'dates_smoothing_units': 'W',\n",
    "        'fit_kwarg_sets': get_fit_kwarg_sets(qs=[0.16, 0.5, 0.84])\n",
    "    },\n",
    "    'DAM_price_demand_GB': {\n",
    "        'dt_idx': s_demand.index,\n",
    "        'x': s_demand.values,\n",
    "        'y': s_price.values,\n",
    "        'reg_dates_start': '2009-01-01',\n",
    "        'reg_dates_end': '2021-01-01',\n",
    "        'reg_dates_freq': '13W', # 13 \n",
    "        'frac': 0.3, \n",
    "        'num_fits': 31, # 31\n",
    "        'dates_smoothing_value': 26, # 26\n",
    "        'dates_smoothing_units': 'W',\n",
    "        'fit_kwarg_sets': get_fit_kwarg_sets(qs=[0.5])\n",
    "    },\n",
    "    'DAM_price_DE': {\n",
    "        'dt_idx': s_DE_dispatchable.index,\n",
    "        'x': s_DE_dispatchable.values,\n",
    "        'y': s_DE_price.values,\n",
    "        'reg_dates_start': '2015-01-04',\n",
    "        'reg_dates_end': '2021-01-01',\n",
    "        'reg_dates_freq': '13W', # 13 \n",
    "        'frac': 0.3, \n",
    "        'num_fits': 31, # 31\n",
    "        'dates_smoothing_value': 26, # 26\n",
    "        'dates_smoothing_units': 'W',\n",
    "        'fit_kwarg_sets': get_fit_kwarg_sets(qs=[0.16, 0.5, 0.84])\n",
    "    },\n",
    "    'DAM_price_demand_DE': {\n",
    "        'dt_idx': s_DE_dispatchable.index,\n",
    "        'x': s_DE_demand.values,\n",
    "        'y': s_DE_price.values,\n",
    "        'reg_dates_start': '2015-01-04',\n",
    "        'reg_dates_end': '2021-01-01',\n",
    "        'reg_dates_freq': '13W', # 13 \n",
    "        'frac': 0.3, \n",
    "        'num_fits': 31, # 31\n",
    "        'dates_smoothing_value': 26, # 26\n",
    "        'dates_smoothing_units': 'W',\n",
    "        'fit_kwarg_sets': get_fit_kwarg_sets(qs=[0.5])\n",
    "    }\n",
    "}"
   ]
  },
  {
   "cell_type": "code",
   "execution_count": 28,
   "metadata": {},
   "outputs": [],
   "source": [
    "# Should make it so that model_defs are JSON parseable and can be stored as a yaml\n",
    "# Can map from strings to parameterised funcs within the `fit_models` wrapper\n",
    "# create the dispatchable column as part of a feature generation step within `retrieval`"
   ]
  },
  {
   "cell_type": "code",
   "execution_count": 29,
   "metadata": {},
   "outputs": [],
   "source": [
    "#exports\n",
    "def fit_models(model_definitions, models_dir):\n",
    "    for model_parent_name, model_spec in model_definitions.items():\n",
    "        for fit_kwarg_set in track(model_spec['fit_kwarg_sets'], label=model_parent_name):\n",
    "            run_name = fit_kwarg_set.pop('name')\n",
    "            model_name = f'{model_parent_name}_{run_name}'\n",
    "\n",
    "            if f'{model_name}.pkl' not in os.listdir(models_dir):\n",
    "                smooth_dates = lowess.SmoothDates()\n",
    "\n",
    "                reg_dates = pd.date_range(\n",
    "                    model_spec['reg_dates_start'], \n",
    "                    model_spec['reg_dates_end'], \n",
    "                    freq=model_spec['reg_dates_freq']\n",
    "                )\n",
    "                \n",
    "                smooth_dates.fit(\n",
    "                    model_spec['x'], \n",
    "                    model_spec['y'], \n",
    "                    dt_idx=model_spec['dt_idx'], \n",
    "                    reg_dates=reg_dates, \n",
    "                    frac=model_spec['frac'], \n",
    "                    threshold_value=model_spec['dates_smoothing_value'], \n",
    "                    threshold_units=model_spec['dates_smoothing_units'],\n",
    "                    num_fits=model_spec['num_fits'], \n",
    "                    **fit_kwarg_set\n",
    "                )\n",
    "                \n",
    "                model_fp = f'{models_dir}/{model_name}.pkl'\n",
    "                pickle.dump(smooth_dates, open(model_fp, 'wb'))\n",
    "\n",
    "                del smooth_dates"
   ]
  },
  {
   "cell_type": "code",
   "execution_count": 30,
   "metadata": {},
   "outputs": [
    {
     "data": {
      "text/html": [
       "<div><span class=\"Text-label\" style=\"display:inline-block; overflow:hidden; white-space:nowrap; text-overflow:ellipsis; min-width:15ex; max-width:15ex; vertical-align:middle; text-align:right\">DAM_price</span>\n",
       "<progress style=\"width:45ex\" max=\"4\" value=\"4\" class=\"Progress-main\"/></progress>\n",
       "<span class=\"Progress-label\"><strong>100%</strong></span>\n",
       "<span class=\"Iteration-label\">4/4</span>\n",
       "<span class=\"Time-label\">[03:09:29<00:00, 2842.24s/it]</span></div>"
      ],
      "text/plain": [
       "\u001b[A\u001b[2K\r",
       "      DAM_price [█████████████████████████████████████████████] 4/4 [03:09:29<00:00, 2842.24s/it]\u001b[B"
      ]
     },
     "metadata": {},
     "output_type": "display_data"
    },
    {
     "data": {
      "text/html": [
       "<div><span class=\"Text-label\" style=\"display:inline-block; overflow:hidden; white-space:nowrap; text-overflow:ellipsis; min-width:0; max-width:15ex; vertical-align:middle; text-align:right\"></span>\n",
       "<progress style=\"width:60ex\" max=\"49\" value=\"49\" class=\"Progress-main\"/></progress>\n",
       "<span class=\"Progress-label\"><strong>100%</strong></span>\n",
       "<span class=\"Iteration-label\">49/49</span>\n",
       "<span class=\"Time-label\">[01:33:10<01:58, 114.08s/it]</span></div>"
      ],
      "text/plain": [
       "\u001b[A\u001b[2K\r",
       " [████████████████████████████████████████████████████████████] 49/49 [01:33:10<01:58, 114.08s/it]"
      ]
     },
     "metadata": {},
     "output_type": "display_data"
    },
    {
     "data": {
      "text/html": [
       "<div><span class=\"Text-label\" style=\"display:inline-block; overflow:hidden; white-space:nowrap; text-overflow:ellipsis; min-width:0; max-width:15ex; vertical-align:middle; text-align:right\"></span>\n",
       "<progress style=\"width:60ex\" max=\"49\" value=\"49\" class=\"Progress-main\"/></progress>\n",
       "<span class=\"Progress-label\"><strong>100%</strong></span>\n",
       "<span class=\"Iteration-label\">49/49</span>\n",
       "<span class=\"Time-label\">[01:35:60<02:06, 117.54s/it]</span></div>"
      ],
      "text/plain": [
       "\u001b[A\u001b[2K\r",
       " [████████████████████████████████████████████████████████████] 49/49 [01:35:60<02:06, 117.54s/it]"
      ]
     },
     "metadata": {},
     "output_type": "display_data"
    },
    {
     "data": {
      "text/html": [
       "<div><span class=\"Text-label\" style=\"display:inline-block; overflow:hidden; white-space:nowrap; text-overflow:ellipsis; min-width:15ex; max-width:15ex; vertical-align:middle; text-align:right\">DAM_price_demand</span>\n",
       "<progress style=\"width:45ex\" max=\"10\" value=\"10\" class=\"Progress-main\"/></progress>\n",
       "<span class=\"Progress-label\"><strong>100%</strong></span>\n",
       "<span class=\"Iteration-label\">10/10</span>\n",
       "<span class=\"Time-label\">[00:00<00:00, 0.00s/it]</span></div>"
      ],
      "text/plain": [
       "\u001b[A\u001b[2K\r",
       "DAM_price_deman [█████████████████████████████████████████████] 10/10 [00:00<00:00, 0.00s/it]\u001b[B"
      ]
     },
     "metadata": {},
     "output_type": "display_data"
    },
    {
     "data": {
      "text/html": [
       "<div><span class=\"Text-label\" style=\"display:inline-block; overflow:hidden; white-space:nowrap; text-overflow:ellipsis; min-width:15ex; max-width:15ex; vertical-align:middle; text-align:right\">DAM_price_DE</span>\n",
       "<progress style=\"width:45ex\" max=\"4\" value=\"4\" class=\"Progress-main\"/></progress>\n",
       "<span class=\"Progress-label\"><strong>100%</strong></span>\n",
       "<span class=\"Iteration-label\">4/4</span>\n",
       "<span class=\"Time-label\">[07:40<00:00, 114.95s/it]</span></div>"
      ],
      "text/plain": [
       "\u001b[A\u001b[2K\r",
       "   DAM_price_DE [█████████████████████████████████████████████] 4/4 [07:40<00:00, 114.95s/it]\u001b[B"
      ]
     },
     "metadata": {},
     "output_type": "display_data"
    },
    {
     "data": {
      "text/html": [
       "<div><span class=\"Text-label\" style=\"display:inline-block; overflow:hidden; white-space:nowrap; text-overflow:ellipsis; min-width:0; max-width:15ex; vertical-align:middle; text-align:right\"></span>\n",
       "<progress style=\"width:60ex\" max=\"25\" value=\"25\" class=\"Progress-main\"/></progress>\n",
       "<span class=\"Progress-label\"><strong>100%</strong></span>\n",
       "<span class=\"Iteration-label\">25/25</span>\n",
       "<span class=\"Time-label\">[04:33<00:10, 10.91s/it]</span></div>"
      ],
      "text/plain": [
       "\u001b[A\u001b[2K\r",
       " [████████████████████████████████████████████████████████████] 25/25 [04:33<00:10, 10.91s/it]"
      ]
     },
     "metadata": {},
     "output_type": "display_data"
    },
    {
     "data": {
      "text/html": [
       "<div><span class=\"Text-label\" style=\"display:inline-block; overflow:hidden; white-space:nowrap; text-overflow:ellipsis; min-width:0; max-width:15ex; vertical-align:middle; text-align:right\"></span>\n",
       "<progress style=\"width:60ex\" max=\"25\" value=\"25\" class=\"Progress-main\"/></progress>\n",
       "<span class=\"Progress-label\"><strong>100%</strong></span>\n",
       "<span class=\"Iteration-label\">25/25</span>\n",
       "<span class=\"Time-label\">[03:05<00:06, 7.40s/it]</span></div>"
      ],
      "text/plain": [
       "\u001b[A\u001b[2K\r",
       " [████████████████████████████████████████████████████████████] 25/25 [03:05<00:06, 7.40s/it]"
      ]
     },
     "metadata": {},
     "output_type": "display_data"
    },
    {
     "data": {
      "text/html": [
       "<div><span class=\"Text-label\" style=\"display:inline-block; overflow:hidden; white-space:nowrap; text-overflow:ellipsis; min-width:15ex; max-width:15ex; vertical-align:middle; text-align:right\">DAM_price_demand_DE</span>\n",
       "<progress style=\"width:45ex\" max=\"1\" value=\"1\" class=\"Progress-main\"/></progress>\n",
       "<span class=\"Progress-label\"><strong>100%</strong></span>\n",
       "<span class=\"Iteration-label\">1/1</span>\n",
       "<span class=\"Time-label\">[00:32<00:32, 31.54s/it]</span></div>"
      ],
      "text/plain": [
       "\u001b[A\u001b[A\u001b[2K\r",
       "DAM_price_deman [█████████████████████████████████████████████] 1/1 [00:32<00:32, 31.54s/it]\u001b[B"
      ]
     },
     "metadata": {},
     "output_type": "display_data"
    },
    {
     "data": {
      "text/html": [
       "<div><span class=\"Text-label\" style=\"display:inline-block; overflow:hidden; white-space:nowrap; text-overflow:ellipsis; min-width:0; max-width:15ex; vertical-align:middle; text-align:right\"></span>\n",
       "<progress style=\"width:60ex\" max=\"25\" value=\"25\" class=\"Progress-main\"/></progress>\n",
       "<span class=\"Progress-label\"><strong>100%</strong></span>\n",
       "<span class=\"Iteration-label\">25/25</span>\n",
       "<span class=\"Time-label\">[00:31<00:01, 1.23s/it]</span></div>"
      ],
      "text/plain": [
       "\u001b[A\u001b[2K\r",
       " [████████████████████████████████████████████████████████████] 25/25 [00:31<00:01, 1.23s/it]"
      ]
     },
     "metadata": {},
     "output_type": "display_data"
    }
   ],
   "source": [
    "fit_models(model_definitions, models_dir)"
   ]
  },
  {
   "cell_type": "code",
   "execution_count": 32,
   "metadata": {},
   "outputs": [
    {
     "data": {
      "text/html": [
       "<div><span class=\"Text-label\" style=\"display:inline-block; overflow:hidden; white-space:nowrap; text-overflow:ellipsis; min-width:15ex; max-width:15ex; vertical-align:middle; text-align:right\">DAM_price</span>\n",
       "<progress style=\"width:45ex\" max=\"4\" value=\"4\" class=\"Progress-main\"/></progress>\n",
       "<span class=\"Progress-label\"><strong>100%</strong></span>\n",
       "<span class=\"Iteration-label\">4/4</span>\n",
       "<span class=\"Time-label\">[00:00<00:00, 0.00s/it]</span></div>"
      ],
      "text/plain": [
       "\u001b[A\u001b[2K\r",
       "      DAM_price [█████████████████████████████████████████████] 4/4 [00:00<00:00, 0.00s/it]\u001b[B"
      ]
     },
     "metadata": {},
     "output_type": "display_data"
    },
    {
     "data": {
      "text/html": [
       "<div><span class=\"Text-label\" style=\"display:inline-block; overflow:hidden; white-space:nowrap; text-overflow:ellipsis; min-width:15ex; max-width:15ex; vertical-align:middle; text-align:right\">DAM_price_demand</span>\n",
       "<progress style=\"width:45ex\" max=\"10\" value=\"10\" class=\"Progress-main\"/></progress>\n",
       "<span class=\"Progress-label\"><strong>100%</strong></span>\n",
       "<span class=\"Iteration-label\">10/10</span>\n",
       "<span class=\"Time-label\">[00:00<00:00, 0.00s/it]</span></div>"
      ],
      "text/plain": [
       "\u001b[A\u001b[2K\r",
       "DAM_price_deman [█████████████████████████████████████████████] 10/10 [00:00<00:00, 0.00s/it]\u001b[B"
      ]
     },
     "metadata": {},
     "output_type": "display_data"
    },
    {
     "data": {
      "text/html": [
       "<div><span class=\"Text-label\" style=\"display:inline-block; overflow:hidden; white-space:nowrap; text-overflow:ellipsis; min-width:15ex; max-width:15ex; vertical-align:middle; text-align:right\">DAM_price_DE</span>\n",
       "<progress style=\"width:45ex\" max=\"4\" value=\"4\" class=\"Progress-main\"/></progress>\n",
       "<span class=\"Progress-label\"><strong>100%</strong></span>\n",
       "<span class=\"Iteration-label\">4/4</span>\n",
       "<span class=\"Time-label\">[00:00<00:00, 0.00s/it]</span></div>"
      ],
      "text/plain": [
       "\u001b[A\u001b[2K\r",
       "   DAM_price_DE [█████████████████████████████████████████████] 4/4 [00:00<00:00, 0.00s/it]\u001b[B"
      ]
     },
     "metadata": {},
     "output_type": "display_data"
    },
    {
     "data": {
      "text/html": [
       "<div><span class=\"Text-label\" style=\"display:inline-block; overflow:hidden; white-space:nowrap; text-overflow:ellipsis; min-width:15ex; max-width:15ex; vertical-align:middle; text-align:right\">DAM_price_demand_DE</span>\n",
       "<progress style=\"width:45ex\" max=\"2\" value=\"2\" class=\"Progress-main\"/></progress>\n",
       "<span class=\"Progress-label\"><strong>100%</strong></span>\n",
       "<span class=\"Iteration-label\">2/2</span>\n",
       "<span class=\"Time-label\">[06:12<00:00, 186.20s/it]</span></div>"
      ],
      "text/plain": [
       "\u001b[A\u001b[2K\r",
       "DAM_price_deman [█████████████████████████████████████████████] 2/2 [06:12<00:00, 186.20s/it]\u001b[B"
      ]
     },
     "metadata": {},
     "output_type": "display_data"
    },
    {
     "data": {
      "text/html": [
       "<div><span class=\"Text-label\" style=\"display:inline-block; overflow:hidden; white-space:nowrap; text-overflow:ellipsis; min-width:0; max-width:15ex; vertical-align:middle; text-align:right\"></span>\n",
       "<progress style=\"width:60ex\" max=\"25\" value=\"25\" class=\"Progress-main\"/></progress>\n",
       "<span class=\"Progress-label\"><strong>100%</strong></span>\n",
       "<span class=\"Iteration-label\">25/25</span>\n",
       "<span class=\"Time-label\">[06:11<00:15, 14.86s/it]</span></div>"
      ],
      "text/plain": [
       "\u001b[A\u001b[2K\r",
       " [████████████████████████████████████████████████████████████] 25/25 [06:11<00:15, 14.86s/it]"
      ]
     },
     "metadata": {},
     "output_type": "display_data"
    }
   ],
   "source": [
    "fit_models(model_definitions, models_dir)"
   ]
  },
  {
   "cell_type": "code",
   "execution_count": null,
   "metadata": {},
   "outputs": [],
   "source": []
  },
  {
   "cell_type": "code",
   "execution_count": 11,
   "metadata": {},
   "outputs": [
    {
     "name": "stdout",
     "output_type": "stream",
     "text": [
      "Wall time: 5.48 s\n"
     ]
    }
   ],
   "source": [
    "%%time\n",
    "\n",
    "if load_existing_model == True:\n",
    "    smooth_dates = pickle.load(open(f'{models_dir}/DAM_price_p50.pkl', 'rb'))\n",
    "else:\n",
    "    lowess_kwargs = {}\n",
    "    reg_dates = pd.date_range('2009-01-01', '2021-01-01', freq='13W')\n",
    "\n",
    "    smooth_dates = lowess.SmoothDates()\n",
    "    smooth_dates.fit(s_dispatchable.values, s_price.values, dt_idx=s_dispatchable.index, \n",
    "                     reg_dates=reg_dates, frac=0.3, num_fits=31, threshold_value=26, lowess_kwargs=lowess_kwargs)"
   ]
  },
  {
   "cell_type": "code",
   "execution_count": null,
   "metadata": {},
   "outputs": [],
   "source": []
  },
  {
   "cell_type": "code",
   "execution_count": 12,
   "metadata": {},
   "outputs": [
    {
     "name": "stdout",
     "output_type": "stream",
     "text": [
      "Wall time: 332 ms\n"
     ]
    },
    {
     "data": {
      "text/html": [
       "<div>\n",
       "<style scoped>\n",
       "    .dataframe tbody tr th:only-of-type {\n",
       "        vertical-align: middle;\n",
       "    }\n",
       "\n",
       "    .dataframe tbody tr th {\n",
       "        vertical-align: top;\n",
       "    }\n",
       "\n",
       "    .dataframe thead th {\n",
       "        text-align: right;\n",
       "    }\n",
       "</style>\n",
       "<table border=\"1\" class=\"dataframe\">\n",
       "  <thead>\n",
       "    <tr style=\"text-align: right;\">\n",
       "      <th></th>\n",
       "      <th>2009-01-04</th>\n",
       "      <th>2009-01-11</th>\n",
       "      <th>2009-01-18</th>\n",
       "      <th>2009-01-25</th>\n",
       "      <th>2009-02-01</th>\n",
       "      <th>2009-02-08</th>\n",
       "      <th>2009-02-15</th>\n",
       "      <th>2009-02-22</th>\n",
       "      <th>2009-03-01</th>\n",
       "      <th>2009-03-08</th>\n",
       "      <th>...</th>\n",
       "      <th>2020-10-25</th>\n",
       "      <th>2020-11-01</th>\n",
       "      <th>2020-11-08</th>\n",
       "      <th>2020-11-15</th>\n",
       "      <th>2020-11-22</th>\n",
       "      <th>2020-11-29</th>\n",
       "      <th>2020-12-06</th>\n",
       "      <th>2020-12-13</th>\n",
       "      <th>2020-12-20</th>\n",
       "      <th>2020-12-27</th>\n",
       "    </tr>\n",
       "  </thead>\n",
       "  <tbody>\n",
       "    <tr>\n",
       "      <th>8.0</th>\n",
       "      <td>-7.660008</td>\n",
       "      <td>-7.789268</td>\n",
       "      <td>-7.910814</td>\n",
       "      <td>-8.025717</td>\n",
       "      <td>-8.134805</td>\n",
       "      <td>-8.238751</td>\n",
       "      <td>-8.338129</td>\n",
       "      <td>-8.433449</td>\n",
       "      <td>-8.525193</td>\n",
       "      <td>-8.613820</td>\n",
       "      <td>...</td>\n",
       "      <td>10.235374</td>\n",
       "      <td>10.292018</td>\n",
       "      <td>10.347611</td>\n",
       "      <td>10.402138</td>\n",
       "      <td>10.455693</td>\n",
       "      <td>10.508530</td>\n",
       "      <td>10.561129</td>\n",
       "      <td>10.614270</td>\n",
       "      <td>10.669140</td>\n",
       "      <td>10.727071</td>\n",
       "    </tr>\n",
       "    <tr>\n",
       "      <th>8.1</th>\n",
       "      <td>-7.467721</td>\n",
       "      <td>-7.596370</td>\n",
       "      <td>-7.717343</td>\n",
       "      <td>-7.831705</td>\n",
       "      <td>-7.940282</td>\n",
       "      <td>-8.043744</td>\n",
       "      <td>-8.142661</td>\n",
       "      <td>-8.237542</td>\n",
       "      <td>-8.328865</td>\n",
       "      <td>-8.417088</td>\n",
       "      <td>...</td>\n",
       "      <td>10.442911</td>\n",
       "      <td>10.499384</td>\n",
       "      <td>10.554824</td>\n",
       "      <td>10.609219</td>\n",
       "      <td>10.662661</td>\n",
       "      <td>10.715403</td>\n",
       "      <td>10.767921</td>\n",
       "      <td>10.820990</td>\n",
       "      <td>10.875787</td>\n",
       "      <td>10.933636</td>\n",
       "    </tr>\n",
       "    <tr>\n",
       "      <th>8.2</th>\n",
       "      <td>-7.275607</td>\n",
       "      <td>-7.403641</td>\n",
       "      <td>-7.524036</td>\n",
       "      <td>-7.637854</td>\n",
       "      <td>-7.745917</td>\n",
       "      <td>-7.848890</td>\n",
       "      <td>-7.947342</td>\n",
       "      <td>-8.041780</td>\n",
       "      <td>-8.132678</td>\n",
       "      <td>-8.220493</td>\n",
       "      <td>...</td>\n",
       "      <td>10.650337</td>\n",
       "      <td>10.706638</td>\n",
       "      <td>10.761927</td>\n",
       "      <td>10.816190</td>\n",
       "      <td>10.869521</td>\n",
       "      <td>10.922169</td>\n",
       "      <td>10.974607</td>\n",
       "      <td>11.027605</td>\n",
       "      <td>11.082331</td>\n",
       "      <td>11.140099</td>\n",
       "    </tr>\n",
       "    <tr>\n",
       "      <th>8.3</th>\n",
       "      <td>-7.083662</td>\n",
       "      <td>-7.211075</td>\n",
       "      <td>-7.330889</td>\n",
       "      <td>-7.444158</td>\n",
       "      <td>-7.551701</td>\n",
       "      <td>-7.654183</td>\n",
       "      <td>-7.752166</td>\n",
       "      <td>-7.846157</td>\n",
       "      <td>-7.936627</td>\n",
       "      <td>-8.024030</td>\n",
       "      <td>...</td>\n",
       "      <td>10.857636</td>\n",
       "      <td>10.913767</td>\n",
       "      <td>10.968906</td>\n",
       "      <td>11.023039</td>\n",
       "      <td>11.076259</td>\n",
       "      <td>11.128814</td>\n",
       "      <td>11.181173</td>\n",
       "      <td>11.234100</td>\n",
       "      <td>11.288756</td>\n",
       "      <td>11.346444</td>\n",
       "    </tr>\n",
       "    <tr>\n",
       "      <th>8.4</th>\n",
       "      <td>-6.891877</td>\n",
       "      <td>-7.018666</td>\n",
       "      <td>-7.137894</td>\n",
       "      <td>-7.250611</td>\n",
       "      <td>-7.357631</td>\n",
       "      <td>-7.459617</td>\n",
       "      <td>-7.557128</td>\n",
       "      <td>-7.650668</td>\n",
       "      <td>-7.740706</td>\n",
       "      <td>-7.827694</td>\n",
       "      <td>...</td>\n",
       "      <td>11.064795</td>\n",
       "      <td>11.120757</td>\n",
       "      <td>11.175747</td>\n",
       "      <td>11.229751</td>\n",
       "      <td>11.282861</td>\n",
       "      <td>11.335324</td>\n",
       "      <td>11.387606</td>\n",
       "      <td>11.440464</td>\n",
       "      <td>11.495050</td>\n",
       "      <td>11.552659</td>\n",
       "    </tr>\n",
       "  </tbody>\n",
       "</table>\n",
       "<p>5 rows × 626 columns</p>\n",
       "</div>"
      ],
      "text/plain": [
       "     2009-01-04  2009-01-11  2009-01-18  2009-01-25  2009-02-01  2009-02-08  \\\n",
       "8.0   -7.660008   -7.789268   -7.910814   -8.025717   -8.134805   -8.238751   \n",
       "8.1   -7.467721   -7.596370   -7.717343   -7.831705   -7.940282   -8.043744   \n",
       "8.2   -7.275607   -7.403641   -7.524036   -7.637854   -7.745917   -7.848890   \n",
       "8.3   -7.083662   -7.211075   -7.330889   -7.444158   -7.551701   -7.654183   \n",
       "8.4   -6.891877   -7.018666   -7.137894   -7.250611   -7.357631   -7.459617   \n",
       "\n",
       "     2009-02-15  2009-02-22  2009-03-01  2009-03-08  ...  2020-10-25  \\\n",
       "8.0   -8.338129   -8.433449   -8.525193   -8.613820  ...   10.235374   \n",
       "8.1   -8.142661   -8.237542   -8.328865   -8.417088  ...   10.442911   \n",
       "8.2   -7.947342   -8.041780   -8.132678   -8.220493  ...   10.650337   \n",
       "8.3   -7.752166   -7.846157   -7.936627   -8.024030  ...   10.857636   \n",
       "8.4   -7.557128   -7.650668   -7.740706   -7.827694  ...   11.064795   \n",
       "\n",
       "     2020-11-01  2020-11-08  2020-11-15  2020-11-22  2020-11-29  2020-12-06  \\\n",
       "8.0   10.292018   10.347611   10.402138   10.455693   10.508530   10.561129   \n",
       "8.1   10.499384   10.554824   10.609219   10.662661   10.715403   10.767921   \n",
       "8.2   10.706638   10.761927   10.816190   10.869521   10.922169   10.974607   \n",
       "8.3   10.913767   10.968906   11.023039   11.076259   11.128814   11.181173   \n",
       "8.4   11.120757   11.175747   11.229751   11.282861   11.335324   11.387606   \n",
       "\n",
       "     2020-12-13  2020-12-20  2020-12-27  \n",
       "8.0   10.614270   10.669140   10.727071  \n",
       "8.1   10.820990   10.875787   10.933636  \n",
       "8.2   11.027605   11.082331   11.140099  \n",
       "8.3   11.234100   11.288756   11.346444  \n",
       "8.4   11.440464   11.495050   11.552659  \n",
       "\n",
       "[5 rows x 626 columns]"
      ]
     },
     "execution_count": 12,
     "metadata": {},
     "output_type": "execute_result"
    }
   ],
   "source": [
    "%%time\n",
    "\n",
    "x_pred = np.linspace(8, 60, 521)\n",
    "dt_pred = pd.date_range('2009-01-01', '2021-01-01', freq='1W')\n",
    "\n",
    "df_pred = smooth_dates.predict(x_pred=x_pred, dt_pred=dt_pred)\n",
    "\n",
    "df_pred.head()"
   ]
  },
  {
   "cell_type": "code",
   "execution_count": null,
   "metadata": {},
   "outputs": [],
   "source": []
  },
  {
   "cell_type": "code",
   "execution_count": null,
   "metadata": {},
   "outputs": [],
   "source": []
  },
  {
   "cell_type": "code",
   "execution_count": null,
   "metadata": {},
   "outputs": [],
   "source": []
  }
 ],
 "metadata": {
  "kernelspec": {
   "display_name": "MOE",
   "language": "python",
   "name": "moe"
  },
  "language_info": {
   "codemirror_mode": {
    "name": "ipython",
    "version": 3
   },
   "file_extension": ".py",
   "mimetype": "text/x-python",
   "name": "python",
   "nbconvert_exporter": "python",
   "pygments_lexer": "ipython3",
   "version": "3.9.1"
  }
 },
 "nbformat": 4,
 "nbformat_minor": 4
}
