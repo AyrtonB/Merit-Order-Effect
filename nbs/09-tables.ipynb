{
 "cells": [
  {
   "cell_type": "markdown",
   "metadata": {},
   "source": [
    "# Tables\n",
    "\n",
    "- [ ] Literate review results collation\n",
    "- [x] System overview\n",
    "- [x] Carbon intensity estimates\n",
    "- [x] EPF accuracy metrics\n",
    "- [ ] MOE and CO2 results\n",
    "\n",
    "* Should eventually generate all of the plots here as well\n",
    "\n",
    "<br>\n",
    "\n",
    "### Imports"
   ]
  },
  {
   "cell_type": "code",
   "execution_count": 1,
   "metadata": {},
   "outputs": [],
   "source": [
    "import json\n",
    "import numpy as np\n",
    "import pandas as pd\n",
    "\n",
    "from IPython.display import Latex, JSON\n",
    "\n",
    "from moepy import eda"
   ]
  },
  {
   "cell_type": "markdown",
   "metadata": {},
   "source": [
    "<br>\n",
    "\n",
    "### Power Systems Overview"
   ]
  },
  {
   "cell_type": "code",
   "execution_count": 2,
   "metadata": {},
   "outputs": [
    {
     "data": {
      "text/html": [
       "<div>\n",
       "<style scoped>\n",
       "    .dataframe tbody tr th:only-of-type {\n",
       "        vertical-align: middle;\n",
       "    }\n",
       "\n",
       "    .dataframe tbody tr th {\n",
       "        vertical-align: top;\n",
       "    }\n",
       "\n",
       "    .dataframe thead th {\n",
       "        text-align: right;\n",
       "    }\n",
       "</style>\n",
       "<table border=\"1\" class=\"dataframe\">\n",
       "  <thead>\n",
       "    <tr style=\"text-align: right;\">\n",
       "      <th></th>\n",
       "      <th>Biomass</th>\n",
       "      <th>Brown Coal</th>\n",
       "      <th>Gas</th>\n",
       "      <th>Hard Coal</th>\n",
       "      <th>Hydro Power</th>\n",
       "      <th>Oil</th>\n",
       "      <th>Others</th>\n",
       "      <th>Pumped Storage</th>\n",
       "      <th>Seasonal Storage</th>\n",
       "      <th>Solar</th>\n",
       "      <th>Uranium</th>\n",
       "      <th>Wind</th>\n",
       "      <th>net_balance</th>\n",
       "      <th>demand</th>\n",
       "      <th>price</th>\n",
       "    </tr>\n",
       "    <tr>\n",
       "      <th>local_datetime</th>\n",
       "      <th></th>\n",
       "      <th></th>\n",
       "      <th></th>\n",
       "      <th></th>\n",
       "      <th></th>\n",
       "      <th></th>\n",
       "      <th></th>\n",
       "      <th></th>\n",
       "      <th></th>\n",
       "      <th></th>\n",
       "      <th></th>\n",
       "      <th></th>\n",
       "      <th></th>\n",
       "      <th></th>\n",
       "      <th></th>\n",
       "    </tr>\n",
       "  </thead>\n",
       "  <tbody>\n",
       "    <tr>\n",
       "      <th>2010-01-03 23:00:00+00:00</th>\n",
       "      <td>3.637</td>\n",
       "      <td>16.533</td>\n",
       "      <td>4.726</td>\n",
       "      <td>10.078</td>\n",
       "      <td>2.331</td>\n",
       "      <td>0.000</td>\n",
       "      <td>0.0</td>\n",
       "      <td>0.052</td>\n",
       "      <td>0.068</td>\n",
       "      <td>0.0</td>\n",
       "      <td>16.826</td>\n",
       "      <td>0.635</td>\n",
       "      <td>-1.229</td>\n",
       "      <td>53.657</td>\n",
       "      <td>NaN</td>\n",
       "    </tr>\n",
       "    <tr>\n",
       "      <th>2010-01-04 00:00:00+00:00</th>\n",
       "      <td>3.637</td>\n",
       "      <td>16.544</td>\n",
       "      <td>4.856</td>\n",
       "      <td>8.816</td>\n",
       "      <td>2.293</td>\n",
       "      <td>0.000</td>\n",
       "      <td>0.0</td>\n",
       "      <td>0.038</td>\n",
       "      <td>0.003</td>\n",
       "      <td>0.0</td>\n",
       "      <td>16.841</td>\n",
       "      <td>0.528</td>\n",
       "      <td>-1.593</td>\n",
       "      <td>51.963</td>\n",
       "      <td>NaN</td>\n",
       "    </tr>\n",
       "    <tr>\n",
       "      <th>2010-01-04 01:00:00+00:00</th>\n",
       "      <td>3.637</td>\n",
       "      <td>16.368</td>\n",
       "      <td>5.275</td>\n",
       "      <td>7.954</td>\n",
       "      <td>2.299</td>\n",
       "      <td>0.000</td>\n",
       "      <td>0.0</td>\n",
       "      <td>0.032</td>\n",
       "      <td>0.000</td>\n",
       "      <td>0.0</td>\n",
       "      <td>16.846</td>\n",
       "      <td>0.616</td>\n",
       "      <td>-1.378</td>\n",
       "      <td>51.649</td>\n",
       "      <td>NaN</td>\n",
       "    </tr>\n",
       "    <tr>\n",
       "      <th>2010-01-04 02:00:00+00:00</th>\n",
       "      <td>3.637</td>\n",
       "      <td>15.837</td>\n",
       "      <td>5.354</td>\n",
       "      <td>7.681</td>\n",
       "      <td>2.299</td>\n",
       "      <td>0.000</td>\n",
       "      <td>0.0</td>\n",
       "      <td>0.027</td>\n",
       "      <td>0.000</td>\n",
       "      <td>0.0</td>\n",
       "      <td>16.699</td>\n",
       "      <td>0.630</td>\n",
       "      <td>-1.624</td>\n",
       "      <td>50.540</td>\n",
       "      <td>NaN</td>\n",
       "    </tr>\n",
       "    <tr>\n",
       "      <th>2010-01-04 03:00:00+00:00</th>\n",
       "      <td>3.637</td>\n",
       "      <td>15.452</td>\n",
       "      <td>5.918</td>\n",
       "      <td>7.498</td>\n",
       "      <td>2.301</td>\n",
       "      <td>0.003</td>\n",
       "      <td>0.0</td>\n",
       "      <td>0.020</td>\n",
       "      <td>0.000</td>\n",
       "      <td>0.0</td>\n",
       "      <td>16.635</td>\n",
       "      <td>0.713</td>\n",
       "      <td>-0.731</td>\n",
       "      <td>51.446</td>\n",
       "      <td>NaN</td>\n",
       "    </tr>\n",
       "  </tbody>\n",
       "</table>\n",
       "</div>"
      ],
      "text/plain": [
       "                           Biomass  Brown Coal    Gas  Hard Coal  Hydro Power  \\\n",
       "local_datetime                                                                  \n",
       "2010-01-03 23:00:00+00:00    3.637      16.533  4.726     10.078        2.331   \n",
       "2010-01-04 00:00:00+00:00    3.637      16.544  4.856      8.816        2.293   \n",
       "2010-01-04 01:00:00+00:00    3.637      16.368  5.275      7.954        2.299   \n",
       "2010-01-04 02:00:00+00:00    3.637      15.837  5.354      7.681        2.299   \n",
       "2010-01-04 03:00:00+00:00    3.637      15.452  5.918      7.498        2.301   \n",
       "\n",
       "                             Oil  Others  Pumped Storage  Seasonal Storage  \\\n",
       "local_datetime                                                               \n",
       "2010-01-03 23:00:00+00:00  0.000     0.0           0.052             0.068   \n",
       "2010-01-04 00:00:00+00:00  0.000     0.0           0.038             0.003   \n",
       "2010-01-04 01:00:00+00:00  0.000     0.0           0.032             0.000   \n",
       "2010-01-04 02:00:00+00:00  0.000     0.0           0.027             0.000   \n",
       "2010-01-04 03:00:00+00:00  0.003     0.0           0.020             0.000   \n",
       "\n",
       "                           Solar  Uranium   Wind  net_balance  demand  price  \n",
       "local_datetime                                                                \n",
       "2010-01-03 23:00:00+00:00    0.0   16.826  0.635       -1.229  53.657    NaN  \n",
       "2010-01-04 00:00:00+00:00    0.0   16.841  0.528       -1.593  51.963    NaN  \n",
       "2010-01-04 01:00:00+00:00    0.0   16.846  0.616       -1.378  51.649    NaN  \n",
       "2010-01-04 02:00:00+00:00    0.0   16.699  0.630       -1.624  50.540    NaN  \n",
       "2010-01-04 03:00:00+00:00    0.0   16.635  0.713       -0.731  51.446    NaN  "
      ]
     },
     "execution_count": 2,
     "metadata": {},
     "output_type": "execute_result"
    }
   ],
   "source": [
    "df_DE = eda.load_DE_df('../data/energy_charts.csv', '../data/ENTSOE_DE_price.csv')\n",
    "\n",
    "df_DE.head()"
   ]
  },
  {
   "cell_type": "code",
   "execution_count": null,
   "metadata": {},
   "outputs": [],
   "source": []
  },
  {
   "cell_type": "code",
   "execution_count": 3,
   "metadata": {},
   "outputs": [
    {
     "data": {
      "text/plain": [
       "(0.3593124152992342, 55.956133452868855, 30.469415917112606)"
      ]
     },
     "execution_count": 3,
     "metadata": {},
     "output_type": "execute_result"
    }
   ],
   "source": [
    "s_DE_RES_output = df_DE[['Wind', 'Solar']].sum(axis=1)\n",
    "s_DE_demand = df_DE['demand']\n",
    "s_DE_price = df_DE['price']\n",
    "\n",
    "s_DE_RES_pct = s_DE_RES_output/s_DE_demand\n",
    "\n",
    "DE_2020_RES_pct = s_DE_RES_pct['2020'].mean()\n",
    "DE_2020_demand_avg = s_DE_demand['2020'].mean()\n",
    "DE_2020_price_avg = s_DE_price['2020'].mean()\n",
    "\n",
    "DE_2020_RES_pct, DE_2020_demand_avg, DE_2020_price_avg"
   ]
  },
  {
   "cell_type": "code",
   "execution_count": null,
   "metadata": {},
   "outputs": [],
   "source": []
  },
  {
   "cell_type": "code",
   "execution_count": 4,
   "metadata": {},
   "outputs": [
    {
     "data": {
      "text/plain": [
       "(8448.292069623136, 153.80385402105972)"
      ]
     },
     "execution_count": 4,
     "metadata": {},
     "output_type": "execute_result"
    }
   ],
   "source": [
    "DE_fuel_to_co2_intensity = {\n",
    "    'Biomass': 0.39, \n",
    "    'Brown Coal': 0.36, \n",
    "    'Gas': 0.23, \n",
    "    'Hard Coal': 0.34, \n",
    "    'Hydro Power': 0, \n",
    "    'Oil': 0.28,\n",
    "    'Others': 0, \n",
    "    'Pumped Storage': 0, \n",
    "    'Seasonal Storage': 0, \n",
    "    'Solar': 0, \n",
    "    'Uranium': 0,\n",
    "    'Wind': 0, \n",
    "    'net_balance': 0 \n",
    "}\n",
    "\n",
    "s_DE_emissions_tonnes = (df_DE\n",
    "                         [DE_fuel_to_co2_intensity.keys()]\n",
    "                         .multiply(1e3) # converting to MWh\n",
    "                         .multiply(DE_fuel_to_co2_intensity.values())\n",
    "                         .sum(axis=1)\n",
    "                        )\n",
    "\n",
    "s_DE_emissions_tonnes = s_DE_emissions_tonnes[s_DE_emissions_tonnes>2000]\n",
    "s_DE_carbon_intensity = s_DE_emissions_tonnes/s_DE_demand.loc[s_DE_emissions_tonnes.index]\n",
    "\n",
    "DE_2020_emissions_tonnes = s_DE_emissions_tonnes['2020'].mean()\n",
    "DE_2020_ci_avg = s_DE_carbon_intensity['2020'].mean()\n",
    "\n",
    "DE_2020_emissions_tonnes, DE_2020_ci_avg"
   ]
  },
  {
   "cell_type": "code",
   "execution_count": null,
   "metadata": {},
   "outputs": [],
   "source": []
  },
  {
   "cell_type": "code",
   "execution_count": 5,
   "metadata": {},
   "outputs": [],
   "source": [
    "# Loading in\n",
    "df_EI = pd.read_csv('../data/electric_insights.csv')\n",
    "\n",
    "df_EI = df_EI.set_index('local_datetime')\n",
    "df_EI.index = pd.to_datetime(df_EI.index, utc=True)\n",
    "\n",
    "# Extracting RES, demand, and price series\n",
    "s_GB_RES = df_EI[['wind', 'solar']].sum(axis=1)\n",
    "s_GB_demand = df_EI['demand']\n",
    "s_GB_price = df_EI['day_ahead_price']\n",
    "\n",
    "# Generating carbon intensity series\n",
    "GB_fuel_to_co2_intensity = {\n",
    "    'nuclear': 0, \n",
    "    'biomass': 0.121, # from EI \n",
    "    'coal': 0.921, # DUKES 2018 value\n",
    "    'gas': 0.377, # DUKES 2018 value (lower than many CCGT estimates, let alone OCGT)\n",
    "    'hydro': 0, \n",
    "    'pumped_storage': 0, \n",
    "    'solar': 0,\n",
    "    'wind': 0,\n",
    "    'belgian': 0.4,  \n",
    "    'dutch': 0.474, # from EI \n",
    "    'french': 0.053, # from EI \n",
    "    'ireland': 0.458, # from EI \n",
    "    'northern_ireland': 0.458 # from EI \n",
    "}\n",
    "\n",
    "s_GB_emissions_tonnes = (df_EI\n",
    "                         [GB_fuel_to_co2_intensity.keys()]\n",
    "                         .multiply(1e3*0.5) # converting to MWh\n",
    "                         .multiply(GB_fuel_to_co2_intensity.values())\n",
    "                         .sum(axis=1)\n",
    "                        )\n",
    "\n",
    "s_GB_emissions_tonnes = s_GB_emissions_tonnes[s_GB_emissions_tonnes>2000]\n",
    "s_GB_carbon_intensity = s_GB_emissions_tonnes/s_GB_demand.loc[s_GB_emissions_tonnes.index]\n",
    "\n",
    "# Calculating 2020 averages\n",
    "GB_2020_emissions_tonnes = s_GB_emissions_tonnes['2020'].mean()\n",
    "GB_2020_ci_avg = s_GB_carbon_intensity['2020'].mean()\n",
    "GB_2020_RES_pct = (s_GB_RES['2020']/s_GB_demand['2020']).mean()\n",
    "GB_2020_demand_avg = s_GB_demand['2020'].mean()\n",
    "GB_2020_price_avg = s_GB_price['2020'].mean()"
   ]
  },
  {
   "cell_type": "code",
   "execution_count": null,
   "metadata": {},
   "outputs": [],
   "source": []
  },
  {
   "cell_type": "code",
   "execution_count": 6,
   "metadata": {},
   "outputs": [
    {
     "data": {
      "text/html": [
       "<div>\n",
       "<style scoped>\n",
       "    .dataframe tbody tr th:only-of-type {\n",
       "        vertical-align: middle;\n",
       "    }\n",
       "\n",
       "    .dataframe tbody tr th {\n",
       "        vertical-align: top;\n",
       "    }\n",
       "\n",
       "    .dataframe thead th {\n",
       "        text-align: right;\n",
       "    }\n",
       "</style>\n",
       "<table border=\"1\" class=\"dataframe\">\n",
       "  <thead>\n",
       "    <tr style=\"text-align: right;\">\n",
       "      <th></th>\n",
       "      <th>Average Solar/Wind Generation (%)</th>\n",
       "      <th>Average Demand (GW)</th>\n",
       "      <th>Average Price ([EUR,GBP]/MWh)</th>\n",
       "      <th>Average Carbon Intensity  (gCO2/kWh)</th>\n",
       "    </tr>\n",
       "  </thead>\n",
       "  <tbody>\n",
       "    <tr>\n",
       "      <th>Germany</th>\n",
       "      <td>35.93</td>\n",
       "      <td>55.96</td>\n",
       "      <td>30.47</td>\n",
       "      <td>153.80</td>\n",
       "    </tr>\n",
       "    <tr>\n",
       "      <th>Great Britain</th>\n",
       "      <td>29.83</td>\n",
       "      <td>30.61</td>\n",
       "      <td>33.77</td>\n",
       "      <td>101.17</td>\n",
       "    </tr>\n",
       "  </tbody>\n",
       "</table>\n",
       "</div>"
      ],
      "text/plain": [
       "               Average Solar/Wind Generation (%)  Average Demand (GW)  \\\n",
       "Germany                                    35.93                55.96   \n",
       "Great Britain                              29.83                30.61   \n",
       "\n",
       "               Average Price ([EUR,GBP]/MWh)  \\\n",
       "Germany                                30.47   \n",
       "Great Britain                          33.77   \n",
       "\n",
       "               Average Carbon Intensity  (gCO2/kWh)  \n",
       "Germany                                      153.80  \n",
       "Great Britain                                101.17  "
      ]
     },
     "execution_count": 6,
     "metadata": {},
     "output_type": "execute_result"
    }
   ],
   "source": [
    "system_overview_data = {\n",
    "    'Germany': {\n",
    "        'Average Solar/Wind Generation (%)': round(100*DE_2020_RES_pct, 2),\n",
    "        'Average Demand (GW)': round(DE_2020_demand_avg, 2),\n",
    "        'Average Price ([EUR,GBP]/MWh)': round(DE_2020_price_avg, 2),\n",
    "        'Average Carbon Intensity  (gCO2/kWh)': round(DE_2020_ci_avg, 2),\n",
    "    },\n",
    "    'Great Britain': {\n",
    "        'Average Solar/Wind Generation (%)': round(100*GB_2020_RES_pct, 2),\n",
    "        'Average Demand (GW)': round(GB_2020_demand_avg, 2),\n",
    "        'Average Price ([EUR,GBP]/MWh)': round(GB_2020_price_avg, 2),\n",
    "        'Average Carbon Intensity  (gCO2/kWh)': round(GB_2020_ci_avg, 2),\n",
    "    }\n",
    "}\n",
    "\n",
    "df_system_overview = pd.DataFrame(system_overview_data).T\n",
    "\n",
    "df_system_overview.head()"
   ]
  },
  {
   "cell_type": "code",
   "execution_count": null,
   "metadata": {},
   "outputs": [],
   "source": []
  },
  {
   "cell_type": "code",
   "execution_count": 7,
   "metadata": {},
   "outputs": [
    {
     "data": {
      "text/latex": [
       "\\begin{table}\n",
       "\\centering\n",
       "\\caption{Systems overview for 2020}\n",
       "\\label{overview_table}\n",
       "\\begin{tabular}{|l|l|l|l|l|}\n",
       "\\hline\n",
       "{} &  Average Solar/Wind Generation (\\%) &  Average Demand (GW) &  Average Price ([EUR,GBP]/MWh) &  Average Carbon Intensity  (gCO\\textsubscript{2}/kWh) \\\\ \\hline\n",
       "Germany       &                              35.93 &                55.96 &                          30.47 &                                153.80 \\\\ \\hline\n",
       "Great Britain &                              29.83 &                30.61 &                          33.77 &                                101.17 \\\\ \\hline\n",
       "\\end{tabular}\n",
       "\\end{table}\n"
      ],
      "text/plain": [
       "<IPython.core.display.Latex object>"
      ]
     },
     "execution_count": 7,
     "metadata": {},
     "output_type": "execute_result"
    }
   ],
   "source": [
    "get_lined_column_format = lambda n_cols:''.join(n_cols*['|l']) + '|'\n",
    "\n",
    "caption = 'Systems overview for 2020'\n",
    "label = 'overview_table'\n",
    "column_format = get_lined_column_format(df_system_overview.shape[1]+1)\n",
    "\n",
    "latex_str = df_system_overview.to_latex(column_format=column_format, caption=caption, label=label)\n",
    "\n",
    "latex_replacements = {\n",
    "    'CO2': 'CO\\\\textsubscript{2}',\n",
    "    '\\\\\\\\\\n': '\\\\\\\\ \\\\midrule\\n',\n",
    "    'midrule': 'hline',\n",
    "    'toprule': 'hline',\n",
    "    'bottomrule': '',\n",
    "    '\\n\\\\\\n': '\\n',\n",
    "    '\\\\hline\\n\\\\hline': '\\\\hline'\n",
    "}\n",
    "\n",
    "for old, new in latex_replacements.items():\n",
    "    latex_str = latex_str.replace(old, new)\n",
    "\n",
    "Latex(latex_str)"
   ]
  },
  {
   "cell_type": "markdown",
   "metadata": {},
   "source": [
    "<br>\n",
    "\n",
    "### Carbon Intensity Estimates"
   ]
  },
  {
   "cell_type": "code",
   "execution_count": 8,
   "metadata": {},
   "outputs": [
    {
     "data": {
      "text/html": [
       "<div>\n",
       "<style scoped>\n",
       "    .dataframe tbody tr th:only-of-type {\n",
       "        vertical-align: middle;\n",
       "    }\n",
       "\n",
       "    .dataframe tbody tr th {\n",
       "        vertical-align: top;\n",
       "    }\n",
       "\n",
       "    .dataframe thead th {\n",
       "        text-align: right;\n",
       "    }\n",
       "</style>\n",
       "<table border=\"1\" class=\"dataframe\">\n",
       "  <thead>\n",
       "    <tr style=\"text-align: right;\">\n",
       "      <th></th>\n",
       "      <th>Biomass</th>\n",
       "      <th>Coal</th>\n",
       "      <th>Gas</th>\n",
       "      <th>Dutch</th>\n",
       "      <th>French</th>\n",
       "      <th>Ireland</th>\n",
       "    </tr>\n",
       "  </thead>\n",
       "  <tbody>\n",
       "    <tr>\n",
       "      <th>gCO2/kWh</th>\n",
       "      <td>121</td>\n",
       "      <td>921</td>\n",
       "      <td>377</td>\n",
       "      <td>474</td>\n",
       "      <td>53</td>\n",
       "      <td>458</td>\n",
       "    </tr>\n",
       "  </tbody>\n",
       "</table>\n",
       "</div>"
      ],
      "text/plain": [
       "          Biomass  Coal  Gas  Dutch  French  Ireland\n",
       "gCO2/kWh      121   921  377    474      53      458"
      ]
     },
     "execution_count": 8,
     "metadata": {},
     "output_type": "execute_result"
    }
   ],
   "source": [
    "def clean_idxs(s):\n",
    "    s.index = s.index.str.replace('_', ' ').str.title()\n",
    "    return s\n",
    "\n",
    "df_GB_non0_co2_intensity = (pd\n",
    "                            .Series(GB_fuel_to_co2_intensity)\n",
    "                            .replace(0, np.nan)\n",
    "                            .dropna()\n",
    "                            .drop(['belgian', 'northern_ireland'])\n",
    "                            .pipe(clean_idxs)\n",
    "                            .multiply(1e3)\n",
    "                            .astype(int)\n",
    "                            .to_frame()\n",
    "                            .T\n",
    "                            .rename({0: 'gCO2/kWh'})\n",
    "                           )\n",
    "\n",
    "df_GB_non0_co2_intensity"
   ]
  },
  {
   "cell_type": "code",
   "execution_count": null,
   "metadata": {},
   "outputs": [],
   "source": []
  },
  {
   "cell_type": "code",
   "execution_count": 9,
   "metadata": {},
   "outputs": [
    {
     "data": {
      "text/latex": [
       "\\begin{table}\n",
       "\\centering\n",
       "\\caption{Carbon intensity factors for fuel-types and interconnection on the GB power system}\n",
       "\\label{GB_co2_intensity_table}\n",
       "\\begin{tabular}{|l|l|l|l|l|l|l|}\n",
       "\\hline\n",
       "{} &  Biomass &  Coal &  Gas &  Dutch &  French &  Ireland \\\\ \\hline\n",
       "gCO\\textsubscript{2}/kWh &      121 &   921 &  377 &    474 &      53 &      458 \\\\ \\hline\n",
       "\\end{tabular}\n",
       "\\end{table}\n"
      ],
      "text/plain": [
       "<IPython.core.display.Latex object>"
      ]
     },
     "execution_count": 9,
     "metadata": {},
     "output_type": "execute_result"
    }
   ],
   "source": [
    "caption = 'Carbon intensity factors for fuel-types and interconnection on the GB power system'\n",
    "label = 'GB_co2_intensity_table'\n",
    "column_format = get_lined_column_format(df_GB_non0_co2_intensity.shape[1]+1)\n",
    "\n",
    "latex_str = df_GB_non0_co2_intensity.to_latex(column_format=column_format, caption=caption, label=label)\n",
    "\n",
    "latex_replacements = {\n",
    "    'CO2': 'CO\\\\textsubscript{2}',\n",
    "    '\\\\\\\\\\n': '\\\\\\\\ \\\\midrule\\n',\n",
    "    'midrule': 'hline',\n",
    "    'toprule': 'hline',\n",
    "    'bottomrule': '',\n",
    "    '\\n\\\\\\n': '\\n',\n",
    "    '\\\\hline\\n\\\\hline': '\\\\hline'\n",
    "}\n",
    "\n",
    "for old, new in latex_replacements.items():\n",
    "    latex_str = latex_str.replace(old, new)\n",
    "\n",
    "Latex(latex_str)"
   ]
  },
  {
   "cell_type": "code",
   "execution_count": null,
   "metadata": {},
   "outputs": [],
   "source": []
  },
  {
   "cell_type": "code",
   "execution_count": 10,
   "metadata": {},
   "outputs": [
    {
     "data": {
      "text/html": [
       "<div>\n",
       "<style scoped>\n",
       "    .dataframe tbody tr th:only-of-type {\n",
       "        vertical-align: middle;\n",
       "    }\n",
       "\n",
       "    .dataframe tbody tr th {\n",
       "        vertical-align: top;\n",
       "    }\n",
       "\n",
       "    .dataframe thead th {\n",
       "        text-align: right;\n",
       "    }\n",
       "</style>\n",
       "<table border=\"1\" class=\"dataframe\">\n",
       "  <thead>\n",
       "    <tr style=\"text-align: right;\">\n",
       "      <th></th>\n",
       "      <th>Biomass</th>\n",
       "      <th>Brown Coal</th>\n",
       "      <th>Hard Coal</th>\n",
       "      <th>Gas</th>\n",
       "      <th>Oil</th>\n",
       "    </tr>\n",
       "  </thead>\n",
       "  <tbody>\n",
       "    <tr>\n",
       "      <th>gCO2/kWh</th>\n",
       "      <td>390</td>\n",
       "      <td>360</td>\n",
       "      <td>340</td>\n",
       "      <td>230</td>\n",
       "      <td>280</td>\n",
       "    </tr>\n",
       "  </tbody>\n",
       "</table>\n",
       "</div>"
      ],
      "text/plain": [
       "          Biomass  Brown Coal  Hard Coal  Gas  Oil\n",
       "gCO2/kWh      390         360        340  230  280"
      ]
     },
     "execution_count": 10,
     "metadata": {},
     "output_type": "execute_result"
    }
   ],
   "source": [
    "df_DE_non0_co2_intensity = (pd\n",
    "                            .Series(DE_fuel_to_co2_intensity)\n",
    "                            .replace(0, np.nan)\n",
    "                            .dropna()\n",
    "                            [['Biomass', 'Brown Coal', 'Hard Coal', 'Gas', 'Oil']]\n",
    "                            .pipe(clean_idxs)\n",
    "                            .multiply(1e3)\n",
    "                            .astype(int)\n",
    "                            .to_frame()\n",
    "                            .T\n",
    "                            .rename({0: 'gCO2/kWh'})\n",
    "                           )\n",
    "\n",
    "df_DE_non0_co2_intensity"
   ]
  },
  {
   "cell_type": "code",
   "execution_count": null,
   "metadata": {},
   "outputs": [],
   "source": []
  },
  {
   "cell_type": "code",
   "execution_count": 11,
   "metadata": {},
   "outputs": [
    {
     "data": {
      "text/latex": [
       "\\begin{table}\n",
       "\\centering\n",
       "\\caption{Carbon intensity factors for fuel-types and interconnection on the DE power system}\n",
       "\\label{DE_co2_intensity_table}\n",
       "\\begin{tabular}{|l|l|l|l|l|l|}\n",
       "\\hline\n",
       "{} &  Biomass &  Brown Coal &  Hard Coal &  Gas &  Oil \\\\ \\hline\n",
       "gCO\\textsubscript{2}/kWh &      390 &         360 &        340 &  230 &  280 \\\\ \\hline\n",
       "\\end{tabular}\n",
       "\\end{table}\n"
      ],
      "text/plain": [
       "<IPython.core.display.Latex object>"
      ]
     },
     "execution_count": 11,
     "metadata": {},
     "output_type": "execute_result"
    }
   ],
   "source": [
    "caption = 'Carbon intensity factors for fuel-types and interconnection on the DE power system'\n",
    "label = 'DE_co2_intensity_table'\n",
    "column_format = get_lined_column_format(df_DE_non0_co2_intensity.shape[1]+1)\n",
    "\n",
    "latex_str = df_DE_non0_co2_intensity.to_latex(column_format=column_format, caption=caption, label=label)\n",
    "\n",
    "for old, new in latex_replacements.items():\n",
    "    latex_str = latex_str.replace(old, new)\n",
    "\n",
    "Latex(latex_str)"
   ]
  },
  {
   "cell_type": "markdown",
   "metadata": {},
   "source": [
    "<br>\n",
    "\n",
    "### Electricity Price Forecasting Metrics"
   ]
  },
  {
   "cell_type": "code",
   "execution_count": 12,
   "metadata": {},
   "outputs": [
    {
     "data": {
      "application/json": {
       "DE_demand": {
        "mean_abs_err": 18.28336704312868,
        "median_abs_err": 14.67403224443754,
        "root_mean_square_error": 23.560281367239586
       },
       "DE_dispatch": {
        "mean_abs_err": 5.852023979176648,
        "median_abs_err": 4.257075090332123,
        "root_mean_square_error": 8.705711313706535
       },
       "GB_demand": {
        "mean_abs_err": 8.423628315026313,
        "median_abs_err": 6.076142585411503,
        "root_mean_square_error": 13.57255404896023
       },
       "GB_dispatch": {
        "mean_abs_err": 6.55687702607074,
        "median_abs_err": 4.47311519486,
        "root_mean_square_error": 12.053853844276484
       }
      },
      "text/plain": [
       "<IPython.core.display.JSON object>"
      ]
     },
     "execution_count": 12,
     "metadata": {
      "application/json": {
       "expanded": false,
       "root": "root"
      }
     },
     "output_type": "execute_result"
    }
   ],
   "source": [
    "with open('../data/results/price_model_accuracy_metrics.json', 'r') as fp:\n",
    "    model_accuracy_metrics = json.load(fp)\n",
    "    \n",
    "JSON(model_accuracy_metrics)"
   ]
  },
  {
   "cell_type": "code",
   "execution_count": null,
   "metadata": {},
   "outputs": [],
   "source": []
  },
  {
   "cell_type": "code",
   "execution_count": 13,
   "metadata": {},
   "outputs": [
    {
     "data": {
      "text/html": [
       "<div>\n",
       "<style scoped>\n",
       "    .dataframe tbody tr th:only-of-type {\n",
       "        vertical-align: middle;\n",
       "    }\n",
       "\n",
       "    .dataframe tbody tr th {\n",
       "        vertical-align: top;\n",
       "    }\n",
       "\n",
       "    .dataframe thead th {\n",
       "        text-align: right;\n",
       "    }\n",
       "</style>\n",
       "<table border=\"1\" class=\"dataframe\">\n",
       "  <thead>\n",
       "    <tr style=\"text-align: right;\">\n",
       "      <th></th>\n",
       "      <th>Dispatchable Load</th>\n",
       "      <th>Total Load</th>\n",
       "    </tr>\n",
       "  </thead>\n",
       "  <tbody>\n",
       "    <tr>\n",
       "      <th>Germany</th>\n",
       "      <td>5.85</td>\n",
       "      <td>18.28</td>\n",
       "    </tr>\n",
       "    <tr>\n",
       "      <th>Great Britain</th>\n",
       "      <td>6.56</td>\n",
       "      <td>8.42</td>\n",
       "    </tr>\n",
       "  </tbody>\n",
       "</table>\n",
       "</div>"
      ],
      "text/plain": [
       "               Dispatchable Load  Total Load\n",
       "Germany                     5.85       18.28\n",
       "Great Britain               6.56        8.42"
      ]
     },
     "execution_count": 13,
     "metadata": {},
     "output_type": "execute_result"
    }
   ],
   "source": [
    "model_accuracy_data = {\n",
    "    'Germany': {\n",
    "        'Dispatchable Load': round(model_accuracy_metrics['DE_dispatch']['mean_abs_err'], 2),\n",
    "        'Total Load': round(model_accuracy_metrics['DE_demand']['mean_abs_err'], 2),\n",
    "    },\n",
    "    'Great Britain': {\n",
    "        'Dispatchable Load': round(model_accuracy_metrics['GB_dispatch']['mean_abs_err'], 2),\n",
    "        'Total Load': round(model_accuracy_metrics['GB_demand']['mean_abs_err'], 2),\n",
    "    }\n",
    "}\n",
    "\n",
    "df_model_accuracy = pd.DataFrame(model_accuracy_data).T\n",
    "\n",
    "df_model_accuracy.head()"
   ]
  },
  {
   "cell_type": "code",
   "execution_count": null,
   "metadata": {},
   "outputs": [],
   "source": []
  },
  {
   "cell_type": "code",
   "execution_count": 14,
   "metadata": {},
   "outputs": [
    {
     "data": {
      "text/latex": [
       "\\begin{table}\n",
       "\\centering\n",
       "\\caption{Price forecasting model accuracy when regressing against dispatchable and total load for GB and DE.}\n",
       "\\label{model_accuracy_table}\n",
       "\\begin{tabular}{|l|l|l|}\n",
       "\\hline\n",
       "{} &  Dispatchable Load &  Total Load \\\\ \\hline\n",
       "Germany       &               5.85 &       18.28 \\\\ \\hline\n",
       "Great Britain &               6.56 &        8.42 \\\\ \\hline\n",
       "\\end{tabular}\n",
       "\\end{table}\n"
      ],
      "text/plain": [
       "<IPython.core.display.Latex object>"
      ]
     },
     "execution_count": 14,
     "metadata": {},
     "output_type": "execute_result"
    }
   ],
   "source": [
    "caption = 'Price forecasting model accuracy when regressing against dispatchable and total load for GB and DE.'\n",
    "label = 'model_accuracy_table'\n",
    "column_format = get_lined_column_format(df_model_accuracy.shape[1]+1)\n",
    "\n",
    "latex_str = df_model_accuracy.to_latex(column_format=column_format, caption=caption, label=label)\n",
    "\n",
    "for old, new in latex_replacements.items():\n",
    "    latex_str = latex_str.replace(old, new)\n",
    "\n",
    "Latex(latex_str)"
   ]
  },
  {
   "cell_type": "markdown",
   "metadata": {},
   "source": [
    "<br>\n",
    "\n",
    "### Price and CO2 MOE Results"
   ]
  },
  {
   "cell_type": "code",
   "execution_count": 23,
   "metadata": {},
   "outputs": [
    {
     "data": {
      "text/html": [
       "<div>\n",
       "<style scoped>\n",
       "    .dataframe tbody tr th:only-of-type {\n",
       "        vertical-align: middle;\n",
       "    }\n",
       "\n",
       "    .dataframe tbody tr th {\n",
       "        vertical-align: top;\n",
       "    }\n",
       "\n",
       "    .dataframe thead th {\n",
       "        text-align: right;\n",
       "    }\n",
       "</style>\n",
       "<table border=\"1\" class=\"dataframe\">\n",
       "  <thead>\n",
       "    <tr style=\"text-align: right;\">\n",
       "      <th></th>\n",
       "      <th>prediction</th>\n",
       "      <th>counterfactual</th>\n",
       "      <th>observed</th>\n",
       "      <th>moe</th>\n",
       "    </tr>\n",
       "    <tr>\n",
       "      <th>local_datetime</th>\n",
       "      <th></th>\n",
       "      <th></th>\n",
       "      <th></th>\n",
       "      <th></th>\n",
       "    </tr>\n",
       "  </thead>\n",
       "  <tbody>\n",
       "    <tr>\n",
       "      <th>2009-01-01 00:00:00+00:00</th>\n",
       "      <td>37.203441</td>\n",
       "      <td>37.313379</td>\n",
       "      <td>58.05</td>\n",
       "      <td>0.109938</td>\n",
       "    </tr>\n",
       "    <tr>\n",
       "      <th>2009-01-01 00:30:00+00:00</th>\n",
       "      <td>37.313379</td>\n",
       "      <td>37.535135</td>\n",
       "      <td>56.33</td>\n",
       "      <td>0.221756</td>\n",
       "    </tr>\n",
       "    <tr>\n",
       "      <th>2009-01-01 01:00:00+00:00</th>\n",
       "      <td>36.768513</td>\n",
       "      <td>36.985087</td>\n",
       "      <td>52.98</td>\n",
       "      <td>0.216574</td>\n",
       "    </tr>\n",
       "    <tr>\n",
       "      <th>2009-01-01 01:30:00+00:00</th>\n",
       "      <td>35.595162</td>\n",
       "      <td>35.807631</td>\n",
       "      <td>50.39</td>\n",
       "      <td>0.212469</td>\n",
       "    </tr>\n",
       "    <tr>\n",
       "      <th>2009-01-01 02:00:00+00:00</th>\n",
       "      <td>34.849422</td>\n",
       "      <td>35.063119</td>\n",
       "      <td>48.70</td>\n",
       "      <td>0.213697</td>\n",
       "    </tr>\n",
       "  </tbody>\n",
       "</table>\n",
       "</div>"
      ],
      "text/plain": [
       "                           prediction  counterfactual  observed       moe\n",
       "local_datetime                                                           \n",
       "2009-01-01 00:00:00+00:00   37.203441       37.313379     58.05  0.109938\n",
       "2009-01-01 00:30:00+00:00   37.313379       37.535135     56.33  0.221756\n",
       "2009-01-01 01:00:00+00:00   36.768513       36.985087     52.98  0.216574\n",
       "2009-01-01 01:30:00+00:00   35.595162       35.807631     50.39  0.212469\n",
       "2009-01-01 02:00:00+00:00   34.849422       35.063119     48.70  0.213697"
      ]
     },
     "execution_count": 23,
     "metadata": {},
     "output_type": "execute_result"
    }
   ],
   "source": [
    "def set_dt_idx(df, dt_idx_col='local_datetime'):\n",
    "    df = df.set_index(dt_idx_col)\n",
    "    df.index = pd.to_datetime(df.index, utc=True)\n",
    "    \n",
    "    return df\n",
    "\n",
    "df_GB_price_results_ts = pd.read_csv('../data/results/GB_price.csv').pipe(set_dt_idx)\n",
    "df_DE_price_results_ts = pd.read_csv('../data/results/DE_price.csv').pipe(set_dt_idx)\n",
    "df_GB_carbon_results_ts = pd.read_csv('../data/results/GB_carbon.csv').pipe(set_dt_idx)\n",
    "df_DE_carbon_results_ts = pd.read_csv('../data/results/DE_carbon.csv').pipe(set_dt_idx)\n",
    "\n",
    "df_GB_price_results_ts.head()"
   ]
  },
  {
   "cell_type": "code",
   "execution_count": null,
   "metadata": {},
   "outputs": [],
   "source": []
  },
  {
   "cell_type": "code",
   "execution_count": 34,
   "metadata": {},
   "outputs": [
    {
     "data": {
      "text/html": [
       "<div>\n",
       "<style scoped>\n",
       "    .dataframe tbody tr th:only-of-type {\n",
       "        vertical-align: middle;\n",
       "    }\n",
       "\n",
       "    .dataframe tbody tr th {\n",
       "        vertical-align: top;\n",
       "    }\n",
       "\n",
       "    .dataframe thead th {\n",
       "        text-align: right;\n",
       "    }\n",
       "</style>\n",
       "<table border=\"1\" class=\"dataframe\">\n",
       "  <thead>\n",
       "    <tr style=\"text-align: right;\">\n",
       "      <th></th>\n",
       "      <th>Germany</th>\n",
       "      <th>Great Britain</th>\n",
       "    </tr>\n",
       "  </thead>\n",
       "  <tbody>\n",
       "    <tr>\n",
       "      <th>Price ([EUR,GBP]/MWh)</th>\n",
       "      <td>22.17</td>\n",
       "      <td>13.89</td>\n",
       "    </tr>\n",
       "    <tr>\n",
       "      <th>Price (%)</th>\n",
       "      <td>43.43</td>\n",
       "      <td>29.66</td>\n",
       "    </tr>\n",
       "    <tr>\n",
       "      <th>Carbon (Tonnes/h)</th>\n",
       "      <td>5563.22</td>\n",
       "      <td>1657.88</td>\n",
       "    </tr>\n",
       "    <tr>\n",
       "      <th>Carbon (%)</th>\n",
       "      <td>39.70</td>\n",
       "      <td>37.89</td>\n",
       "    </tr>\n",
       "  </tbody>\n",
       "</table>\n",
       "</div>"
      ],
      "text/plain": [
       "                       Germany  Great Britain\n",
       "Price ([EUR,GBP]/MWh)    22.17          13.89\n",
       "Price (%)                43.43          29.66\n",
       "Carbon (Tonnes/h)      5563.22        1657.88\n",
       "Carbon (%)               39.70          37.89"
      ]
     },
     "execution_count": 34,
     "metadata": {},
     "output_type": "execute_result"
    }
   ],
   "source": [
    "MOE_results_data = {\n",
    "    'Germany': {\n",
    "        'Price ([EUR,GBP]/MWh)': round(df_DE_price_results_ts.loc['2020', 'moe'].mean(), 2),\n",
    "        'Price (%)': round(100*(df_DE_price_results_ts.loc['2020', 'moe']*df_DE['demand']).sum()/((df_DE_price_results_ts.loc['2020', 'observed']+df_DE_price_results_ts.loc['2020', 'moe'])*df_DE['demand']).sum(), 2),\n",
    "        'Carbon (Tonnes/h)': round(df_DE_carbon_results_ts.loc['2020', 'moe'].mean(), 2),\n",
    "        'Carbon (%)': round(100*(df_DE_carbon_results_ts.loc['2020', 'moe'].sum()/(df_DE_carbon_results_ts.loc['2020', 'observed']+df_DE_carbon_results_ts.loc['2020', 'moe']).sum()).mean(), 2)\n",
    "    },\n",
    "    'Great Britain': {\n",
    "        'Price ([EUR,GBP]/MWh)': round(df_GB_price_results_ts.loc['2020', 'moe'].mean(), 2),\n",
    "        'Price (%)': round(100*(df_GB_price_results_ts.loc['2020', 'moe']*df_EI['demand']).sum()/((df_GB_price_results_ts.loc['2020', 'observed']+df_GB_price_results_ts.loc['2020', 'moe'])*df_EI['demand']).sum(), 2),\n",
    "        'Carbon (Tonnes/h)': round(df_GB_carbon_results_ts.loc['2020', 'moe'].mean(), 2), # doubled to make it the same hourly rate as DE\n",
    "        'Carbon (%)': round(100*(df_GB_carbon_results_ts.loc['2020', 'moe'].sum()/(df_GB_carbon_results_ts.loc['2020', 'observed']+df_GB_carbon_results_ts.loc['2020', 'moe']).sum()).mean(), 2)\n",
    "    }\n",
    "}\n",
    "\n",
    "df_MOE_results = (pd\n",
    "                  .DataFrame(MOE_results_data)\n",
    "                 )\n",
    "\n",
    "df_MOE_results.head()"
   ]
  },
  {
   "cell_type": "code",
   "execution_count": null,
   "metadata": {},
   "outputs": [],
   "source": []
  },
  {
   "cell_type": "code",
   "execution_count": 35,
   "metadata": {},
   "outputs": [
    {
     "data": {
      "text/latex": [
       "\\begin{table}\n",
       "\\centering\n",
       "\\caption{2020 Merit Order Effect results overview (weighted )}\n",
       "\\label{moe_results_table}\n",
       "\\begin{tabular}{|l|l|l|}\n",
       "\\hline\n",
       "{} &  Germany &  Great Britain \\\\ \\hline\n",
       "Price ([EUR,GBP]/MWh) &    22.17 &          13.89 \\\\ \\hline\n",
       "Price (\\%)             &    43.43 &          29.66 \\\\ \\hline\n",
       "Carbon (Tonnes/h)     &  5563.22 &        1657.88 \\\\ \\hline\n",
       "Carbon (\\%)            &    39.70 &          37.89 \\\\ \\hline\n",
       "\\end{tabular}\n",
       "\\end{table}\n"
      ],
      "text/plain": [
       "<IPython.core.display.Latex object>"
      ]
     },
     "execution_count": 35,
     "metadata": {},
     "output_type": "execute_result"
    }
   ],
   "source": [
    "caption = '2020 Merit Order Effect results overview (weighted )'\n",
    "label = 'moe_results_table'\n",
    "column_format = get_lined_column_format(df_MOE_results.shape[1]+1)\n",
    "\n",
    "latex_str = df_MOE_results.to_latex(column_format=column_format, caption=caption, label=label)\n",
    "\n",
    "for old, new in latex_replacements.items():\n",
    "    latex_str = latex_str.replace(old, new)\n",
    "\n",
    "Latex(latex_str)"
   ]
  },
  {
   "cell_type": "code",
   "execution_count": null,
   "metadata": {},
   "outputs": [],
   "source": []
  }
 ],
 "metadata": {
  "kernelspec": {
   "display_name": "MOE",
   "language": "python",
   "name": "moe"
  },
  "language_info": {
   "codemirror_mode": {
    "name": "ipython",
    "version": 3
   },
   "file_extension": ".py",
   "mimetype": "text/x-python",
   "name": "python",
   "nbconvert_exporter": "python",
   "pygments_lexer": "ipython3",
   "version": "3.9.1"
  }
 },
 "nbformat": 4,
 "nbformat_minor": 4
}
