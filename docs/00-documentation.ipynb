{
 "cells": [
  {
   "cell_type": "code",
   "execution_count": 1,
   "metadata": {},
   "outputs": [],
   "source": [
    "#default_exp utils"
   ]
  },
  {
   "cell_type": "markdown",
   "metadata": {},
   "source": [
    "# Utilities\n",
    "\n",
    "This notebook documents the general utility functions developed in this research\n",
    "\n",
    "<br>\n",
    "\n",
    "### Imports"
   ]
  },
  {
   "cell_type": "code",
   "execution_count": 2,
   "metadata": {},
   "outputs": [],
   "source": [
    "#exports\n",
    "import json\n",
    "import numpy as np\n",
    "import pandas as pd\n",
    "\n",
    "import junix\n",
    "from html.parser import HTMLParser\n",
    "from nbdev.export2html import convert_md\n",
    "\n",
    "import os\n",
    "import re\n",
    "import codecs\n",
    "from ipypb import track\n",
    "from warnings import warn"
   ]
  },
  {
   "cell_type": "markdown",
   "metadata": {},
   "source": [
    "<br>\n",
    "\n",
    "### User Inputs"
   ]
  },
  {
   "cell_type": "code",
   "execution_count": 3,
   "metadata": {},
   "outputs": [],
   "source": [
    "dev_nbs_dir = '../nbs'\n",
    "docs_dir = '.'\n",
    "ug_docs_dir = 'user-guide'\n",
    "docs_nb_img_dir = f'{docs_dir}/img/nbs'"
   ]
  },
  {
   "cell_type": "markdown",
   "metadata": {},
   "source": [
    "<br>\n",
    "\n",
    "### Converting the Notebooks to Documentation\n",
    "\n",
    "We'll first convert the notebooks to markdown"
   ]
  },
  {
   "cell_type": "code",
   "execution_count": 4,
   "metadata": {},
   "outputs": [],
   "source": [
    "#exports\n",
    "def convert_file_to_json(filepath):\n",
    "    with open(filepath, 'r', encoding='utf8') as f:\n",
    "        contents = f.read()\n",
    "        f.close()\n",
    "\n",
    "    return json.loads(contents)\n",
    "\n",
    "junix.exporter.convert_file_to_json = convert_file_to_json\n",
    "\n",
    "def encode_file_as_utf8(fp):\n",
    "    with codecs.open(fp, 'r') as file:\n",
    "        contents = file.read(1048576)\n",
    "        file.close()\n",
    "\n",
    "        if not contents:\n",
    "            pass\n",
    "        else:\n",
    "            with codecs.open(fp, 'w', 'utf-8') as file:\n",
    "                file.write(contents)\n",
    "            \n",
    "def convert_nb_to_md(nb_file, nbs_dir, docs_nb_img_dir, docs_dir):\n",
    "    nb_fp = f'{nbs_dir}/{nb_file}'\n",
    "    junix.export_images(nb_fp, docs_nb_img_dir)\n",
    "    convert_md(nb_fp, docs_dir, img_path=f'{docs_nb_img_dir}/', jekyll=False)\n",
    "\n",
    "    md_fp =  docs_dir + '/'+ nb_file.replace('.ipynb', '') + '.md'\n",
    "    encode_file_as_utf8(md_fp)"
   ]
  },
  {
   "cell_type": "code",
   "execution_count": 5,
   "metadata": {},
   "outputs": [],
   "source": [
    "nb_file = 'dev-03-lowess.ipynb'\n",
    "\n",
    "convert_nb_to_md(nb_file, dev_nbs_dir, docs_nb_img_dir, docs_dir)"
   ]
  },
  {
   "cell_type": "markdown",
   "metadata": {},
   "source": [
    "<br>\n",
    "\n",
    "We'll then parse the HTML tables into markdown"
   ]
  },
  {
   "cell_type": "code",
   "execution_count": 6,
   "metadata": {},
   "outputs": [],
   "source": [
    "#exports\n",
    "class MyHTMLParser(HTMLParser):\n",
    "    def __init__(self):\n",
    "        super().__init__()\n",
    "        self.tags = []\n",
    "    \n",
    "    def handle_starttag(self, tag, attrs):\n",
    "        self.tags.append(self.get_starttag_text())\n",
    "\n",
    "    def handle_endtag(self, tag):\n",
    "        self.tags.append(f\"</{tag}>\")\n",
    "        \n",
    "get_substring_idxs = lambda string, substring: [num for num in range(len(string)-len(substring)+1) if string[num:num+len(substring)]==substring]\n",
    "\n",
    "def convert_df_to_md(df):\n",
    "    idx_col = df.columns[0]\n",
    "    df = df.set_index(idx_col)\n",
    "    \n",
    "    if not isinstance(df.index.name, str):\n",
    "        df.index.name = df.index.name[-1]\n",
    "        \n",
    "    df.columns = [col[0] if not isinstance(col, str) else col for col in df.columns]\n",
    "    \n",
    "    table_md = df.to_markdown()\n",
    "    \n",
    "    return table_md\n",
    "\n",
    "def extract_div_to_md_table(start_idx, end_idx, table_and_div_tags, file_txt):\n",
    "    n_start_divs_before = table_and_div_tags[:start_idx].count('<div>')\n",
    "    n_end_divs_before = table_and_div_tags[:end_idx].count('</div>')\n",
    "    \n",
    "    div_start_idx = get_substring_idxs(file_txt, '<div>')[n_start_divs_before-1]\n",
    "    div_end_idx = get_substring_idxs(file_txt, '</div>')[n_end_divs_before]\n",
    "\n",
    "    div_txt = file_txt[div_start_idx:div_end_idx]\n",
    "    potential_dfs = pd.read_html(div_txt)\n",
    "    \n",
    "    assert len(potential_dfs) == 1, 'Multiple tables were found when there should be only one'\n",
    "    df = potential_dfs[0]\n",
    "    md_table = convert_df_to_md(df)\n",
    "\n",
    "    return div_txt, md_table\n",
    "\n",
    "def extract_div_to_md_tables(md_fp):\n",
    "    with open(md_fp, 'r') as f:\n",
    "        file_txt = f.read()\n",
    "        \n",
    "    parser = MyHTMLParser()\n",
    "    parser.feed(file_txt)\n",
    "\n",
    "    table_and_div_tags = [tag for tag in parser.tags if tag in ['<div>', '</div>', '<table border=\"1\" class=\"dataframe\">', '</table>']]\n",
    "    \n",
    "    table_start_tag_idxs = [i for i, tag in enumerate(table_and_div_tags) if tag=='<table border=\"1\" class=\"dataframe\">']\n",
    "    table_end_tag_idxs = [table_start_tag_idx+table_and_div_tags[table_start_tag_idx:].index('</table>') for table_start_tag_idx in table_start_tag_idxs]\n",
    "\n",
    "    div_to_md_tables = []\n",
    "\n",
    "    for start_idx, end_idx in zip(table_start_tag_idxs, table_end_tag_idxs):\n",
    "        div_txt, md_table = extract_div_to_md_table(start_idx, end_idx, table_and_div_tags, file_txt)\n",
    "        div_to_md_tables += [(div_txt, md_table)]\n",
    "        \n",
    "    return div_to_md_tables\n",
    "\n",
    "def clean_md_file_tables(md_fp):\n",
    "    div_to_md_tables = extract_div_to_md_tables(md_fp)\n",
    "    \n",
    "    with open(md_fp, 'r') as f:\n",
    "        md_file_text = f.read()\n",
    "\n",
    "    for div_txt, md_txt in div_to_md_tables:\n",
    "        md_file_text = md_file_text.replace(div_txt, md_txt)\n",
    "\n",
    "    with open(md_fp, 'w') as f:\n",
    "        f.write(md_file_text)\n",
    "        \n",
    "    return"
   ]
  },
  {
   "cell_type": "code",
   "execution_count": 7,
   "metadata": {},
   "outputs": [],
   "source": [
    "md_fp = 'dev-03-lowess.md'\n",
    "\n",
    "clean_md_file_tables(md_fp)"
   ]
  },
  {
   "cell_type": "code",
   "execution_count": null,
   "metadata": {},
   "outputs": [],
   "source": []
  },
  {
   "cell_type": "code",
   "execution_count": 16,
   "metadata": {},
   "outputs": [],
   "source": [
    "#exports\n",
    "def correct_png_name(incorrect_png_name, md_fp):\n",
    "    cell, output = incorrect_png_name.split('_')[1:]\n",
    "    filename = md_fp.split('/')[-1][:-3]\n",
    "    \n",
    "    corrected_png_name = f\"{filename}_cell_{int(cell)+1}_output_{output}\"\n",
    "    \n",
    "    return corrected_png_name\n",
    "\n",
    "get_nb_naive_png_names = lambda img_dir: [f[:-4] for f in os.listdir(img_dir) if f[:6]=='output']\n",
    "\n",
    "def specify_nb_in_img_fp(md_fp, img_dir='img/nbs'):\n",
    "    nb_naive_png_names = get_nb_naive_png_names(img_dir)\n",
    "    nb_specific_png_names = [correct_png_name(nb_naive_png_name, md_fp) for nb_naive_png_name in nb_naive_png_names]\n",
    "\n",
    "    for nb_naive_png_name, nb_specific_png_name in zip(nb_naive_png_names, nb_specific_png_names):\n",
    "        old_img_fp = f'{img_dir}/{nb_naive_png_name}.png'\n",
    "        new_img_fp = f'{img_dir}/{nb_specific_png_name}.png'\n",
    "\n",
    "        os.remove(new_img_fp) if os.path.exists(new_img_fp) else None\n",
    "        os.rename(old_img_fp, new_img_fp)"
   ]
  },
  {
   "cell_type": "code",
   "execution_count": 17,
   "metadata": {},
   "outputs": [],
   "source": [
    "specify_nb_in_img_fp(md_fp)"
   ]
  },
  {
   "cell_type": "markdown",
   "metadata": {},
   "source": [
    "<br>\n",
    "\n",
    "And finally clean the filepaths and filenames for any images in the notebooks"
   ]
  },
  {
   "cell_type": "code",
   "execution_count": 20,
   "metadata": {},
   "outputs": [],
   "source": [
    "#exports\n",
    "def get_filename_correction_map(md_file_text, md_fp):\n",
    "    png_idxs = [png_str.start() for png_str in re.finditer('.png\\)', md_file_text)] \n",
    "    png_names = [md_file_text[:png_idx].split('/')[-1] for png_idx in png_idxs]\n",
    "\n",
    "    filename_correction_map = {\n",
    "        f'{png_name}.png': f'{correct_png_name(png_name, md_fp)}.png'\n",
    "        for png_name \n",
    "        in png_names\n",
    "        if png_name[:6] == 'output' \n",
    "    }\n",
    "\n",
    "    return filename_correction_map\n",
    "\n",
    "def clean_md_text_img_fps(md_file_text, md_fp):\n",
    "    md_file_text = md_file_text.replace('../docs/img/nbs', 'img/nbs')\n",
    "\n",
    "    filename_correction_map = get_filename_correction_map(md_file_text, md_fp)\n",
    "\n",
    "    for incorrect_name, correct_name in filename_correction_map.items():\n",
    "        md_file_text = md_file_text.replace(incorrect_name, correct_name)\n",
    "        \n",
    "    return md_file_text\n",
    "\n",
    "def clean_md_files_img_fps(md_fp):\n",
    "    with open(md_fp, 'r') as f:\n",
    "        md_file_text = f.read()\n",
    "\n",
    "    md_file_text = clean_md_text_img_fps(md_file_text, md_fp)\n",
    "\n",
    "    with open(md_fp, 'w') as f:\n",
    "        f.write(md_file_text)\n",
    "        \n",
    "    return"
   ]
  },
  {
   "cell_type": "code",
   "execution_count": null,
   "metadata": {},
   "outputs": [],
   "source": []
  },
  {
   "cell_type": "code",
   "execution_count": 21,
   "metadata": {},
   "outputs": [],
   "source": [
    "#exports\n",
    "def convert_and_clean_nb_to_md(nbs_dir, docs_nb_img_dir, docs_dir):\n",
    "    nb_files = [f for f in os.listdir(nbs_dir) if f[-6:]=='.ipynb']\n",
    "\n",
    "    for nb_file in track(nb_files):\n",
    "        convert_nb_to_md(nb_file, nbs_dir, docs_nb_img_dir, docs_dir)\n",
    "        \n",
    "        md_fp = nb_file.replace('ipynb', 'md')\n",
    "    \n",
    "        clean_md_file_tables(md_fp)\n",
    "        specify_nb_in_img_fp(md_fp)\n",
    "        clean_md_files_img_fps(md_fp)"
   ]
  },
  {
   "cell_type": "code",
   "execution_count": 22,
   "metadata": {},
   "outputs": [
    {
     "data": {
      "text/html": [
       "<div><span class=\"Text-label\" style=\"display:inline-block; overflow:hidden; white-space:nowrap; text-overflow:ellipsis; min-width:0; max-width:15ex; vertical-align:middle; text-align:right\"></span>\n",
       "<progress style=\"width:60ex\" max=\"14\" value=\"14\" class=\"Progress-main\"/></progress>\n",
       "<span class=\"Progress-label\"><strong>100%</strong></span>\n",
       "<span class=\"Iteration-label\">14/14</span>\n",
       "<span class=\"Time-label\">[00:18<00:00, 1.30s/it]</span></div>"
      ],
      "text/plain": [
       "\u001b[A\u001b[2K\r",
       " [████████████████████████████████████████████████████████████] 14/14 [00:18<00:00, 1.30s/it]"
      ]
     },
     "metadata": {},
     "output_type": "display_data"
    }
   ],
   "source": [
    "for nb_dir in [dev_nbs_dir]:\n",
    "    convert_and_clean_nb_to_md(nb_dir, docs_nb_img_dir, docs_dir)"
   ]
  },
  {
   "cell_type": "code",
   "execution_count": null,
   "metadata": {},
   "outputs": [],
   "source": []
  }
 ],
 "metadata": {
  "kernelspec": {
   "display_name": "batopt",
   "language": "python",
   "name": "batopt"
  },
  "language_info": {
   "codemirror_mode": {
    "name": "ipython",
    "version": 3
   },
   "file_extension": ".py",
   "mimetype": "text/x-python",
   "name": "python",
   "nbconvert_exporter": "python",
   "pygments_lexer": "ipython3",
   "version": "3.9.1"
  }
 },
 "nbformat": 4,
 "nbformat_minor": 5
}
